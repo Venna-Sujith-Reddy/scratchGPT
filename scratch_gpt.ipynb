{
 "cells": [
  {
   "cell_type": "markdown",
   "id": "e4dc401b",
   "metadata": {},
   "source": [
    "Word Embedding chapter 2.1 assignment\n"
   ]
  },
  {
   "cell_type": "code",
   "execution_count": 1,
   "id": "36a88fd9",
   "metadata": {},
   "outputs": [
    {
     "name": "stdout",
     "output_type": "stream",
     "text": [
      "Total number of characters in the file: 20479\n",
      "I HAD always thought Jack Gisburn rather a cheap genius--though a good fellow enough--so it was no g\n"
     ]
    }
   ],
   "source": [
    "with open('corpus/the-verdict.txt', 'r', encoding='utf-8') as file:\n",
    "    raw_text = file.read()\n",
    "print(\"Total number of characters in the file:\", len(raw_text))\n",
    "print(raw_text[:100])\n",
    "\n",
    "\n",
    "\n",
    "\n",
    "\n",
    "\n",
    "\n"
   ]
  },
  {
   "cell_type": "markdown",
   "id": "10513aa4",
   "metadata": {},
   "source": []
  },
  {
   "cell_type": "code",
   "execution_count": 2,
   "id": "cf43e497",
   "metadata": {},
   "outputs": [
    {
     "name": "stdout",
     "output_type": "stream",
     "text": [
      "['hello,', ' ', 'world!', ' ', 'a;lkjf', ' ', 'i', ' ', 'know', ' ', 'htat', ' ', 'if', ' ', 'happens']\n"
     ]
    }
   ],
   "source": [
    "import re \n",
    "text='hello, world! a;lkjf i know htat if happens'\n",
    "result=re.split(r'(\\s)',text)\n",
    "print(result)\n",
    "\n",
    "\n",
    "\n",
    "\n",
    "\n",
    "\n",
    "\n"
   ]
  },
  {
   "cell_type": "code",
   "execution_count": 3,
   "id": "79e0957c",
   "metadata": {},
   "outputs": [
    {
     "name": "stdout",
     "output_type": "stream",
     "text": [
      "['hello', ',', '', ' ', 'world!', ' ', 'a', ';', 'lkjf', ' ', 'i', ' ', 'know', ' ', 'htat', ' ', 'if', ' ', 'happens']\n"
     ]
    }
   ],
   "source": [
    "import re \n",
    "text='hello, world! a;lkjf i know htat if happens'\n",
    "result2=re.split(r'([\\s,;])',text)\n",
    "print(result2)\n",
    "\n",
    "\n",
    "\n",
    "\n",
    "\n",
    "\n",
    "\n"
   ]
  },
  {
   "cell_type": "code",
   "execution_count": 4,
   "id": "4ef9ce03",
   "metadata": {},
   "outputs": [
    {
     "name": "stdout",
     "output_type": "stream",
     "text": [
      "['I', ' ', 'HAD', ' ', 'always', ' ', 'thought', ' ', 'Jack', ' ', 'Gisburn', ' ', 'rather', ' ', 'a', ' ', 'cheap', ' ', 'genius', '-', '-', 'though', ' ', 'a', ' ', 'good', ' ', 'fellow', ' ', 'enough', '-', '-', 'so', ' ', 'it', ' ', 'was', ' ', 'no', ' ', 'great', ' ', 'surprise', ' ', 'to', ' ', 'me', ' ', 'to', ' ', 'hear', ' ', 'that', ',', ' ', 'in', ' ', 'the', ' ', 'height', ' ', 'of', ' ', 'his', ' ', 'glory', ',', ' ', 'he', ' ', 'had', ' ', 'dropped', ' ', 'his', ' ', 'painting', ',', ' ', 'married', ' ', 'a', ' ', 'rich', ' ', 'widow', ',', ' ', 'and', ' ', 'established', ' ', 'himself', ' ', 'in', ' ', 'a', ' ', 'villa', ' ', 'on', ' ', 'the', ' ', 'Riviera', '.', ' ', '(', 'Though', ' ', 'I', ' ', 'rather', ' ', 'thought', ' ', 'it', ' ', 'would', ' ', 'have', ' ', 'been', ' ', 'Rome', ' ', 'or', ' ', 'Florence', '.', ')', '\\n\\n', '\"', 'The', ' ', 'height', ' ', 'of', ' ', 'his', ' ', 'glory', '\"', '-', '-', 'that', ' ', 'was', ' ', 'what', ' ', 'the', ' ', 'women', ' ', 'called', ' ', 'it', '.', ' ', 'I', ' ', 'can', ' ', 'hear', ' ', 'Mrs', '.', ' ', 'Gideon', ' ', 'Thwing', '-', '-', 'his', ' ', 'last', ' ', 'Chicago', ' ', 'sitter', '-', '-', 'deploring', ' ', 'his', ' ', 'unaccountable', ' ', 'abdication', '.', ' ', '\"', 'Of', ' ', 'course', ' ', 'it', \"'\", 's', ' ', 'going', ' ', 'to', ' ', 'send', ' ', 'the', ' ', 'value', ' ', 'of', ' ', 'my', ' ', 'picture', ' ', \"'\", 'way', ' ', 'up', ';', ' ', 'but', ' ', 'I', ' ', 'don', \"'\", 't', ' ', 'think', ' ', 'of', ' ', 'that', ',', ' ', 'Mr', '.', ' ', 'Rickham', '-', '-', 'the', ' ', 'loss', ' ', 'to', ' ', 'Arrt', ' ', 'is', ' ', 'all', ' ', 'I', ' ', 'think', ' ', 'of', '.', '\"', ' ', 'The', ' ', 'word', ',', ' ', 'on', ' ', 'Mrs', '.', ' ', 'Thwing', \"'\", 's', ' ', 'lips', ',', ' ', 'multiplied', ' ', 'its', ' ', '_rs_', ' ', 'as', ' ', 'though', ' ', 'they', ' ', 'were', ' ', 'reflected', ' ', 'in', ' ', 'an', ' ', 'endless', ' ', 'vista', ' ', 'of', ' ', 'mirrors', '.', ' ', 'And', ' ', 'it', ' ', 'was', ' ', 'not', ' ', 'only', ' ', 'the', ' ', 'Mrs', '.', ' ', 'Thwings', ' ', 'who', ' ', 'mourned', '.', ' ', 'Had', ' ', 'not', ' ', 'the', ' ', 'exquisite', ' ', 'Hermia', ' ', 'Croft', ',', ' ', 'at', ' ', 'the', ' ', 'last', ' ', 'Grafton', ' ', 'Gallery', ' ', 'show', ',', ' ', 'stopped', ' ', 'me', ' ', 'before', ' ', 'Gisburn', \"'\", 's', ' ', '\"', 'Moon', '-', 'dancers', '\"', ' ', 'to', ' ', 'say', ',', ' ', 'with', ' ', 'tears', ' ', 'in', ' ', 'her', ' ', 'eyes', ':', ' ', '\"', 'We', ' ', 'shall', ' ', 'not', ' ', 'look', ' ', 'upon', ' ', 'its', ' ', 'like', ' ', 'again', '\"', '?', '\\n\\n', 'Well', '!', '-', '-', 'even', ' ', 'through', ' ', 'the', ' ', 'prism', ' ', 'of', ' ', 'Hermia', \"'\", 's', ' ', 'tears', ' ', 'I', ' ', 'felt', ' ', 'able', ' ', 'to', ' ', 'face', ' ', 'the', ' ', 'fact', ' ', 'with', ' ', 'equanimity', '.', ' ', 'Poor', ' ', 'Jack', ' ', 'Gisburn', '!', ' ', 'The', ' ', 'women', ' ', 'had', ' ', 'made', ' ', 'him', '-', '-', 'it', ' ', 'was', ' ', 'fitting', ' ', 'that', ' ', 'they', ' ', 'should', ' ', 'mourn', ' ', 'him', '.', ' ', 'Among', ' ', 'his', ' ', 'own', ' ', 'sex', ' ', 'fewer', ' ', 'regrets', ' ', 'were', ' ', 'heard', ',', ' ']\n"
     ]
    }
   ],
   "source": [
    "import re\n",
    "\n",
    "# Read the text from the file\n",
    "with open('corpus/the-verdict.txt', 'r', encoding='utf-8') as f:\n",
    "    verdict_text = f.read()\n",
    "\n",
    "# Use regex to split so that every word, whitespace, and special character is a separate token\n",
    "# This will match words, whitespace, or any single non-whitespace, non-word character\n",
    "tokens = re.findall(r'\\w+|\\s+|[^\\w\\s]', verdict_text)\n",
    "\n",
    "# Print the first 50 tokens as a check\n",
    "print(tokens[:500])\n",
    "\n"
   ]
  },
  {
   "cell_type": "code",
   "execution_count": 5,
   "id": "72208955",
   "metadata": {},
   "outputs": [
    {
     "name": "stdout",
     "output_type": "stream",
     "text": [
      "['I', 'HAD', 'always', 'thought', 'Jack', 'Gisburn', 'rather', 'a', 'cheap', 'genius', '-', '-', 'though', 'a', 'good', 'fellow', 'enough', '-', '-', 'so', 'it', 'was', 'no', 'great', 'surprise', 'to', 'me', 'to', 'hear', 'that', ',', 'in', 'the', 'height', 'of', 'his', 'glory', ',', 'he', 'had', 'dropped', 'his', 'painting', ',', 'married', 'a', 'rich', 'widow', ',', 'and', 'established', 'himself', 'in', 'a', 'villa', 'on', 'the', 'Riviera', '.', '(', 'Though', 'I', 'rather', 'thought', 'it', 'would', 'have', 'been', 'Rome', 'or', 'Florence', '.', ')', '\"', 'The', 'height', 'of', 'his', 'glory', '\"', '-', '-', 'that', 'was', 'what', 'the', 'women', 'called', 'it', '.', 'I', 'can', 'hear', 'Mrs', '.', 'Gideon', 'Thwing', '-', '-', 'his', 'last', 'Chicago', 'sitter', '-', '-', 'deploring', 'his', 'unaccountable', 'abdication', '.', '\"', 'Of', 'course', 'it', \"'\", 's', 'going', 'to', 'send', 'the', 'value', 'of', 'my', 'picture', \"'\", 'way', 'up', ';', 'but', 'I', 'don', \"'\", 't', 'think', 'of', 'that', ',', 'Mr', '.', 'Rickham', '-', '-', 'the', 'loss', 'to', 'Arrt', 'is', 'all', 'I', 'think', 'of', '.', '\"', 'The', 'word', ',', 'on', 'Mrs', '.', 'Thwing', \"'\", 's', 'lips', ',', 'multiplied', 'its', '_rs_', 'as', 'though', 'they', 'were', 'reflected', 'in', 'an', 'endless', 'vista', 'of', 'mirrors', '.', 'And', 'it', 'was', 'not', 'only', 'the', 'Mrs', '.', 'Thwings', 'who', 'mourned', '.', 'Had', 'not', 'the', 'exquisite', 'Hermia', 'Croft', ',', 'at', 'the', 'last', 'Grafton', 'Gallery', 'show', ',', 'stopped', 'me', 'before', 'Gisburn', \"'\", 's', '\"', 'Moon', '-', 'dancers', '\"', 'to', 'say', ',', 'with', 'tears', 'in', 'her', 'eyes', ':', '\"', 'We', 'shall', 'not', 'look', 'upon', 'its', 'like', 'again', '\"', '?', 'Well', '!', '-', '-', 'even', 'through', 'the', 'prism', 'of', 'Hermia', \"'\", 's', 'tears', 'I', 'felt', 'able', 'to', 'face', 'the', 'fact', 'with', 'equanimity', '.', 'Poor', 'Jack', 'Gisburn', '!', 'The', 'women', 'had', 'made', 'him', '-', '-', 'it', 'was', 'fitting', 'that', 'they', 'should', 'mourn', 'him', '.', 'Among', 'his', 'own', 'sex', 'fewer', 'regrets', 'were', 'heard', ',', 'and', 'in', 'his', 'own', 'trade', 'hardly', 'a', 'murmur', '.', 'Professional', 'jealousy', '?', 'Perhaps', '.', 'If', 'it', 'were', ',', 'the', 'honour', 'of', 'the', 'craft', 'was', 'vindicated', 'by', 'little', 'Claude', 'Nutley', ',', 'who', ',', 'in', 'all', 'good', 'faith', ',', 'brought', 'out', 'in', 'the', 'Burlington', 'a', 'very', 'handsome', '\"', 'obituary', '\"', 'on', 'Jack', '-', '-', 'one', 'of', 'those', 'showy', 'articles', 'stocked', 'with', 'random', 'technicalities', 'that', 'I', 'have', 'heard', '(', 'I', 'won', \"'\", 't', 'say', 'by', 'whom', ')', 'compared', 'to', 'Gisburn', \"'\", 's', 'painting', '.', 'And', 'so', '-', '-', 'his', 'resolve', 'being', 'apparently', 'irrevocable', '-', '-', 'the', 'discussion', 'gradually', 'died', 'out', ',', 'and', ',', 'as', 'Mrs', '.', 'Thwing', 'had', 'predicted', ',', 'the', 'price', 'of', '\"', 'Gisburns', '\"', 'went', 'up', '.', 'It', 'was', 'not', 'till', 'three', 'years', 'later', 'that', ',', 'in', 'the', 'course', 'of', 'a', 'few', 'weeks', \"'\", 'idling', 'on', 'the', 'Riviera', ',', 'it', 'suddenly', 'occurred', 'to', 'me', 'to', 'wonder', 'why', 'Gisburn', 'had', 'given', 'up', 'his', 'painting', '.', 'On', 'reflection', ',', 'it', 'really', 'was', 'a', 'tempting', 'problem', '.', 'To', 'accuse', 'his', 'wife', 'would', 'have', 'been', 'too', 'easy', '-', '-', 'his', 'fair', 'sitters', 'had', 'been', 'denied', 'the', 'solace', 'of', 'saying', 'that', 'Mrs', '.', 'Gisburn', 'had', '\"', 'dragged', 'him', 'down', '.', '\"', 'For', 'Mrs', '.', 'Gisburn', '-', '-', 'as', 'such', '-', '-', 'had', 'not', 'existed', 'till', 'nearly', 'a', 'year']\n"
     ]
    }
   ],
   "source": [
    "tokens_no_whitespace = [token for token in tokens if not token.isspace()]\n",
    "print(tokens_no_whitespace[:500])\n"
   ]
  },
  {
   "cell_type": "code",
   "execution_count": 6,
   "id": "34598981",
   "metadata": {},
   "outputs": [
    {
     "data": {
      "text/plain": [
       "4827"
      ]
     },
     "execution_count": 6,
     "metadata": {},
     "output_type": "execute_result"
    }
   ],
   "source": [
    "len(tokens_no_whitespace)"
   ]
  },
  {
   "cell_type": "code",
   "execution_count": 7,
   "id": "a405b943",
   "metadata": {},
   "outputs": [
    {
     "name": "stdout",
     "output_type": "stream",
     "text": [
      "Vocabulary size: 1148\n"
     ]
    }
   ],
   "source": [
    "all_words=sorted(set(tokens_no_whitespace))\n",
    "vocab_size=len(all_words)\n",
    "print(f\"Vocabulary size: {vocab_size}\")"
   ]
  },
  {
   "cell_type": "code",
   "execution_count": 8,
   "id": "481bd46c",
   "metadata": {},
   "outputs": [
    {
     "name": "stdout",
     "output_type": "stream",
     "text": [
      "[('!', 0), ('\"', 1), (\"'\", 2), ('(', 3), (')', 4), (',', 5), ('-', 6), ('.', 7), (':', 8), (';', 9), ('?', 10), ('A', 11), ('Ah', 12), ('Among', 13), ('And', 14), ('Are', 15), ('Arrt', 16), ('As', 17), ('At', 18), ('Be', 19), ('Begin', 20), ('Burlington', 21), ('But', 22), ('By', 23), ('Carlo', 24), ('Chicago', 25), ('Claude', 26), ('Come', 27), ('Croft', 28), ('Destroyed', 29), ('Devonshire', 30), ('Don', 31), ('Dubarry_', 32), ('Emperors', 33), ('Florence', 34), ('For', 35), ('Gallery', 36), ('Gideon', 37), ('Gisburn', 38), ('Gisburns', 39), ('Grafton', 40), ('Greek', 41), ('Grindle', 42), ('Grindles', 43), ('HAD', 44), ('Had', 45), ('Hang', 46), ('Has', 47), ('He', 48), ('Her', 49)]\n"
     ]
    }
   ],
   "source": [
    "word_to_index = {word: idx for idx, word in enumerate(all_words)}\n",
    "print(list(word_to_index.items())[:50])\n"
   ]
  },
  {
   "cell_type": "code",
   "execution_count": 9,
   "id": "64c0075a",
   "metadata": {},
   "outputs": [],
   "source": [
    "class SimpleTokenizerV1:\n",
    "    def __init__(self, vocab):\n",
    "        self.str_to_idx = {word: idx for idx, word in enumerate(vocab)}\n",
    "        self.idx_to_str = {idx: word for word, idx in self.str_to_idx.items()}\n",
    "        self.unk_token = \"<unk>\" if \"<unk>\" in self.str_to_idx else None\n",
    "\n",
    "    def encode(self, text):\n",
    "        preprocessed_text = re.sub(r'[^\\w\\s]', '', text)\n",
    "        words = preprocessed_text.split()\n",
    "        if self.unk_token is not None:\n",
    "            return [self.str_to_idx[word] if word in self.str_to_idx else self.str_to_idx[self.unk_token] for word in words]\n",
    "        else:\n",
    "            return [self.str_to_idx[word] for word in words]\n",
    "\n",
    "    def decode(self, ids):\n",
    "        text = ' '.join([self.idx_to_str[idx] if idx in self.idx_to_str else (self.unk_token if self.unk_token is not None else '') for idx in ids])\n",
    "        text = re.sub(r'\\s+', ' ', text)\n",
    "        return text.strip()\n"
   ]
  },
  {
   "cell_type": "code",
   "execution_count": 10,
   "id": "6f500ec6",
   "metadata": {},
   "outputs": [
    {
     "name": "stdout",
     "output_type": "stream",
     "text": [
      "Encoded: [53, 530, 163, 1021, 57, 38, 835, 129, 271, 518, 452, 410, 925, 599, 1096, 723, 524, 979, 1034, 676, 1034, 548, 1005, 582, 1006, 551, 736, 562, 514, 546, 530, 388, 562, 762, 674, 129, 858, 1120, 170, 415, 560, 582, 129, 1085, 741, 1006, 84]\n",
      "Decoded: I had always thought Jack Gisburn rather a cheap good fellow enough so it was no great surprise to me to hear that in the height of his glory he had dropped his painting married a rich widow and established himself in a villa on the Riviera\n"
     ]
    }
   ],
   "source": [
    "# Let's test the SimpleTokenizerV1 class with a sample text\n",
    "# Ensure the sample text only contains words from the vocab\n",
    "sample_text = \"I had always thought Jack Gisburn rather a cheap good fellow enough so it was no great surprise to me to hear that in the height of his glory he had dropped his painting married a rich widow and established himself in a villa on the Riviera\"\n",
    "tokenizer = SimpleTokenizerV1(all_words)\n",
    "\n",
    "# Encode the sample text\n",
    "encoded = tokenizer.encode(sample_text)\n",
    "print(\"Encoded:\", encoded)\n",
    "\n",
    "# Decode the encoded ids\n",
    "decoded = tokenizer.decode(encoded)\n",
    "print(\"Decoded:\", decoded)\n"
   ]
  },
  {
   "cell_type": "code",
   "execution_count": 11,
   "id": "d37dfa76",
   "metadata": {},
   "outputs": [
    {
     "name": "stdout",
     "output_type": "stream",
     "text": [
      "Vocabulary size (with special tokens): 1150\n",
      "Last 5 vocab entries: [('yet', 1143), ('you', 1144), ('younger', 1145), ('your', 1146), ('yourself', 1147)]\n"
     ]
    }
   ],
   "source": [
    "# Add special tokens to the vocabulary and update the mappings\n",
    "special_tokens = ['<eot>', '<unk>']\n",
    "for token in special_tokens:\n",
    "    if token not in all_words:\n",
    "        all_words.append(token)\n",
    "\n",
    "# Update vocab_size\n",
    "vocab_size = len(all_words)\n",
    "print(f\"Vocabulary size (with special tokens): {vocab_size}\")\n",
    "\n",
    "\n",
    "\n",
    "# Show the last few entries to confirm special tokens are present\n",
    "print(\"Last 5 vocab entries:\", list(word_to_index.items())[-5:])\n"
   ]
  },
  {
   "cell_type": "code",
   "execution_count": 12,
   "id": "617f5d30",
   "metadata": {},
   "outputs": [
    {
     "name": "stdout",
     "output_type": "stream",
     "text": [
      "hello, world! a;lkjf i know htat if happens<eot>In the height of his glory, he had dropped his painting, married a rich widow, and established himself in a villa on the Riviera.\n"
     ]
    }
   ],
   "source": [
    "text1='hello, world! a;lkjf i know htat if happens'\n",
    "text2=\"In the height of his glory, he had dropped his painting, married a rich widow, and established himself in a villa on the Riviera.\"\n",
    "\n",
    "text=\"<eot>\".join([text1,text2])\n",
    "print(text)\n",
    "\n",
    "\n",
    "\n",
    "\n",
    "\n",
    "\n",
    "\n",
    "\n",
    "\n"
   ]
  },
  {
   "cell_type": "code",
   "execution_count": 13,
   "id": "91f8d248",
   "metadata": {},
   "outputs": [
    {
     "name": "stdout",
     "output_type": "stream",
     "text": [
      "[1149, 1149, 1149, 1149, 609, 1149, 580, 1149, 1006, 551, 736, 562, 514, 546, 530, 388, 562, 762, 674, 129, 858, 1120, 170, 415, 560, 582, 129, 1085, 741, 1006, 84]\n"
     ]
    }
   ],
   "source": [
    "tokenizer=SimpleTokenizerV1(all_words)\n",
    "\n",
    "print(tokenizer.encode(text))\n",
    "\n",
    "\n",
    "\n",
    "\n",
    "\n",
    "\n",
    "\n",
    "\n"
   ]
  },
  {
   "cell_type": "code",
   "execution_count": 14,
   "id": "6da7884e",
   "metadata": {},
   "outputs": [
    {
     "name": "stdout",
     "output_type": "stream",
     "text": [
      "[9906, 11, 1917, 0, 578, 6383, 8644, 555, 3279, 411, 1254, 80596, 13] 13\n",
      "Hello, world! The Verdict by Edith Wharton.\n"
     ]
    }
   ],
   "source": [
    "import tiktoken\n",
    "\n",
    "# Common choices:\n",
    "# - \"cl100k_base\": used by GPT-4/3.5 Turbo\n",
    "# - \"gpt2\": used by GPT‑2/3 legacy\n",
    "enc = tiktoken.get_encoding(\"cl100k_base\")\n",
    "\n",
    "text = \"Hello, world! The Verdict by Edith Wharton.\"\n",
    "ids = enc.encode(text)                 # list of token ids\n",
    "print(ids, len(ids))\n",
    "print(enc.decode(ids))                 # back to string"
   ]
  },
  {
   "cell_type": "code",
   "execution_count": 15,
   "id": "7a6a5bda",
   "metadata": {},
   "outputs": [
    {
     "name": "stdout",
     "output_type": "stream",
     "text": [
      "Hello, world! The Verdict by Edith Wharton.\n"
     ]
    }
   ],
   "source": [
    "decoded_text = enc.decode(ids)\n",
    "print(decoded_text)\n"
   ]
  },
  {
   "cell_type": "code",
   "execution_count": 16,
   "id": "9bbef0cf",
   "metadata": {},
   "outputs": [
    {
     "name": "stdout",
     "output_type": "stream",
     "text": [
      "4943\n"
     ]
    }
   ],
   "source": [
    "with open('corpus/the-verdict.txt', 'r') as file:\n",
    "    raw_text = file.read()\n",
    "\n",
    "\n",
    "enc_text=enc.encode(raw_text)\n",
    "print(len(enc_text))\n",
    "\n",
    "\n"
   ]
  },
  {
   "cell_type": "code",
   "execution_count": 17,
   "id": "2ed3d3cd",
   "metadata": {},
   "outputs": [
    {
     "name": "stdout",
     "output_type": "stream",
     "text": [
      "[40, 473, 1846, 2744, 3463, 7762, 480, 285, 22464, 4856, 264, 12136, 35201, 313, 4636, 264, 1695, 12637, 3403, 313, 708, 433, 574, 912, 2294, 13051, 311, 757, 311, 6865, 430, 11, 304, 279, 2673, 315, 813, 27025, 11, 568, 1047, 12504, 813, 19354, 11, 12502, 264, 9257, 57896, 11, 323, 9749, 5678, 304, 264, 47625, 389, 279, 51768, 26919, 13, 320, 27831, 358, 4856, 3463, 433, 1053, 617, 1027, 22463, 477, 48606, 9456, 10227, 2673, 315, 813, 27025, 75857, 9210, 574, 1148, 279, 3278, 2663, 433, 13, 358, 649, 6865, 18083, 13, 480, 100242, 666, 24510, 313, 26301, 1566]\n"
     ]
    }
   ],
   "source": [
    "sample_100 = enc_text[:100]\n",
    "print(sample_100)\n"
   ]
  },
  {
   "cell_type": "code",
   "execution_count": 18,
   "id": "67d0f056",
   "metadata": {},
   "outputs": [],
   "source": [
    "context_size=4\n",
    "\n",
    "x=enc_text[:context_size]\n"
   ]
  },
  {
   "cell_type": "code",
   "execution_count": 19,
   "id": "91ffe7f7",
   "metadata": {},
   "outputs": [],
   "source": [
    "import torch\n",
    "import torch\n",
    "from torch.utils.data import Dataset, DataLoader\n",
    "\n",
    "class GPTDatasetV1(Dataset):\n",
    "    def __init__(self, txt, tokenizer, max_length, stride):\n",
    "        self.input_ids = []\n",
    "        self.target_ids = []\n",
    "\n",
    "        token_ids = tokenizer.encode(txt)  #1\n",
    "\n",
    "        for i in range(0, len(token_ids) - max_length, stride):  #2\n",
    "            input_chunk = token_ids[i : i + max_length]\n",
    "            target_chunk = token_ids[i + 1 : i + max_length + 1]\n",
    "            self.input_ids.append(torch.tensor(input_chunk))\n",
    "            self.target_ids.append(torch.tensor(target_chunk))\n",
    "\n",
    "    def __len__(self):  #3\n",
    "        return len(self.input_ids)\n",
    "\n",
    "    def __getitem__(self, idx):  #4\n",
    "        return self.input_ids[idx], self.target_ids[idx]\n",
    "        "
   ]
  },
  {
   "cell_type": "code",
   "execution_count": 20,
   "id": "da758490",
   "metadata": {},
   "outputs": [],
   "source": [
    "dataset=GPTDatasetV1(txt=raw_text,tokenizer=enc,max_length=4,stride=10)"
   ]
  },
  {
   "cell_type": "code",
   "execution_count": 21,
   "id": "7f1ef64d",
   "metadata": {},
   "outputs": [
    {
     "data": {
      "text/plain": [
       "494"
      ]
     },
     "execution_count": 21,
     "metadata": {},
     "output_type": "execute_result"
    }
   ],
   "source": [
    "len(dataset)\n",
    "\n",
    "\n"
   ]
  },
  {
   "cell_type": "code",
   "execution_count": 22,
   "id": "6cb9fd17",
   "metadata": {},
   "outputs": [
    {
     "name": "stdout",
     "output_type": "stream",
     "text": [
      "tensor([[ 1.2060, -0.7730, -0.0956,  ..., -0.4125, -2.7102,  0.3494],\n",
      "        [ 1.6967, -0.2756, -0.4620,  ..., -1.1007, -0.2496,  0.5449],\n",
      "        [-0.8040, -0.0762,  0.7493,  ..., -1.4044, -0.5454, -0.7256],\n",
      "        ...,\n",
      "        [-2.1472,  0.8617,  1.7225,  ...,  0.1360, -0.8286, -0.5756],\n",
      "        [ 0.9590, -1.3280,  0.6165,  ..., -0.5281,  0.7335, -0.8516],\n",
      "        [ 0.9699,  1.3338, -0.0244,  ..., -0.0155,  0.1764, -1.0619]],\n",
      "       grad_fn=<EmbeddingBackward0>)\n"
     ]
    }
   ],
   "source": [
    "import torch\n",
    "import torch.nn as nn\n",
    "\n",
    "# Define a simple embedding layer\n",
    "vocab_size =50257 # assuming enc_text contains all token ids\n",
    "embedding_dim = 256  # you can choose any dimension\n",
    "\n",
    "embedding_layer = nn.Embedding(vocab_size, embedding_dim)\n",
    "\n",
    "# Example: get embeddings for the first 10 tokens\n",
    "input_tokens = torch.tensor(enc_text[:10])\n",
    "embeddings = embedding_layer(input_tokens)\n",
    "print(embeddings)\n"
   ]
  },
  {
   "cell_type": "code",
   "execution_count": 23,
   "id": "cde40c80",
   "metadata": {},
   "outputs": [
    {
     "name": "stdout",
     "output_type": "stream",
     "text": [
      "Token IDs:\n",
      " tensor([[   40,   367,  2885,  1464],\n",
      "        [ 1807,  3619,   402,   271],\n",
      "        [10899,  2138,   257,  7026],\n",
      "        [15632,   438,  2016,   257],\n",
      "        [  922,  5891,  1576,   438],\n",
      "        [  568,   340,   373,   645],\n",
      "        [ 1049,  5975,   284,   502],\n",
      "        [  284,  3285,   326,    11]])\n",
      "\n",
      "Inputs shape:\n",
      " torch.Size([8, 4])\n"
     ]
    }
   ],
   "source": [
    "def create_dataloader_v1(txt, batch_size=4, max_length=256, stride=128, shuffle=True, drop_last=True, num_workers=0):\n",
    "    tokenizer = tiktoken.get_encoding(\"gpt2\")\n",
    "    dataset = GPTDatasetV1(txt, tokenizer, max_length, stride)\n",
    "    dataloader = DataLoader(\n",
    "        dataset,\n",
    "        batch_size=batch_size,\n",
    "        shuffle=shuffle,\n",
    "        drop_last=drop_last,\n",
    "        num_workers=num_workers\n",
    "    )\n",
    "    return dataloader\n",
    "\n",
    "max_length = 4\n",
    "dataloader = create_dataloader_v1(\n",
    "    raw_text, batch_size=8, max_length=max_length,\n",
    "    stride=max_length, shuffle=False\n",
    ")\n",
    "data_iter = iter(dataloader)\n",
    "inputs, targets = next(data_iter)\n",
    "print(\"Token IDs:\\n\", inputs)\n",
    "print(\"\\nInputs shape:\\n\", inputs.shape)\n"
   ]
  },
  {
   "cell_type": "code",
   "execution_count": 24,
   "id": "bf63adf4",
   "metadata": {},
   "outputs": [
    {
     "name": "stdout",
     "output_type": "stream",
     "text": [
      "torch.Size([8, 4, 256])\n"
     ]
    }
   ],
   "source": [
    "token_embeddings=embedding_layer(inputs)\n",
    "print(token_embeddings.shape)"
   ]
  },
  {
   "cell_type": "code",
   "execution_count": null,
   "id": "5cc5e648",
   "metadata": {},
   "outputs": [],
   "source": []
  },
  {
   "cell_type": "markdown",
   "id": "72034fdd",
   "metadata": {},
   "source": [
    "absolute embeddings layer"
   ]
  },
  {
   "cell_type": "code",
   "execution_count": 25,
   "id": "94d37944",
   "metadata": {},
   "outputs": [
    {
     "name": "stdout",
     "output_type": "stream",
     "text": [
      "tensor([[ 0.3677, -0.7716, -1.2460,  ..., -0.3170,  1.0472,  0.1746],\n",
      "        [-0.5792,  1.2155, -0.9391,  ...,  1.1642, -0.9020,  0.4881],\n",
      "        [ 1.2584,  1.1623,  0.1212,  ...,  1.2759, -0.3133, -0.5376],\n",
      "        [-1.6087, -0.5998,  0.2156,  ...,  0.8640, -0.6135, -0.1138]],\n",
      "       grad_fn=<EmbeddingBackward0>)\n"
     ]
    }
   ],
   "source": [
    "context_length=max_length\n",
    "pos_embedding_layer=torch.nn.Embedding(context_length,embedding_dim)\n",
    "positional_embeddings=pos_embedding_layer(torch.arange(context_length))\n",
    "print(positional_embeddings)"
   ]
  },
  {
   "cell_type": "code",
   "execution_count": 26,
   "id": "0f8b19f8",
   "metadata": {},
   "outputs": [
    {
     "name": "stdout",
     "output_type": "stream",
     "text": [
      "torch.Size([8, 4, 256])\n"
     ]
    }
   ],
   "source": [
    "input_embeddings=positional_embeddings+token_embeddings\n",
    "\n",
    "print(input_embeddings.shape)"
   ]
  },
  {
   "cell_type": "code",
   "execution_count": 27,
   "id": "aa87cda8",
   "metadata": {},
   "outputs": [
    {
     "name": "stdout",
     "output_type": "stream",
     "text": [
      "tensor([1., 1., 1., 1.], grad_fn=<SumBackward1>)\n",
      "torch.Size([4, 4])\n",
      "tensor([1., 1., 1., 1.], grad_fn=<SumBackward1>)\n",
      "torch.Size([4, 4])\n",
      "tensor([1., 1., 1., 1.], grad_fn=<SumBackward1>)\n",
      "torch.Size([4, 4])\n",
      "tensor([1., 1., 1., 1.], grad_fn=<SumBackward1>)\n",
      "torch.Size([4, 4])\n",
      "tensor([1., 1., 1., 1.], grad_fn=<SumBackward1>)\n",
      "torch.Size([4, 4])\n",
      "tensor([1., 1., 1., 1.], grad_fn=<SumBackward1>)\n",
      "torch.Size([4, 4])\n",
      "tensor([1., 1., 1., 1.], grad_fn=<SumBackward1>)\n",
      "torch.Size([4, 4])\n",
      "tensor([1., 1., 1., 1.], grad_fn=<SumBackward1>)\n",
      "torch.Size([4, 4])\n"
     ]
    }
   ],
   "source": [
    "query = torch.empty(input_embeddings.shape)\n",
    "query.shape\n",
    "attention_table_col=input_embeddings.shape[1]\n",
    "attention_table_row=input_embeddings.shape[1]\n",
    "attention_scores = torch.empty(8,attention_table_row,attention_table_col)\n",
    "attention_weights = torch.empty(8,attention_table_row,attention_table_col)\n",
    "\n",
    "\n",
    "for i,element in enumerate(input_embeddings):\n",
    "    attention_scores[i]=element@element.T\n",
    "    attention_weights[i]=torch.softmax(attention_scores[i],dim=1)\n",
    "    # print(attention_weights)\n",
    "    print(attention_weights[i].sum(dim=1))\n",
    "    print(attention_weights[i].shape)\n",
    "    # print(attention_weights.shape)\n",
    "    query[i]=attention_weights[i]@element\n",
    "    \n",
    "\n",
    "\n"
   ]
  },
  {
   "cell_type": "code",
   "execution_count": 28,
   "id": "72fae269",
   "metadata": {},
   "outputs": [],
   "source": [
    "torch.manual_seed(72)\n",
    "d_in=256\n",
    "d_out=72\n",
    "W_query=torch.nn.Parameter(torch.rand(d_in,d_out),requires_grad=False)\n",
    "W_key=torch.nn.Parameter(torch.rand(d_in,d_out),requires_grad=False)\n",
    "W_value=torch.nn.Parameter(torch.rand(d_in,d_out),requires_grad=False)\n",
    "\n",
    "\n"
   ]
  },
  {
   "cell_type": "code",
   "execution_count": 29,
   "id": "f537313f",
   "metadata": {},
   "outputs": [
    {
     "name": "stdout",
     "output_type": "stream",
     "text": [
      "tensor([[ 1.5738e+00, -1.5446e+00, -1.3416e+00,  2.2832e+00,  3.2760e-01,\n",
      "         -5.3140e-01,  8.0076e-01, -2.0718e+00,  6.1869e-01,  2.3539e+00,\n",
      "         -5.2623e-01,  6.6519e-01,  1.1894e+00, -6.6742e-01,  1.1912e-01,\n",
      "         -9.8694e-01, -3.6799e-01, -6.5455e-01,  2.8671e-01, -9.2966e-01,\n",
      "         -3.9233e-01,  1.0611e+00, -1.6656e+00, -2.9830e-01,  3.4479e-02,\n",
      "         -2.3252e+00, -1.6360e-02, -9.2208e-01, -1.5888e+00,  4.5009e-01,\n",
      "         -3.5212e-01, -6.5870e-01,  1.9800e-01,  2.8837e-01,  1.0238e-01,\n",
      "         -6.2013e-01, -3.3726e-01,  8.5320e-01,  1.5771e-01, -4.2256e-02,\n",
      "         -8.6635e-01, -1.5051e+00, -1.3834e+00,  4.6603e-01,  3.2206e-03,\n",
      "          1.3905e+00,  1.8948e-01,  2.7524e+00, -1.0689e+00,  2.3589e+00,\n",
      "         -2.1581e+00,  2.2053e+00, -1.3288e+00, -5.1899e-01, -2.6223e+00,\n",
      "         -1.3026e+00,  1.8097e-01,  8.7213e-01,  3.3764e-01,  8.2571e-01,\n",
      "         -1.5987e+00,  2.3836e+00,  2.8683e+00, -2.4877e-01, -3.3664e+00,\n",
      "         -2.9248e-01, -2.0043e-01,  2.4367e+00, -2.3051e-01, -8.6561e-01,\n",
      "          1.8288e+00, -1.8820e+00, -5.5422e-01, -1.2076e+00, -1.1496e+00,\n",
      "         -1.4941e-01,  1.4051e-01, -2.1960e+00, -1.8355e+00,  1.8827e+00,\n",
      "         -6.2483e-01,  7.1022e-01, -6.3189e-01,  1.3158e+00, -1.0071e+00,\n",
      "          1.0892e+00, -4.2367e+00,  6.4963e-01,  9.4111e-01, -2.2385e+00,\n",
      "          1.2231e+00, -1.1011e+00, -1.0017e+00, -1.8902e+00, -5.1570e-01,\n",
      "         -5.7877e-01, -7.5490e-01, -1.6557e+00,  2.6019e+00,  7.0136e-01,\n",
      "          1.2938e+00,  4.7238e-01,  7.3547e-01,  1.6406e+00, -4.8517e-01,\n",
      "         -2.8998e-01,  8.2243e-01, -1.7759e+00,  1.9365e+00, -6.4640e-01,\n",
      "         -1.5264e+00,  1.0037e+00,  5.8013e-01, -2.1380e+00, -5.4540e-01,\n",
      "          7.5305e-01,  3.1598e-01, -1.5017e+00,  6.7375e-01,  7.0969e-01,\n",
      "         -6.0760e-01, -7.2237e-01,  7.1169e-02,  1.6606e+00, -1.3460e-01,\n",
      "         -1.0661e+00, -1.7139e-01,  1.5431e+00,  2.5675e-01, -4.1353e-01,\n",
      "          2.0773e-01,  2.1050e+00, -1.4584e+00,  1.6871e+00,  2.7785e+00,\n",
      "          1.5769e+00, -1.7005e+00, -1.3981e+00, -7.7314e-01,  1.8156e+00,\n",
      "          1.3553e+00,  1.6010e+00, -6.2313e-03,  6.7106e-01,  5.3803e-01,\n",
      "         -8.4005e-01, -3.9429e-02, -1.0087e+00,  4.7390e-01, -1.5612e-01,\n",
      "          9.8746e-01,  4.5204e-01,  2.9851e-01, -9.6860e-01,  5.6019e-03,\n",
      "          1.4858e+00,  1.0628e+00,  1.3223e+00,  9.7829e-01,  4.9050e-01,\n",
      "          1.2098e+00,  6.3134e-01,  2.4535e+00,  3.6522e-01,  1.4463e+00,\n",
      "          2.4819e+00,  4.9189e-02,  1.9672e+00, -2.0054e+00,  1.7035e-02,\n",
      "         -5.2723e-01, -1.7754e+00,  3.9662e-01,  8.1047e-01,  2.3622e-01,\n",
      "         -1.2768e+00, -4.5149e-01, -1.7541e+00, -2.9407e+00, -1.6670e+00,\n",
      "          1.5910e+00,  4.9719e-01,  3.3483e-01,  1.3885e+00, -1.0624e+00,\n",
      "         -1.9952e+00, -1.3171e+00, -8.3095e-01, -2.7629e+00, -9.0171e-01,\n",
      "         -2.4633e-02,  1.4370e+00,  2.4973e+00,  8.4330e-01,  2.5561e+00,\n",
      "         -1.1686e+00,  1.8366e+00, -8.8136e-01, -8.9528e-01, -5.2984e-01,\n",
      "          2.1621e-01,  3.8319e+00, -9.3647e-01, -1.6265e+00, -7.4192e-01,\n",
      "          2.0039e-01, -1.0988e+00, -8.7431e-02,  6.6010e-02,  5.6014e-01,\n",
      "          3.3838e+00, -1.7465e+00,  1.5022e+00,  7.0850e-01, -2.9079e+00,\n",
      "          1.4939e-01,  3.8720e-01,  1.6699e+00,  1.5602e+00,  2.0786e-01,\n",
      "          3.2376e-01, -9.7786e-01,  1.6239e+00, -1.6786e+00, -2.2368e+00,\n",
      "          3.0034e-01, -2.2722e+00,  1.0385e+00,  4.9447e-01,  6.5053e-01,\n",
      "         -1.4990e+00,  1.5768e-01,  4.7050e-01, -2.3314e+00,  1.3202e+00,\n",
      "          3.3574e-02,  1.3549e+00, -1.7496e+00, -3.6125e-01, -9.8871e-01,\n",
      "         -9.8728e-01, -1.1180e+00,  4.1491e-01, -2.3003e+00, -1.7606e+00,\n",
      "         -9.0420e-01, -5.2957e-01, -4.6802e-01,  1.1747e+00, -6.5413e-01,\n",
      "         -2.6607e-01,  1.6725e+00, -4.3451e-01, -7.2955e-01, -1.6630e+00,\n",
      "          5.2399e-01]], grad_fn=<ViewBackward0>)\n"
     ]
    }
   ],
   "source": [
    "input_vector = input_embeddings[0][0]\n",
    "print(input_vector.reshape(1, -1))"
   ]
  },
  {
   "cell_type": "code",
   "execution_count": 30,
   "id": "80cd5c78",
   "metadata": {},
   "outputs": [],
   "source": [
    "input_to_query=input_vector@W_query\n",
    "input_to_key=input_vector@W_key\n",
    "input_to_value=input_vector@W_value\n"
   ]
  },
  {
   "cell_type": "code",
   "execution_count": 31,
   "id": "b0305992",
   "metadata": {},
   "outputs": [
    {
     "name": "stdout",
     "output_type": "stream",
     "text": [
      "torch.Size([72])\n"
     ]
    }
   ],
   "source": [
    "print(input_to_query.shape)"
   ]
  },
  {
   "cell_type": "code",
   "execution_count": 32,
   "id": "c8add72f",
   "metadata": {},
   "outputs": [],
   "source": [
    "inputs_to_querys=input_embeddings@W_query\n",
    "inputs_to_keys=input_embeddings@W_key\n",
    "inputs_to_values=input_embeddings@W_value"
   ]
  },
  {
   "cell_type": "code",
   "execution_count": 33,
   "id": "896522e7",
   "metadata": {},
   "outputs": [
    {
     "name": "stdout",
     "output_type": "stream",
     "text": [
      "torch.Size([8, 4, 72])\n",
      "torch.Size([8, 4, 72])\n"
     ]
    }
   ],
   "source": [
    "print(inputs_to_querys.shape)\n",
    "print(inputs_to_keys.shape)"
   ]
  },
  {
   "cell_type": "code",
   "execution_count": 34,
   "id": "2192dfd1",
   "metadata": {},
   "outputs": [],
   "source": [
    "query_key_attention_scores=inputs_to_querys@inputs_to_keys.transpose(1,2)"
   ]
  },
  {
   "cell_type": "code",
   "execution_count": 35,
   "id": "2cd2e8ea",
   "metadata": {},
   "outputs": [
    {
     "name": "stdout",
     "output_type": "stream",
     "text": [
      "72\n"
     ]
    }
   ],
   "source": [
    "\n",
    "d_k=inputs_to_keys.shape[-1]\n",
    "print(d_k)\n",
    "query_key_attention_scores_normalized=torch.softmax(query_key_attention_scores/d_k**0.5,dim=-1)"
   ]
  },
  {
   "cell_type": "code",
   "execution_count": 36,
   "id": "36417b9e",
   "metadata": {},
   "outputs": [],
   "source": [
    "context_vector=query_key_attention_scores_normalized@inputs_to_values"
   ]
  },
  {
   "cell_type": "code",
   "execution_count": 37,
   "id": "2ea55d3f",
   "metadata": {},
   "outputs": [
    {
     "name": "stdout",
     "output_type": "stream",
     "text": [
      "torch.Size([8, 4, 72])\n"
     ]
    }
   ],
   "source": [
    "print(context_vector.shape)"
   ]
  },
  {
   "cell_type": "code",
   "execution_count": 38,
   "id": "6678a965",
   "metadata": {},
   "outputs": [],
   "source": [
    "import torch.nn as nn\n",
    "class SelfAttention_v1(nn.Module):\n",
    "    def __init__(self,d_in,d_out):\n",
    "        super.__init__()\n",
    "        self.W_query=torch.nn.Parameter(torch.rand(d_in,d_out))\n",
    "        self.W_key=torch.nn.Parameter(torch.rand(d_in,d_out))\n",
    "        self.W_value=torch.nn.Parameter(torch.rand(d_in,d_out))\n",
    "        \n",
    "        \n",
    "    def forward(self,x):\n",
    "        queries=x@self.W_query\n",
    "        keys=x@self.W_key\n",
    "        values=x@self.W_values\n",
    "        \n",
    "        attention_scores=queries@keys.T\n",
    "        attention_weights=torch.softmax(attention_scores/keys.shape[-1]**0.5,dim=-1)\n",
    "        context_vectors=attention_weights@values\n",
    "        return context_vectors\n",
    "        \n",
    "        \n",
    "\n"
   ]
  },
  {
   "cell_type": "code",
   "execution_count": 39,
   "id": "7516443c",
   "metadata": {},
   "outputs": [],
   "source": [
    "\n",
    "#  Just used nn.Linear for better activation. \n",
    "\n",
    "\n",
    "\n",
    "class SelfAttention_v2(nn.Module):\n",
    "    def __init__(self,d_in,d_out,qkv_bias=False):\n",
    "        super.__init__()\n",
    "        self.W_query=nn.Linear(d_in,d_out,bias=qkv_bias)\n",
    "        self.W_key=nn.Linear(d_in,d_out,bias=qkv_bias)\n",
    "        self.W_value=nn.Linear(d_in,d_out,bias=qkv_bias)\n",
    "    def forward(self,X):\n",
    "        queries=x@self.W_query\n",
    "        keys=x@self.W_key\n",
    "        values=x@self.W_values\n",
    "        \n",
    "        attention_scores=queries@keys.T\n",
    "        attention_weight=torch.softmax(attention_scores/keys.shape[-1]**0.5,dim=-1)\n",
    "        context_vectors=attention_weight@values\n",
    "        return context_vectors\n",
    "        "
   ]
  },
  {
   "cell_type": "code",
   "execution_count": 40,
   "id": "1c7be28b",
   "metadata": {},
   "outputs": [],
   "source": [
    "class CausalAttention(nn.Module):\n",
    "    def __init__(self,d_in,d_out,qkv_bias=False):\n",
    "        super.__init__()\n",
    "        self.W_query=nn.Linear(d_in,d_out,bias=qkv_bias)\n",
    "        self.W_key=nn.Linear(d_in,d_out,bias=qkv_bias)\n",
    "        self.W_value=nn.Linear(d_in,d_out,bias=qkv_bias)\n",
    "    \n",
    "    def forward(self,x):\n",
    "        queries=x@self.W_query\n",
    "        keys=x@self.W_key\n",
    "        values=x@self.W_value\n",
    "        \n",
    "        attention_scores=queries@keys.T\n",
    "        mask=torch.ones(attention_scores.shape[0],attention_scores.shape[1])\n",
    "        mask=torch.triu(mask)\n",
    "        attention_scores[mask==1]=torch.tensor(-float('inf'))\n",
    "        attention_weight=torch.softmax(attention_scores/keys.shape[-1]**0.5,dim=-1)\n",
    "        # drop out here\n",
    "        # The 'train' parameter specifies whether dropout should behave in training mode (drop values) or evaluation mode (no dropout).\n",
    "        # In PyTorch, when train=True, dropout is applied; when train=False, dropout is bypassed.\n",
    "        attention_weight = torch.dropout(attention_weight, p=0.5, train=self.training)\n",
    "        context_vectors=attention_weight@values\n",
    "        return context_vectors"
   ]
  },
  {
   "cell_type": "code",
   "execution_count": 41,
   "id": "970323e4",
   "metadata": {},
   "outputs": [],
   "source": [
    "class MultiHeadAttentionWrapper(nn.Module):\n",
    "    def __init__(self,d_in,d_out,context_length,drop_out,num_heads,qkv_bias=False):\n",
    "        super().__init__()\n",
    "        self.heads=nn.ModuleList([CausalAttention(d_in,d_out,context_length,drop_out,qkv_bias)for _ in range(num_heads)])\n",
    "    def forward(self,x):\n",
    "        return torch.cat([head(x) for head in self.heads],dim=-1)\n",
    "        "
   ]
  },
  {
   "cell_type": "code",
   "execution_count": 42,
   "id": "77f6a10e",
   "metadata": {},
   "outputs": [],
   "source": [
    "# The code in the image and your code are very similar, but there are a few key differences and some mistakes in your implementation.\n",
    "# Here is a version that matches the code in the image, with comments on the differences:\n",
    "\n",
    "class MultiHeadAttention(nn.Module):\n",
    "    def __init__(self, d_in, d_out, context_length, drop_out, num_heads, qkv_bias=False):\n",
    "        super().__init__()\n",
    "        assert d_out % num_heads == 0, \"d_out must be divisible by num_heads\"\n",
    "        self.d_out = d_out  \n",
    "        self.num_heads = num_heads\n",
    "        self.head_dim = d_out // num_heads\n",
    "\n",
    "        self.W_query = nn.Linear(d_in, d_out, bias=qkv_bias)\n",
    "        self.W_key = nn.Linear(d_in, d_out, bias=qkv_bias)\n",
    "        self.W_value = nn.Linear(d_in, d_out, bias=qkv_bias)\n",
    "        self.drop_out = nn.Dropout(drop_out)\n",
    "        self.out_proj = nn.Linear(d_out, d_out, bias=qkv_bias)  # ✅ Use qkv_bias for consistency\n",
    "        self.register_buffer(\"mask\", torch.triu(torch.ones(context_length, context_length), diagonal=1))\n",
    "\n",
    "    # ... rest of forward method stays the same\n",
    "    def forward(self, x):\n",
    "        b, num_tokens, d_in = x.shape\n",
    "\n",
    "        # Linear projections\n",
    "        keys = self.W_key(x)      # (b, num_tokens, d_out)\n",
    "        values = self.W_value(x)  # (b, num_tokens, d_out)\n",
    "        queries = self.W_query(x) # (b, num_tokens, d_out)\n",
    "\n",
    "        # Reshape for multi-head: (b, num_tokens, num_heads, head_dim)\n",
    "        keys = keys.view(b, num_tokens, self.num_heads, self.head_dim)\n",
    "        queries = queries.view(b, num_tokens, self.num_heads, self.head_dim)\n",
    "        values = values.view(b, num_tokens, self.num_heads, self.head_dim)\n",
    "\n",
    "        # Transpose to (b, num_heads, num_tokens, head_dim)\n",
    "        keys = keys.transpose(1, 2)\n",
    "        queries = queries.transpose(1, 2)\n",
    "        values = values.transpose(1, 2)\n",
    "\n",
    "        # Attention score: (b, num_heads, num_tokens, num_tokens)\n",
    "        attn_scores = queries @ keys.transpose(2, 3)\n",
    "\n",
    "        # Apply mask (causal)\n",
    "        mask_bool = self.mask.bool()[:num_tokens, :num_tokens]\n",
    "        attn_scores = attn_scores.masked_fill(mask_bool, -torch.inf)\n",
    "\n",
    "        # Scale and softmax\n",
    "        attn_weights = torch.softmax(attn_scores / (self.head_dim ** 0.5), dim=-1)\n",
    "        attn_weights = self.drop_out(attn_weights)\n",
    "\n",
    "        # Weighted sum\n",
    "        context_vec = (attn_weights @ values).transpose(1, 2)  # (b, num_tokens, num_heads, head_dim)\n",
    "        context_vec = context_vec.contiguous().view(b, num_tokens, self.d_out)\n",
    "        context_vec = self.out_proj(context_vec)\n",
    "        return context_vec\n"
   ]
  },
  {
   "cell_type": "code",
   "execution_count": 43,
   "id": "76277403",
   "metadata": {},
   "outputs": [],
   "source": [
    "gpt_configuration = {\n",
    "    \"vocab_size\": 50257,\n",
    "    \"context_length\": 256,\n",
    "    \"emb_dim\": 768,\n",
    "    \"n_heads\": 12,\n",
    "    \"n_layers\": 12,\n",
    "    \"drop_rate\": 0.1,\n",
    "    \"qkv_bias\": False\n",
    "}"
   ]
  },
  {
   "cell_type": "code",
   "execution_count": 44,
   "id": "cde47cad",
   "metadata": {},
   "outputs": [],
   "source": [
    "import torch \n",
    "import torch.nn as nn\n",
    "\n",
    "class Dummy_Scratch_gpt_model(nn.Module):\n",
    "    def __init__(self, configuration):\n",
    "        \n",
    "        super().__init__()\n",
    "        \n",
    "        self.token_embedding = nn.Embedding(configuration[\"vocab_size\"], configuration[\"emb_dim\"])\n",
    "        self.pos_emb = nn.Embedding(configuration[\"context_length\"], configuration[\"emb_dim\"])\n",
    "        self.drop_emb = nn.Dropout(configuration[\"drop_rate\"])\n",
    "        \n",
    "        self.transformer_blocks = nn.Sequential(\n",
    "            *[Dummy_Transformer_Block(configuration) for _ in range(configuration[\"n_layers\"])]\n",
    "        )\n",
    "    \n",
    "        self.final_norm = Dummay_Layer_normalization(configuration[\"emb_dim\"])\n",
    "        self.out_head = nn.Linear(configuration[\"emb_dim\"], configuration[\"vocab_size\"], bias=False)\n",
    "        \n",
    "    def forward(self, in_dx):\n",
    "        batch_size, seq_len = in_dx.shape\n",
    "        tok_embeddings = self.token_embedding(in_dx)\n",
    "        pos_embeddings = self.pos_emb(torch.arange(seq_len, device=in_dx.device))\n",
    "        x = tok_embeddings + pos_embeddings\n",
    "        x = self.drop_emb(x)\n",
    "        x = self.transformer_blocks(x)\n",
    "        x = self.final_norm(x)\n",
    "        logits = self.out_head(x)\n",
    "        return logits\n",
    "\n",
    "class GELU(nn.Module):\n",
    "    def forward(self, x):\n",
    "        return 0.5 * x * (1 + torch.tanh(torch.sqrt(torch.tensor(2.0 / torch.pi, device=x.device)) * (x + 0.044715 * torch.pow(x, 3))))\n",
    "\n",
    "class Dummy_FeedForward(nn.Module):\n",
    "    def __init__(self, emb_dim, hidden_dim=None, drop_rate=0.1, bias=True):  # ✅ Added bias parameter\n",
    "        super().__init__()\n",
    "        if hidden_dim is None:\n",
    "            hidden_dim = emb_dim * 4\n",
    "        self.fc1 = nn.Linear(emb_dim, hidden_dim, bias=bias)       # ✅ Use bias parameter\n",
    "        self.gelu = GELU()\n",
    "        self.fc2 = nn.Linear(hidden_dim, emb_dim, bias=bias)       # ✅ Use bias parameter\n",
    "        self.dropout = nn.Dropout(drop_rate)\n",
    "        \n",
    "    def forward(self, x):\n",
    "        x = self.fc1(x)\n",
    "        x = self.gelu(x)\n",
    "        x = self.fc2(x)\n",
    "        x = self.dropout(x)\n",
    "        return x\n",
    "\n",
    "class Dummy_SelfAttention(nn.Module):\n",
    "    def __init__(self, cfg):\n",
    "        super().__init__()\n",
    "        self.mha = MultiHeadAttention(\n",
    "            d_in=cfg[\"emb_dim\"],\n",
    "            d_out=cfg[\"emb_dim\"],\n",
    "            context_length=cfg[\"context_length\"],\n",
    "            drop_out=cfg[\"drop_rate\"],\n",
    "            num_heads=cfg[\"n_heads\"],\n",
    "            qkv_bias=cfg[\"qkv_bias\"]\n",
    "        )\n",
    "        \n",
    "    def forward(self, x):\n",
    "        return self.mha(x)\n",
    "\n",
    "class Dummy_Transformer_Block(nn.Module):\n",
    "    def __init__(self, cfg):\n",
    "        super().__init__()\n",
    "        self.ln1 = Dummay_Layer_normalization(cfg[\"emb_dim\"])\n",
    "        self.attn = Dummy_SelfAttention(cfg)\n",
    "        self.ln2 = Dummay_Layer_normalization(cfg[\"emb_dim\"])\n",
    "        # ✅ Pass bias setting from config to feedforward\n",
    "        self.ff = Dummy_FeedForward(cfg[\"emb_dim\"], drop_rate=cfg[\"drop_rate\"], bias=cfg[\"qkv_bias\"])\n",
    "        \n",
    "    def forward(self, x):\n",
    "        x = x + self.attn(self.ln1(x))\n",
    "        x = x + self.ff(self.ln2(x))\n",
    "        return x\n",
    "\n",
    "class Dummay_Layer_normalization(nn.Module):\n",
    "    def __init__(self, emb_dim, eps=1e-5):\n",
    "        super().__init__()\n",
    "        self.eps = eps\n",
    "        self.scale = nn.Parameter(torch.ones(emb_dim))\n",
    "        self.shift = nn.Parameter(torch.zeros(emb_dim))\n",
    "        \n",
    "    def forward(self, x):\n",
    "        mean = x.mean(-1, keepdim=True)\n",
    "        var = x.var(-1, keepdim=True, unbiased=False)\n",
    "        norm_x = (x - mean) / torch.sqrt(var + self.eps)\n",
    "        return self.scale * norm_x + self.shift"
   ]
  },
  {
   "cell_type": "code",
   "execution_count": 45,
   "id": "8d990859",
   "metadata": {},
   "outputs": [],
   "source": [
    "import tiktoken\n",
    "\n",
    "tokenizer=tiktoken.get_encoding(\"gpt2\")\n",
    "\n",
    "batch=[]\n",
    "str1 = \"This is the first string.\"\n",
    "str2 = \"This is the second string.\"\n",
    "\n",
    "batch.append(tokenizer.encode(str1))\n",
    "batch.append(tokenizer.encode(str2))"
   ]
  },
  {
   "cell_type": "code",
   "execution_count": 46,
   "id": "32f6d32d",
   "metadata": {},
   "outputs": [
    {
     "name": "stdout",
     "output_type": "stream",
     "text": [
      "Total parameter count: 162364416\n",
      "Total parameters in all transformer blocks: 84971520\n",
      "Total parameters in all feedforward networks inside transformer blocks: 56623104\n"
     ]
    }
   ],
   "source": [
    "torch.manual_seed(22)\n",
    "model = Dummy_Scratch_gpt_model(gpt_configuration)\n",
    "total_params = sum(p.numel() for p in model.parameters())\n",
    "print(\"Total parameter count:\", total_params)\n",
    "\n",
    "# Count parameters in all transformer blocks\n",
    "transformer_params = 0\n",
    "ff_params = 0\n",
    "\n",
    "for name, module in model.named_modules():\n",
    "    if isinstance(module, Dummy_Transformer_Block):\n",
    "        # All params in this transformer block\n",
    "        transformer_params += sum(p.numel() for p in module.parameters())\n",
    "        # Params in the feedforward submodule of this block\n",
    "        ff_params += sum(p.numel() for p in module.ff.parameters())\n",
    "\n",
    "print(\"Total parameters in all transformer blocks:\", transformer_params)\n",
    "print(\"Total parameters in all feedforward networks inside transformer blocks:\", ff_params)\n"
   ]
  },
  {
   "cell_type": "code",
   "execution_count": 47,
   "id": "28c792c0",
   "metadata": {},
   "outputs": [
    {
     "name": "stdout",
     "output_type": "stream",
     "text": [
      "Total model memory (MB): 619.37109375\n"
     ]
    }
   ],
   "source": [
    "# Compute the memory usage of the model (in megabytes)\n",
    "memory_bytes = sum(p.numel() * p.element_size() for p in model.parameters())\n",
    "memory_mb = memory_bytes / (1024 * 1024)\n",
    "print(\"Total model memory (MB):\", memory_mb)\n"
   ]
  },
  {
   "cell_type": "code",
   "execution_count": 48,
   "id": "adb1f26b",
   "metadata": {},
   "outputs": [
    {
     "name": "stdout",
     "output_type": "stream",
     "text": [
      "Input shape: torch.Size([2, 5, 768])\n",
      "Output shape: torch.Size([2, 5, 768])\n"
     ]
    }
   ],
   "source": [
    "\n",
    "sample_input = torch.randn(2, 5, 768)  # (batch, seq_len, emb_dim)\n",
    "transformer_block = Dummy_Transformer_Block(gpt_configuration)\n",
    "output = transformer_block(sample_input)\n",
    "print(\"Input shape:\", sample_input.shape)\n",
    "print(\"Output shape:\", output.shape)\n"
   ]
  },
  {
   "cell_type": "code",
   "execution_count": 49,
   "id": "32927ed7",
   "metadata": {},
   "outputs": [
    {
     "data": {
      "image/png": "[encoded data removed]",
      "text/plain": [
       "<Figure size 800x500 with 1 Axes>"
      ]
     },
     "metadata": {},
     "output_type": "display_data"
    }
   ],
   "source": [
    "import torch\n",
    "import matplotlib.pyplot as plt\n",
    "import numpy as np\n",
    "\n",
    "gelu = GELU()\n",
    "\n",
    "x = torch.linspace(-5, 5, 1000)\n",
    "y = gelu(x)\n",
    "\n",
    "plt.figure(figsize=(8, 5))\n",
    "plt.plot(x.numpy(), y.detach().numpy(), label=\"GELU\")\n",
    "plt.title(\"GELU Activation Function\")\n",
    "plt.xlabel(\"x\")\n",
    "plt.ylabel(\"GELU(x)\")\n",
    "plt.grid(True)\n",
    "plt.legend()\n",
    "plt.show()\n"
   ]
  },
  {
   "cell_type": "code",
   "execution_count": 50,
   "id": "362b6834",
   "metadata": {},
   "outputs": [],
   "source": [
    "def inference_time_prediction(model,input_sequence,max_token_window,context_size):\n",
    "    \n",
    "    for _ in range(max_token_window):\n",
    "        input_sequence_to_model=input_sequence[:,-context_size:]\n",
    "        with torch.no_grad():\n",
    "            logits=model(input_sequence_to_model)\n",
    "        logits=logits[:,-1,:]\n",
    "        # probs=logits\n",
    "        logits=torch.argmax(torch.softmax(logits,dim=-1),dim=-1,keepdim=True)\n",
    "        input_sequence=torch.cat((input_sequence,logits),dim=1)\n",
    "        \n",
    "    return input_sequence\n",
    "        \n",
    "            "
   ]
  },
  {
   "cell_type": "code",
   "execution_count": 51,
   "id": "cee278c3",
   "metadata": {},
   "outputs": [
    {
     "name": "stdout",
     "output_type": "stream",
     "text": [
      "encoded: [15496, 11, 314, 716]\n",
      "encoded_tensor.shape: torch.Size([1, 4])\n"
     ]
    }
   ],
   "source": [
    "start_context = \"Hello, I am\"\n",
    "encoded = tokenizer.encode(start_context)\n",
    "print(\"encoded:\", encoded)\n",
    "encoded_tensor = torch.tensor(encoded).unsqueeze(0)  # #1 Adds batch dimension\n",
    "print(\"encoded_tensor.shape:\", encoded_tensor.shape)\n"
   ]
  },
  {
   "cell_type": "code",
   "execution_count": 52,
   "id": "22c92fa8",
   "metadata": {},
   "outputs": [
    {
     "name": "stdout",
     "output_type": "stream",
     "text": [
      "tensor([[15496,    11,   314,   716,  3240, 13335, 48941, 21769, 35479,  1021,\n",
      "         14936, 42517, 38897, 39647, 33493, 37690, 49776,  6687, 12180]])\n",
      "Hello, I am townappropriate Gauntlet observingMonitor hand sail querExperts997 SELECT mogulobook manage filing\n"
     ]
    }
   ],
   "source": [
    "model.eval()\n",
    "\n",
    "out=inference_time_prediction(model,encoded_tensor,15,gpt_configuration[\"context_length\"])\n",
    "\n",
    "print(out)\n",
    "decoded_text = tokenizer.decode(out.squeeze(0).tolist())\n",
    "print(decoded_text)\n"
   ]
  },
  {
   "cell_type": "code",
   "execution_count": null,
   "id": "750d629a",
   "metadata": {},
   "outputs": [],
   "source": []
  },
  {
   "cell_type": "code",
   "execution_count": 53,
   "id": "86a7d583",
   "metadata": {},
   "outputs": [
    {
     "data": {
      "text/plain": [
       "Dummy_Scratch_gpt_model(\n",
       "  (token_embedding): Embedding(50257, 768)\n",
       "  (pos_emb): Embedding(256, 768)\n",
       "  (drop_emb): Dropout(p=0.1, inplace=False)\n",
       "  (transformer_blocks): Sequential(\n",
       "    (0): Dummy_Transformer_Block(\n",
       "      (ln1): Dummay_Layer_normalization()\n",
       "      (attn): Dummy_SelfAttention(\n",
       "        (mha): MultiHeadAttention(\n",
       "          (W_query): Linear(in_features=768, out_features=768, bias=False)\n",
       "          (W_key): Linear(in_features=768, out_features=768, bias=False)\n",
       "          (W_value): Linear(in_features=768, out_features=768, bias=False)\n",
       "          (drop_out): Dropout(p=0.1, inplace=False)\n",
       "          (out_proj): Linear(in_features=768, out_features=768, bias=False)\n",
       "        )\n",
       "      )\n",
       "      (ln2): Dummay_Layer_normalization()\n",
       "      (ff): Dummy_FeedForward(\n",
       "        (fc1): Linear(in_features=768, out_features=3072, bias=False)\n",
       "        (gelu): GELU()\n",
       "        (fc2): Linear(in_features=3072, out_features=768, bias=False)\n",
       "        (dropout): Dropout(p=0.1, inplace=False)\n",
       "      )\n",
       "    )\n",
       "    (1): Dummy_Transformer_Block(\n",
       "      (ln1): Dummay_Layer_normalization()\n",
       "      (attn): Dummy_SelfAttention(\n",
       "        (mha): MultiHeadAttention(\n",
       "          (W_query): Linear(in_features=768, out_features=768, bias=False)\n",
       "          (W_key): Linear(in_features=768, out_features=768, bias=False)\n",
       "          (W_value): Linear(in_features=768, out_features=768, bias=False)\n",
       "          (drop_out): Dropout(p=0.1, inplace=False)\n",
       "          (out_proj): Linear(in_features=768, out_features=768, bias=False)\n",
       "        )\n",
       "      )\n",
       "      (ln2): Dummay_Layer_normalization()\n",
       "      (ff): Dummy_FeedForward(\n",
       "        (fc1): Linear(in_features=768, out_features=3072, bias=False)\n",
       "        (gelu): GELU()\n",
       "        (fc2): Linear(in_features=3072, out_features=768, bias=False)\n",
       "        (dropout): Dropout(p=0.1, inplace=False)\n",
       "      )\n",
       "    )\n",
       "    (2): Dummy_Transformer_Block(\n",
       "      (ln1): Dummay_Layer_normalization()\n",
       "      (attn): Dummy_SelfAttention(\n",
       "        (mha): MultiHeadAttention(\n",
       "          (W_query): Linear(in_features=768, out_features=768, bias=False)\n",
       "          (W_key): Linear(in_features=768, out_features=768, bias=False)\n",
       "          (W_value): Linear(in_features=768, out_features=768, bias=False)\n",
       "          (drop_out): Dropout(p=0.1, inplace=False)\n",
       "          (out_proj): Linear(in_features=768, out_features=768, bias=False)\n",
       "        )\n",
       "      )\n",
       "      (ln2): Dummay_Layer_normalization()\n",
       "      (ff): Dummy_FeedForward(\n",
       "        (fc1): Linear(in_features=768, out_features=3072, bias=False)\n",
       "        (gelu): GELU()\n",
       "        (fc2): Linear(in_features=3072, out_features=768, bias=False)\n",
       "        (dropout): Dropout(p=0.1, inplace=False)\n",
       "      )\n",
       "    )\n",
       "    (3): Dummy_Transformer_Block(\n",
       "      (ln1): Dummay_Layer_normalization()\n",
       "      (attn): Dummy_SelfAttention(\n",
       "        (mha): MultiHeadAttention(\n",
       "          (W_query): Linear(in_features=768, out_features=768, bias=False)\n",
       "          (W_key): Linear(in_features=768, out_features=768, bias=False)\n",
       "          (W_value): Linear(in_features=768, out_features=768, bias=False)\n",
       "          (drop_out): Dropout(p=0.1, inplace=False)\n",
       "          (out_proj): Linear(in_features=768, out_features=768, bias=False)\n",
       "        )\n",
       "      )\n",
       "      (ln2): Dummay_Layer_normalization()\n",
       "      (ff): Dummy_FeedForward(\n",
       "        (fc1): Linear(in_features=768, out_features=3072, bias=False)\n",
       "        (gelu): GELU()\n",
       "        (fc2): Linear(in_features=3072, out_features=768, bias=False)\n",
       "        (dropout): Dropout(p=0.1, inplace=False)\n",
       "      )\n",
       "    )\n",
       "    (4): Dummy_Transformer_Block(\n",
       "      (ln1): Dummay_Layer_normalization()\n",
       "      (attn): Dummy_SelfAttention(\n",
       "        (mha): MultiHeadAttention(\n",
       "          (W_query): Linear(in_features=768, out_features=768, bias=False)\n",
       "          (W_key): Linear(in_features=768, out_features=768, bias=False)\n",
       "          (W_value): Linear(in_features=768, out_features=768, bias=False)\n",
       "          (drop_out): Dropout(p=0.1, inplace=False)\n",
       "          (out_proj): Linear(in_features=768, out_features=768, bias=False)\n",
       "        )\n",
       "      )\n",
       "      (ln2): Dummay_Layer_normalization()\n",
       "      (ff): Dummy_FeedForward(\n",
       "        (fc1): Linear(in_features=768, out_features=3072, bias=False)\n",
       "        (gelu): GELU()\n",
       "        (fc2): Linear(in_features=3072, out_features=768, bias=False)\n",
       "        (dropout): Dropout(p=0.1, inplace=False)\n",
       "      )\n",
       "    )\n",
       "    (5): Dummy_Transformer_Block(\n",
       "      (ln1): Dummay_Layer_normalization()\n",
       "      (attn): Dummy_SelfAttention(\n",
       "        (mha): MultiHeadAttention(\n",
       "          (W_query): Linear(in_features=768, out_features=768, bias=False)\n",
       "          (W_key): Linear(in_features=768, out_features=768, bias=False)\n",
       "          (W_value): Linear(in_features=768, out_features=768, bias=False)\n",
       "          (drop_out): Dropout(p=0.1, inplace=False)\n",
       "          (out_proj): Linear(in_features=768, out_features=768, bias=False)\n",
       "        )\n",
       "      )\n",
       "      (ln2): Dummay_Layer_normalization()\n",
       "      (ff): Dummy_FeedForward(\n",
       "        (fc1): Linear(in_features=768, out_features=3072, bias=False)\n",
       "        (gelu): GELU()\n",
       "        (fc2): Linear(in_features=3072, out_features=768, bias=False)\n",
       "        (dropout): Dropout(p=0.1, inplace=False)\n",
       "      )\n",
       "    )\n",
       "    (6): Dummy_Transformer_Block(\n",
       "      (ln1): Dummay_Layer_normalization()\n",
       "      (attn): Dummy_SelfAttention(\n",
       "        (mha): MultiHeadAttention(\n",
       "          (W_query): Linear(in_features=768, out_features=768, bias=False)\n",
       "          (W_key): Linear(in_features=768, out_features=768, bias=False)\n",
       "          (W_value): Linear(in_features=768, out_features=768, bias=False)\n",
       "          (drop_out): Dropout(p=0.1, inplace=False)\n",
       "          (out_proj): Linear(in_features=768, out_features=768, bias=False)\n",
       "        )\n",
       "      )\n",
       "      (ln2): Dummay_Layer_normalization()\n",
       "      (ff): Dummy_FeedForward(\n",
       "        (fc1): Linear(in_features=768, out_features=3072, bias=False)\n",
       "        (gelu): GELU()\n",
       "        (fc2): Linear(in_features=3072, out_features=768, bias=False)\n",
       "        (dropout): Dropout(p=0.1, inplace=False)\n",
       "      )\n",
       "    )\n",
       "    (7): Dummy_Transformer_Block(\n",
       "      (ln1): Dummay_Layer_normalization()\n",
       "      (attn): Dummy_SelfAttention(\n",
       "        (mha): MultiHeadAttention(\n",
       "          (W_query): Linear(in_features=768, out_features=768, bias=False)\n",
       "          (W_key): Linear(in_features=768, out_features=768, bias=False)\n",
       "          (W_value): Linear(in_features=768, out_features=768, bias=False)\n",
       "          (drop_out): Dropout(p=0.1, inplace=False)\n",
       "          (out_proj): Linear(in_features=768, out_features=768, bias=False)\n",
       "        )\n",
       "      )\n",
       "      (ln2): Dummay_Layer_normalization()\n",
       "      (ff): Dummy_FeedForward(\n",
       "        (fc1): Linear(in_features=768, out_features=3072, bias=False)\n",
       "        (gelu): GELU()\n",
       "        (fc2): Linear(in_features=3072, out_features=768, bias=False)\n",
       "        (dropout): Dropout(p=0.1, inplace=False)\n",
       "      )\n",
       "    )\n",
       "    (8): Dummy_Transformer_Block(\n",
       "      (ln1): Dummay_Layer_normalization()\n",
       "      (attn): Dummy_SelfAttention(\n",
       "        (mha): MultiHeadAttention(\n",
       "          (W_query): Linear(in_features=768, out_features=768, bias=False)\n",
       "          (W_key): Linear(in_features=768, out_features=768, bias=False)\n",
       "          (W_value): Linear(in_features=768, out_features=768, bias=False)\n",
       "          (drop_out): Dropout(p=0.1, inplace=False)\n",
       "          (out_proj): Linear(in_features=768, out_features=768, bias=False)\n",
       "        )\n",
       "      )\n",
       "      (ln2): Dummay_Layer_normalization()\n",
       "      (ff): Dummy_FeedForward(\n",
       "        (fc1): Linear(in_features=768, out_features=3072, bias=False)\n",
       "        (gelu): GELU()\n",
       "        (fc2): Linear(in_features=3072, out_features=768, bias=False)\n",
       "        (dropout): Dropout(p=0.1, inplace=False)\n",
       "      )\n",
       "    )\n",
       "    (9): Dummy_Transformer_Block(\n",
       "      (ln1): Dummay_Layer_normalization()\n",
       "      (attn): Dummy_SelfAttention(\n",
       "        (mha): MultiHeadAttention(\n",
       "          (W_query): Linear(in_features=768, out_features=768, bias=False)\n",
       "          (W_key): Linear(in_features=768, out_features=768, bias=False)\n",
       "          (W_value): Linear(in_features=768, out_features=768, bias=False)\n",
       "          (drop_out): Dropout(p=0.1, inplace=False)\n",
       "          (out_proj): Linear(in_features=768, out_features=768, bias=False)\n",
       "        )\n",
       "      )\n",
       "      (ln2): Dummay_Layer_normalization()\n",
       "      (ff): Dummy_FeedForward(\n",
       "        (fc1): Linear(in_features=768, out_features=3072, bias=False)\n",
       "        (gelu): GELU()\n",
       "        (fc2): Linear(in_features=3072, out_features=768, bias=False)\n",
       "        (dropout): Dropout(p=0.1, inplace=False)\n",
       "      )\n",
       "    )\n",
       "    (10): Dummy_Transformer_Block(\n",
       "      (ln1): Dummay_Layer_normalization()\n",
       "      (attn): Dummy_SelfAttention(\n",
       "        (mha): MultiHeadAttention(\n",
       "          (W_query): Linear(in_features=768, out_features=768, bias=False)\n",
       "          (W_key): Linear(in_features=768, out_features=768, bias=False)\n",
       "          (W_value): Linear(in_features=768, out_features=768, bias=False)\n",
       "          (drop_out): Dropout(p=0.1, inplace=False)\n",
       "          (out_proj): Linear(in_features=768, out_features=768, bias=False)\n",
       "        )\n",
       "      )\n",
       "      (ln2): Dummay_Layer_normalization()\n",
       "      (ff): Dummy_FeedForward(\n",
       "        (fc1): Linear(in_features=768, out_features=3072, bias=False)\n",
       "        (gelu): GELU()\n",
       "        (fc2): Linear(in_features=3072, out_features=768, bias=False)\n",
       "        (dropout): Dropout(p=0.1, inplace=False)\n",
       "      )\n",
       "    )\n",
       "    (11): Dummy_Transformer_Block(\n",
       "      (ln1): Dummay_Layer_normalization()\n",
       "      (attn): Dummy_SelfAttention(\n",
       "        (mha): MultiHeadAttention(\n",
       "          (W_query): Linear(in_features=768, out_features=768, bias=False)\n",
       "          (W_key): Linear(in_features=768, out_features=768, bias=False)\n",
       "          (W_value): Linear(in_features=768, out_features=768, bias=False)\n",
       "          (drop_out): Dropout(p=0.1, inplace=False)\n",
       "          (out_proj): Linear(in_features=768, out_features=768, bias=False)\n",
       "        )\n",
       "      )\n",
       "      (ln2): Dummay_Layer_normalization()\n",
       "      (ff): Dummy_FeedForward(\n",
       "        (fc1): Linear(in_features=768, out_features=3072, bias=False)\n",
       "        (gelu): GELU()\n",
       "        (fc2): Linear(in_features=3072, out_features=768, bias=False)\n",
       "        (dropout): Dropout(p=0.1, inplace=False)\n",
       "      )\n",
       "    )\n",
       "  )\n",
       "  (final_norm): Dummay_Layer_normalization()\n",
       "  (out_head): Linear(in_features=768, out_features=50257, bias=False)\n",
       ")"
      ]
     },
     "execution_count": 53,
     "metadata": {},
     "output_type": "execute_result"
    }
   ],
   "source": [
    "import torch\n",
    "\n",
    "\n",
    "GPT_CONFIG_124M = {\n",
    "    \"vocab_size\": 50257,\n",
    "    \"context_length\": 256,  # 1\n",
    "    \"emb_dim\": 768,\n",
    "    \"n_heads\": 12,\n",
    "    \"n_layers\": 12,\n",
    "    \"drop_rate\": 0.1,       # 2\n",
    "    \"qkv_bias\": False\n",
    "}\n",
    "\n",
    "torch.manual_seed(123)\n",
    "model = Dummy_Scratch_gpt_model(GPT_CONFIG_124M)\n",
    "model.eval()\n"
   ]
  },
  {
   "cell_type": "code",
   "execution_count": 54,
   "id": "6e226ecf",
   "metadata": {},
   "outputs": [
    {
     "name": "stdout",
     "output_type": "stream",
     "text": [
      "Output text:\n",
      " Every effort moves youitude stal operatingiru managers donate Zip strengths ingenuityclaw\n"
     ]
    }
   ],
   "source": [
    "import tiktoken\n",
    "\n",
    "def text_to_token(text,tokenizer):\n",
    "    encoded=tokenizer.encode(text,allowed_special={'<|endoftext|>'})\n",
    "    encoded_tensor=torch.tensor(encoded).unsqueeze(0)\n",
    "    return encoded_tensor\n",
    "def token_to_text(token,tokenizer):\n",
    "    flat=token.squeeze(0)\n",
    "    return tokenizer.decode(flat.tolist())\n",
    "\n",
    "start_context = \"Every effort moves you\"\n",
    "tokenizer = tiktoken.get_encoding(\"gpt2\")\n",
    "token_ids = inference_time_prediction(\n",
    "        model,\n",
    "        text_to_token(start_context, tokenizer),\n",
    "        10,\n",
    "        GPT_CONFIG_124M[\"context_length\"]\n",
    "    )\n",
    "print(\"Output text:\\n\", token_to_text(token_ids, tokenizer))\n",
    "\n",
    "        "
   ]
  },
  {
   "cell_type": "code",
   "execution_count": 55,
   "id": "08d8f939",
   "metadata": {},
   "outputs": [
    {
     "name": "stdout",
     "output_type": "stream",
     "text": [
      "Target token probabilities for each position: tensor([1.2939e-05, 1.4286e-05, 1.2428e-05, 1.0439e-05, 1.7014e-05],\n",
      "       grad_fn=<IndexBackward0>)\n"
     ]
    }
   ],
   "source": [
    "# Generate some text and call the model\n",
    "\n",
    "# Define a new prompt for generation\n",
    "prompt = \"The future of artificial intelligence is\"\n",
    "\n",
    "# Tokenize the prompt and convert to tensor\n",
    "tokenizer = tiktoken.get_encoding(\"gpt2\")\n",
    "encoded = tokenizer.encode(prompt)\n",
    "prompt_tensor = torch.tensor(encoded[:5]).unsqueeze(0)  # Add batch dimension\n",
    "\n",
    "# Now pass the tensor to the model\n",
    "probs = model(prompt_tensor)\n",
    "# Implement similar logic to get the probabilities of the target tokens in the generated text\n",
    "\n",
    "import torch.nn.functional as F\n",
    "\n",
    "# Get the model's output probabilities (logits -> probabilities)\n",
    "probs_softmax = F.softmax(probs, dim=-1)\n",
    "\n",
    "# For demonstration, let's get the probability of the next token at each position in the prompt\n",
    "# The \"target\" for each position is the next token in the prompt (shifted by 1)\n",
    "# For the last token, there is no next token, so we limit to len(encoded) - 1\n",
    "targets = encoded[1:]  # next tokens\n",
    "token_indices = list(range(len(targets)))  # positions 0 to len(targets)-1\n",
    "batch_idx = 0  # batch size is 1\n",
    "\n",
    "# Gather the probabilities for the target tokens at each position\n",
    "target_probas = probs_softmax[batch_idx, token_indices, targets]\n",
    "print(\"Target token probabilities for each position:\", target_probas)"
   ]
  },
  {
   "cell_type": "code",
   "execution_count": 56,
   "id": "670b1f36",
   "metadata": {},
   "outputs": [
    {
     "name": "stdout",
     "output_type": "stream",
     "text": [
      "Mean log target probability: tensor(11.2317, grad_fn=<MulBackward0>)\n"
     ]
    }
   ],
   "source": [
    "import torch\n",
    "\n",
    "# Compute the log and then mean of the target probabilities\n",
    "log_target_probas = torch.log(target_probas)\n",
    "mean_log_target_probas = -1*log_target_probas.mean()\n",
    "print(\"Mean log target probability:\", mean_log_target_probas)\n"
   ]
  },
  {
   "cell_type": "code",
   "execution_count": 57,
   "id": "dbaea9fe",
   "metadata": {},
   "outputs": [
    {
     "name": "stdout",
     "output_type": "stream",
     "text": [
      "probs shape: torch.Size([1, 5, 50257])\n",
      "targets shape: torch.Size([5])\n"
     ]
    }
   ],
   "source": [
    "print(\"probs shape:\", probs.shape)\n",
    "print(\"targets shape:\", torch.tensor(targets).shape)\n",
    "loss = torch.nn.functional.cross_entropy(probs.flatten(0,1), torch.tensor(targets))"
   ]
  },
  {
   "cell_type": "code",
   "execution_count": 58,
   "id": "f30f980c",
   "metadata": {},
   "outputs": [
    {
     "name": "stdout",
     "output_type": "stream",
     "text": [
      "tensor(11.2317, grad_fn=<NllLossBackward0>)\n"
     ]
    }
   ],
   "source": [
    "print(loss)"
   ]
  },
  {
   "cell_type": "code",
   "execution_count": 59,
   "id": "708dfe6f",
   "metadata": {},
   "outputs": [
    {
     "name": "stdout",
     "output_type": "stream",
     "text": [
      "Number of tokens in raw_text: 5145\n",
      "Vocabulary size: 50257\n"
     ]
    }
   ],
   "source": [
    "# Tokenize the raw_text and print the vocabulary size\n",
    "tokenizer = tiktoken.get_encoding(\"gpt2\")\n",
    "tokens = tokenizer.encode(raw_text)\n",
    "print(\"Number of tokens in raw_text:\", len(tokens))\n",
    "print(\"Vocabulary size:\", tokenizer.n_vocab)"
   ]
  },
  {
   "cell_type": "code",
   "execution_count": 60,
   "id": "73da93d5",
   "metadata": {},
   "outputs": [],
   "source": [
    "training_ratio = 0.9\n",
    "split_index = int(training_ratio * len(raw_text))\n",
    "train_data = raw_text[:split_index]\n",
    "test_data = raw_text[split_index:]\n",
    "\n",
    "# Create dataloaders for train and test\n",
    "train_loader = create_dataloader_v1(\n",
    "    train_data,\n",
    "    batch_size=2,\n",
    "    max_length=gpt_configuration[\"context_length\"],\n",
    "    stride=gpt_configuration[\"context_length\"],\n",
    "    shuffle=True,\n",
    "    num_workers=0\n",
    ")\n",
    "test_loader = create_dataloader_v1(\n",
    "    test_data,\n",
    "    batch_size=2,\n",
    "    max_length=gpt_configuration[\"context_length\"],\n",
    "    stride=gpt_configuration[\"context_length\"],\n",
    "    drop_last=False,\n",
    "    shuffle=False,\n",
    "    num_workers=0\n",
    ")"
   ]
  },
  {
   "cell_type": "code",
   "execution_count": 61,
   "id": "290da0c9",
   "metadata": {},
   "outputs": [
    {
     "name": "stdout",
     "output_type": "stream",
     "text": [
      "Train loader:\n",
      "torch.Size([2, 256]) torch.Size([2, 256])\n",
      "torch.Size([2, 256]) torch.Size([2, 256])\n",
      "torch.Size([2, 256]) torch.Size([2, 256])\n",
      "torch.Size([2, 256]) torch.Size([2, 256])\n",
      "torch.Size([2, 256]) torch.Size([2, 256])\n",
      "torch.Size([2, 256]) torch.Size([2, 256])\n",
      "torch.Size([2, 256]) torch.Size([2, 256])\n",
      "torch.Size([2, 256]) torch.Size([2, 256])\n",
      "torch.Size([2, 256]) torch.Size([2, 256])\n",
      "\n",
      "Validation loader:\n",
      "torch.Size([2, 256]) torch.Size([2, 256])\n"
     ]
    }
   ],
   "source": [
    "print(\"Train loader:\")\n",
    "for x, y in train_loader:\n",
    "    print(x.shape, y.shape)\n",
    "    \n",
    "    \n",
    "\n",
    "print(\"\\nValidation loader:\")\n",
    "for x, y in test_loader:\n",
    "    print(x.shape, y.shape)\n",
    "    \n"
   ]
  },
  {
   "cell_type": "code",
   "execution_count": 62,
   "id": "ed67b8b9",
   "metadata": {},
   "outputs": [],
   "source": [
    "def calc_loss_batch(input_batch,output_batch,device,model):\n",
    "    input_batch=input_batch.to(device)\n",
    "    output_batch=output_batch.to(device)\n",
    "    probs=model(input_batch)\n",
    "    loss=torch.nn.functional.cross_entropy(probs.flatten(0,1),output_batch.flatten())\n",
    "    return loss"
   ]
  },
  {
   "cell_type": "code",
   "execution_count": 63,
   "id": "f924ec68",
   "metadata": {},
   "outputs": [],
   "source": [
    "def calc_loss_on_loader(loader, device, model):\n",
    "    model.eval()\n",
    "    total_loss = 0.0\n",
    "    total_batches = 0\n",
    "    with torch.no_grad():\n",
    "        for input_batch, output_batch in loader:\n",
    "            loss = calc_loss_batch(input_batch, output_batch, device, model)\n",
    "            total_loss += loss.item()\n",
    "            total_batches += 1\n",
    "    avg_loss = total_loss / total_batches if total_batches > 0 else 0.0\n",
    "    return avg_loss\n"
   ]
  },
  {
   "cell_type": "code",
   "execution_count": 64,
   "id": "f14648fa",
   "metadata": {},
   "outputs": [
    {
     "name": "stdout",
     "output_type": "stream",
     "text": [
      "Training loss: 10.987738291422525\n",
      "Validation loss: 11.000211715698242\n"
     ]
    }
   ],
   "source": [
    "device = torch.device(\"cuda\" if torch.cuda.is_available() else \"cpu\")\n",
    "model.to(device)\n",
    "with torch.no_grad():\n",
    "    train_loss = calc_loss_on_loader(train_loader, device, model)\n",
    "    val_loss = calc_loss_on_loader(test_loader, device, model)\n",
    "print(\"Training loss:\", train_loss)\n",
    "print(\"Validation loss:\", val_loss)\n"
   ]
  },
  {
   "cell_type": "code",
   "execution_count": 65,
   "id": "56b83b4f",
   "metadata": {},
   "outputs": [],
   "source": [
    "def evaluate_model(model,train_loader,test_loader,device,eval_iter):\n",
    "    model.to(device)\n",
    "    model.eval()\n",
    "    \n",
    "    with torch.no_grad():\n",
    "        train_loss = calc_loss_on_loader(train_loader, device, model)\n",
    "        val_loss = calc_loss_on_loader(test_loader, device, model)\n",
    "        \n",
    "    model.train()\n",
    "    return train_loss,val_loss"
   ]
  },
  {
   "cell_type": "code",
   "execution_count": 66,
   "id": "cbc27bc8",
   "metadata": {},
   "outputs": [],
   "source": [
    "def generate_and_print_sample(model,tokenizer,device,start_context):\n",
    "    model.eval()\n",
    "    context_size=model.pos_emb.weight.shape[0]\n",
    "    encoded=text_to_token(start_context,tokenizer).to(device)\n",
    "    with torch.no_grad():\n",
    "        token_ids=inference_time_prediction(model=model,input_sequence=encoded,max_token_window=50,context_size=context_size)\n",
    "    decoded_text=token_to_text(token_ids,tokenizer)\n",
    "    print(decoded_text)\n",
    "    model.train()\n",
    "    \n",
    "    "
   ]
  },
  {
   "cell_type": "code",
   "execution_count": 67,
   "id": "bdece1f2",
   "metadata": {},
   "outputs": [],
   "source": [
    "def train_model(model,optimizer,tokenizer,device,no_of_epoches,train_loader,test_loader,eval_iter,eval_frequency):\n",
    "    \n",
    "    trainlosses,testlosses,track_token_seen=[],[],[]\n",
    "    token_seen,global_step=0,-1\n",
    "    \n",
    "    for epoches in range(no_of_epoches):\n",
    "        model.train()\n",
    "        for input_batch,target_batch in train_loader:\n",
    "            optimizer.zero_grad()\n",
    "            loss=calc_loss_batch(input_batch,target_batch,device,model)\n",
    "            loss.backward()\n",
    "            optimizer.step()\n",
    "            token_seen+=input_batch.numel()\n",
    "            global_step+=1\n",
    "            \n",
    "            if global_step % eval_frequency==0:\n",
    "            \n",
    "                train_loss, test_loss=evaluate_model(model,train_loader,test_loader,device,eval_iter)\n",
    "                trainlosses.append(train_loss)\n",
    "                testlosses.append(test_loss)\n",
    "                \n",
    "                track_token_seen.append(token_seen)\n",
    "                print(f\"Ep {epoches+1}: (Step {global_step:06d}): \"\n",
    "                      f\"Train loss {train_loss:.3f}, \"\n",
    "                      f\"val loss {test_loss:.3f}\"\n",
    "                )\n",
    "                generate_and_print_sample(\n",
    "                    model, tokenizer, device, start_context\n",
    "                )\n",
    "                \n",
    "    return trainlosses,testlosses,track_token_seen\n",
    "        "
   ]
  },
  {
   "cell_type": "code",
   "execution_count": 68,
   "id": "0fbcd068",
   "metadata": {},
   "outputs": [
    {
     "name": "stdout",
     "output_type": "stream",
     "text": [
      "Ep 1: (Step 000000): Train loss 9.823, val loss 9.998\n",
      "Every effort moves you, I, and I\n",
      "\n",
      "\n",
      "\n",
      "\n",
      "\n",
      "\n",
      "\n",
      "\n",
      "\n",
      "\n",
      "\n",
      "\n",
      "\n",
      "\n",
      "\n",
      "\n",
      "\n",
      "\n",
      "\n",
      "\n",
      "\n",
      "\n",
      "\n",
      "\n",
      "\n",
      "\n",
      "\n",
      "\n",
      "\n",
      "\n",
      "\n",
      "\n",
      "\n",
      "\n",
      "\n",
      "\n",
      "\n",
      "\n",
      "\n",
      "\n",
      "\n",
      "\n",
      "\n",
      "\n",
      "\n",
      "Ep 1: (Step 000005): Train loss 8.084, val loss 8.278\n",
      "Every effort moves you,,,,,,,,,,,,,,,,,,,,,,,,,,,,,,,,,,,,,,,,,,,,,,,,,,\n",
      "Ep 2: (Step 000010): Train loss 6.725, val loss 7.063\n",
      "Every effort moves you,,,,,,,,,,,,,.\n",
      "\n",
      "\n",
      "\n",
      "\n",
      "\n",
      "\n",
      "\n",
      "\n",
      "\n",
      "\n",
      "\n",
      "\n",
      "\n",
      "\n",
      "\n",
      "\n",
      "\n",
      "\n",
      "\n",
      "\n",
      "\n",
      "\n",
      "\n",
      "\n",
      "\n",
      "\n",
      "\n",
      "\n",
      "\n",
      "\n",
      "\n",
      "\n",
      "\n",
      "\n",
      "\n",
      "\n",
      "Ep 2: (Step 000015): Train loss 6.095, val loss 6.588\n",
      "Every effort moves you.\n",
      "\n",
      "\n",
      "\n",
      "\n",
      "\n",
      "\n",
      "\n",
      "\n",
      "\n",
      "\n",
      "\n",
      "\n",
      "\n",
      "\n",
      "\n",
      "\n",
      "\n",
      "\n",
      "\n",
      "\n",
      "\n",
      "\n",
      "\n",
      "\n",
      "\n",
      "\n",
      "\n",
      "\n",
      "\n",
      "\n",
      "\n",
      "\n",
      "\n",
      "\n",
      "\n",
      "\n",
      "\n",
      "\n",
      "\n",
      "\n",
      "\n",
      "\n",
      "\n",
      "\n",
      "\n",
      "\n",
      "\n",
      "\n",
      "\n",
      "Ep 3: (Step 000020): Train loss 5.792, val loss 6.522\n",
      "Every effort moves you, the, the, the, the, the, the, the, the,, the, the, the,, the,,, the, the, the,, the, the,, the, the, the,,, the\n",
      "Ep 3: (Step 000025): Train loss 5.471, val loss 6.527\n",
      "Every effort moves you--\"I to the\"I was a to the Gisburn.\n",
      "\"I I had been--I G\"I to the.\n",
      "\"I the Gisburn.\n",
      "\"I to the picture and I had been to the G\n",
      "Ep 4: (Step 000030): Train loss 5.064, val loss 6.349\n",
      "Every effort moves you that he was the\n",
      "\n",
      "\n",
      "\n",
      "\n",
      "\n",
      "\n",
      "\n",
      "\n",
      "\n",
      "\n",
      "\n",
      "\n",
      "\n",
      "\n",
      "\n",
      "\n",
      "\n",
      "\n",
      "\n",
      "\n",
      "\n",
      "\n",
      "\n",
      "\n",
      "\n",
      "\n",
      "\n",
      "\n",
      "\n",
      "\n",
      "\n",
      "\n",
      "\n",
      "\n",
      "\n",
      "\n",
      "\n",
      "\n",
      "\n",
      "\n",
      "\n",
      "\n",
      "\n",
      "\n",
      "\n",
      "\n",
      "Ep 4: (Step 000035): Train loss 4.521, val loss 6.353\n",
      "Every effort moves you know I had to the picture to have to the picture--as.\n",
      "\n",
      "\n",
      "\n",
      "\n",
      "\n",
      "\n",
      "\n",
      "\n",
      "\n",
      "\n",
      "\n",
      "\n",
      "\n",
      "\n",
      "\n",
      "\n",
      "\n",
      "\n",
      "\n",
      "\n",
      "\n",
      "\n",
      "\n",
      "\n",
      "\n",
      "\n",
      "\n",
      "\n",
      "\n",
      "\n",
      "\n",
      "\n",
      "\n",
      "\n",
      "\n",
      "\n",
      "Ep 5: (Step 000040): Train loss 4.039, val loss 6.189\n",
      "Every effort moves you know I was, and I saw--I felt to have a little.\n",
      "\n",
      "\n",
      "\n",
      "\n",
      "\n",
      "\n",
      "\n",
      "\n",
      "\n",
      "\n",
      "\n",
      "\n",
      "\"I looked--as I was the my he was his he was his the the picture--I was his\n",
      "Ep 6: (Step 000045): Train loss 3.471, val loss 6.197\n",
      "Every effort moves you know; and, in the picture--I turned, and I felt--and it, in--and--and, I had been to the picture, in a little to see it's \" it, in a little--and it, in his\n",
      "Ep 6: (Step 000050): Train loss 2.966, val loss 6.188\n",
      "Every effort moves you know; and, and pushed one of the--I turned, the last of the house.\"\n",
      "\n",
      "\n",
      "\n",
      "\n",
      "\n",
      "\n",
      "\n",
      "\n",
      "\n",
      "\n",
      "\n",
      "\n",
      "\n",
      "\n",
      "\n",
      "\n",
      "\"Oh, I had the donkey, and were, I was his\n",
      "Ep 7: (Step 000055): Train loss 2.483, val loss 6.220\n",
      "Every effort moves you know; and I felt to see.\n",
      "\n",
      "\n",
      "\n",
      "\n",
      "\"Oh, and it was no by me.\n",
      "\n",
      "\"Oh, in the moment--as Jack himself at my elbow and I had the end a little to see it.\n",
      "\n",
      "Ep 7: (Step 000060): Train loss 2.031, val loss 6.238\n",
      "Every effort moves you know,\" was, and pushed one of the--I told Mrs.\n",
      "\n",
      "\n",
      "\n",
      "\n",
      "\n",
      "\n",
      "\n",
      "\n",
      "\n",
      "\n",
      "\"I you like.\"\n",
      "\n",
      "He placed them at my elbow and I had the _rose--and it, in his\n",
      "Ep 8: (Step 000065): Train loss 1.633, val loss 6.230\n",
      "Every effort moves you know,\" was one of the picture for nothing--I told Mrs. Stroud so when she began to stammer something about her poverty. I remember getting off a prodigious phrase about the honour being _mine_--oh, I was his\n",
      "Ep 8: (Step 000070): Train loss 1.289, val loss 6.314\n",
      "Every effort moves you know,\" was one of the picture for nothing--I told Mrs.\n",
      "\"Oh, and I was, in fact, becoming the man of the moment--as Jack himself, as once one had been dead.\"\n",
      "\"Oh, and in his\n",
      "Ep 9: (Step 000075): Train loss 0.975, val loss 6.321\n",
      "Every effort moves you?\"\n",
      "\n",
      "\"Yes--quite insensible to the fact with the last word. Gisburn's an awful simpleton, you know, and threw back his head to look up at the honour being _mine_--oh, I was.\n",
      "Ep 9: (Step 000080): Train loss 0.719, val loss 6.332\n",
      "Every effort moves you?\"\n",
      "\n",
      "\"Yes--quite insensible to the irony.\n",
      "\n",
      "\"Oh, and when I looked up, I had made him--it was his close grayish beard--as if he had the donkey. \"There were days when I\n",
      "Ep 10: (Step 000085): Train loss 0.541, val loss 6.480\n",
      "Every effort moves you?\"\n",
      "\n",
      "\"Yes--quite insensible to the fact with equanimity. Poor Jack Gisburn! The women had made him--it was fitting that they should mourn him. . . . . . . . . . . . .\n"
     ]
    }
   ],
   "source": [
    "torch.manual_seed(123)\n",
    "model = Dummy_Scratch_gpt_model(GPT_CONFIG_124M)\n",
    "model.to(device)\n",
    "optimizer = torch.optim.AdamW(\n",
    "    model.parameters(),\n",
    "    lr=0.0004, weight_decay=0.1\n",
    ")\n",
    "\n",
    "num_epochs = 10\n",
    "train_losses, val_losses, tokens_seen = train_model(\n",
    "    model, optimizer, tokenizer, device,\n",
    "    no_of_epoches=num_epochs,\n",
    "    train_loader=train_loader,\n",
    "    test_loader=test_loader,\n",
    "    eval_iter=5,\n",
    "    eval_frequency=5\n",
    ")\n"
   ]
  },
  {
   "cell_type": "code",
   "execution_count": 69,
   "id": "d4c95f7b",
   "metadata": {},
   "outputs": [
    {
     "data": {
      "image/png": "[encoded data removed]",
      "text/plain": [
       "<Figure size 1000x600 with 1 Axes>"
      ]
     },
     "metadata": {},
     "output_type": "display_data"
    }
   ],
   "source": [
    "import matplotlib.pyplot as plt\n",
    "\n",
    "plt.figure(figsize=(10,6))\n",
    "plt.plot(tokens_seen, train_losses, label='Train Loss')\n",
    "plt.plot(tokens_seen, val_losses, label='Validation Loss')\n",
    "plt.xlabel('Tokens Seen')\n",
    "plt.ylabel('Loss')\n",
    "plt.title('Training and Validation Loss vs Tokens Seen')\n",
    "plt.legend()\n",
    "plt.grid(True)\n",
    "plt.show()\n"
   ]
  },
  {
   "cell_type": "code",
   "execution_count": 70,
   "id": "c12ff29f",
   "metadata": {},
   "outputs": [
    {
     "name": "stdout",
     "output_type": "stream",
     "text": [
      "Training is being performed on device: cuda\n"
     ]
    }
   ],
   "source": [
    "print(f\"Training is being performed on device: {device}\")\n"
   ]
  },
  {
   "cell_type": "code",
   "execution_count": 71,
   "id": "86ff8f32",
   "metadata": {},
   "outputs": [
    {
     "data": {
      "text/plain": [
       "Dummy_Scratch_gpt_model(\n",
       "  (token_embedding): Embedding(50257, 768)\n",
       "  (pos_emb): Embedding(256, 768)\n",
       "  (drop_emb): Dropout(p=0.1, inplace=False)\n",
       "  (transformer_blocks): Sequential(\n",
       "    (0): Dummy_Transformer_Block(\n",
       "      (ln1): Dummay_Layer_normalization()\n",
       "      (attn): Dummy_SelfAttention(\n",
       "        (mha): MultiHeadAttention(\n",
       "          (W_query): Linear(in_features=768, out_features=768, bias=False)\n",
       "          (W_key): Linear(in_features=768, out_features=768, bias=False)\n",
       "          (W_value): Linear(in_features=768, out_features=768, bias=False)\n",
       "          (drop_out): Dropout(p=0.1, inplace=False)\n",
       "          (out_proj): Linear(in_features=768, out_features=768, bias=False)\n",
       "        )\n",
       "      )\n",
       "      (ln2): Dummay_Layer_normalization()\n",
       "      (ff): Dummy_FeedForward(\n",
       "        (fc1): Linear(in_features=768, out_features=3072, bias=False)\n",
       "        (gelu): GELU()\n",
       "        (fc2): Linear(in_features=3072, out_features=768, bias=False)\n",
       "        (dropout): Dropout(p=0.1, inplace=False)\n",
       "      )\n",
       "    )\n",
       "    (1): Dummy_Transformer_Block(\n",
       "      (ln1): Dummay_Layer_normalization()\n",
       "      (attn): Dummy_SelfAttention(\n",
       "        (mha): MultiHeadAttention(\n",
       "          (W_query): Linear(in_features=768, out_features=768, bias=False)\n",
       "          (W_key): Linear(in_features=768, out_features=768, bias=False)\n",
       "          (W_value): Linear(in_features=768, out_features=768, bias=False)\n",
       "          (drop_out): Dropout(p=0.1, inplace=False)\n",
       "          (out_proj): Linear(in_features=768, out_features=768, bias=False)\n",
       "        )\n",
       "      )\n",
       "      (ln2): Dummay_Layer_normalization()\n",
       "      (ff): Dummy_FeedForward(\n",
       "        (fc1): Linear(in_features=768, out_features=3072, bias=False)\n",
       "        (gelu): GELU()\n",
       "        (fc2): Linear(in_features=3072, out_features=768, bias=False)\n",
       "        (dropout): Dropout(p=0.1, inplace=False)\n",
       "      )\n",
       "    )\n",
       "    (2): Dummy_Transformer_Block(\n",
       "      (ln1): Dummay_Layer_normalization()\n",
       "      (attn): Dummy_SelfAttention(\n",
       "        (mha): MultiHeadAttention(\n",
       "          (W_query): Linear(in_features=768, out_features=768, bias=False)\n",
       "          (W_key): Linear(in_features=768, out_features=768, bias=False)\n",
       "          (W_value): Linear(in_features=768, out_features=768, bias=False)\n",
       "          (drop_out): Dropout(p=0.1, inplace=False)\n",
       "          (out_proj): Linear(in_features=768, out_features=768, bias=False)\n",
       "        )\n",
       "      )\n",
       "      (ln2): Dummay_Layer_normalization()\n",
       "      (ff): Dummy_FeedForward(\n",
       "        (fc1): Linear(in_features=768, out_features=3072, bias=False)\n",
       "        (gelu): GELU()\n",
       "        (fc2): Linear(in_features=3072, out_features=768, bias=False)\n",
       "        (dropout): Dropout(p=0.1, inplace=False)\n",
       "      )\n",
       "    )\n",
       "    (3): Dummy_Transformer_Block(\n",
       "      (ln1): Dummay_Layer_normalization()\n",
       "      (attn): Dummy_SelfAttention(\n",
       "        (mha): MultiHeadAttention(\n",
       "          (W_query): Linear(in_features=768, out_features=768, bias=False)\n",
       "          (W_key): Linear(in_features=768, out_features=768, bias=False)\n",
       "          (W_value): Linear(in_features=768, out_features=768, bias=False)\n",
       "          (drop_out): Dropout(p=0.1, inplace=False)\n",
       "          (out_proj): Linear(in_features=768, out_features=768, bias=False)\n",
       "        )\n",
       "      )\n",
       "      (ln2): Dummay_Layer_normalization()\n",
       "      (ff): Dummy_FeedForward(\n",
       "        (fc1): Linear(in_features=768, out_features=3072, bias=False)\n",
       "        (gelu): GELU()\n",
       "        (fc2): Linear(in_features=3072, out_features=768, bias=False)\n",
       "        (dropout): Dropout(p=0.1, inplace=False)\n",
       "      )\n",
       "    )\n",
       "    (4): Dummy_Transformer_Block(\n",
       "      (ln1): Dummay_Layer_normalization()\n",
       "      (attn): Dummy_SelfAttention(\n",
       "        (mha): MultiHeadAttention(\n",
       "          (W_query): Linear(in_features=768, out_features=768, bias=False)\n",
       "          (W_key): Linear(in_features=768, out_features=768, bias=False)\n",
       "          (W_value): Linear(in_features=768, out_features=768, bias=False)\n",
       "          (drop_out): Dropout(p=0.1, inplace=False)\n",
       "          (out_proj): Linear(in_features=768, out_features=768, bias=False)\n",
       "        )\n",
       "      )\n",
       "      (ln2): Dummay_Layer_normalization()\n",
       "      (ff): Dummy_FeedForward(\n",
       "        (fc1): Linear(in_features=768, out_features=3072, bias=False)\n",
       "        (gelu): GELU()\n",
       "        (fc2): Linear(in_features=3072, out_features=768, bias=False)\n",
       "        (dropout): Dropout(p=0.1, inplace=False)\n",
       "      )\n",
       "    )\n",
       "    (5): Dummy_Transformer_Block(\n",
       "      (ln1): Dummay_Layer_normalization()\n",
       "      (attn): Dummy_SelfAttention(\n",
       "        (mha): MultiHeadAttention(\n",
       "          (W_query): Linear(in_features=768, out_features=768, bias=False)\n",
       "          (W_key): Linear(in_features=768, out_features=768, bias=False)\n",
       "          (W_value): Linear(in_features=768, out_features=768, bias=False)\n",
       "          (drop_out): Dropout(p=0.1, inplace=False)\n",
       "          (out_proj): Linear(in_features=768, out_features=768, bias=False)\n",
       "        )\n",
       "      )\n",
       "      (ln2): Dummay_Layer_normalization()\n",
       "      (ff): Dummy_FeedForward(\n",
       "        (fc1): Linear(in_features=768, out_features=3072, bias=False)\n",
       "        (gelu): GELU()\n",
       "        (fc2): Linear(in_features=3072, out_features=768, bias=False)\n",
       "        (dropout): Dropout(p=0.1, inplace=False)\n",
       "      )\n",
       "    )\n",
       "    (6): Dummy_Transformer_Block(\n",
       "      (ln1): Dummay_Layer_normalization()\n",
       "      (attn): Dummy_SelfAttention(\n",
       "        (mha): MultiHeadAttention(\n",
       "          (W_query): Linear(in_features=768, out_features=768, bias=False)\n",
       "          (W_key): Linear(in_features=768, out_features=768, bias=False)\n",
       "          (W_value): Linear(in_features=768, out_features=768, bias=False)\n",
       "          (drop_out): Dropout(p=0.1, inplace=False)\n",
       "          (out_proj): Linear(in_features=768, out_features=768, bias=False)\n",
       "        )\n",
       "      )\n",
       "      (ln2): Dummay_Layer_normalization()\n",
       "      (ff): Dummy_FeedForward(\n",
       "        (fc1): Linear(in_features=768, out_features=3072, bias=False)\n",
       "        (gelu): GELU()\n",
       "        (fc2): Linear(in_features=3072, out_features=768, bias=False)\n",
       "        (dropout): Dropout(p=0.1, inplace=False)\n",
       "      )\n",
       "    )\n",
       "    (7): Dummy_Transformer_Block(\n",
       "      (ln1): Dummay_Layer_normalization()\n",
       "      (attn): Dummy_SelfAttention(\n",
       "        (mha): MultiHeadAttention(\n",
       "          (W_query): Linear(in_features=768, out_features=768, bias=False)\n",
       "          (W_key): Linear(in_features=768, out_features=768, bias=False)\n",
       "          (W_value): Linear(in_features=768, out_features=768, bias=False)\n",
       "          (drop_out): Dropout(p=0.1, inplace=False)\n",
       "          (out_proj): Linear(in_features=768, out_features=768, bias=False)\n",
       "        )\n",
       "      )\n",
       "      (ln2): Dummay_Layer_normalization()\n",
       "      (ff): Dummy_FeedForward(\n",
       "        (fc1): Linear(in_features=768, out_features=3072, bias=False)\n",
       "        (gelu): GELU()\n",
       "        (fc2): Linear(in_features=3072, out_features=768, bias=False)\n",
       "        (dropout): Dropout(p=0.1, inplace=False)\n",
       "      )\n",
       "    )\n",
       "    (8): Dummy_Transformer_Block(\n",
       "      (ln1): Dummay_Layer_normalization()\n",
       "      (attn): Dummy_SelfAttention(\n",
       "        (mha): MultiHeadAttention(\n",
       "          (W_query): Linear(in_features=768, out_features=768, bias=False)\n",
       "          (W_key): Linear(in_features=768, out_features=768, bias=False)\n",
       "          (W_value): Linear(in_features=768, out_features=768, bias=False)\n",
       "          (drop_out): Dropout(p=0.1, inplace=False)\n",
       "          (out_proj): Linear(in_features=768, out_features=768, bias=False)\n",
       "        )\n",
       "      )\n",
       "      (ln2): Dummay_Layer_normalization()\n",
       "      (ff): Dummy_FeedForward(\n",
       "        (fc1): Linear(in_features=768, out_features=3072, bias=False)\n",
       "        (gelu): GELU()\n",
       "        (fc2): Linear(in_features=3072, out_features=768, bias=False)\n",
       "        (dropout): Dropout(p=0.1, inplace=False)\n",
       "      )\n",
       "    )\n",
       "    (9): Dummy_Transformer_Block(\n",
       "      (ln1): Dummay_Layer_normalization()\n",
       "      (attn): Dummy_SelfAttention(\n",
       "        (mha): MultiHeadAttention(\n",
       "          (W_query): Linear(in_features=768, out_features=768, bias=False)\n",
       "          (W_key): Linear(in_features=768, out_features=768, bias=False)\n",
       "          (W_value): Linear(in_features=768, out_features=768, bias=False)\n",
       "          (drop_out): Dropout(p=0.1, inplace=False)\n",
       "          (out_proj): Linear(in_features=768, out_features=768, bias=False)\n",
       "        )\n",
       "      )\n",
       "      (ln2): Dummay_Layer_normalization()\n",
       "      (ff): Dummy_FeedForward(\n",
       "        (fc1): Linear(in_features=768, out_features=3072, bias=False)\n",
       "        (gelu): GELU()\n",
       "        (fc2): Linear(in_features=3072, out_features=768, bias=False)\n",
       "        (dropout): Dropout(p=0.1, inplace=False)\n",
       "      )\n",
       "    )\n",
       "    (10): Dummy_Transformer_Block(\n",
       "      (ln1): Dummay_Layer_normalization()\n",
       "      (attn): Dummy_SelfAttention(\n",
       "        (mha): MultiHeadAttention(\n",
       "          (W_query): Linear(in_features=768, out_features=768, bias=False)\n",
       "          (W_key): Linear(in_features=768, out_features=768, bias=False)\n",
       "          (W_value): Linear(in_features=768, out_features=768, bias=False)\n",
       "          (drop_out): Dropout(p=0.1, inplace=False)\n",
       "          (out_proj): Linear(in_features=768, out_features=768, bias=False)\n",
       "        )\n",
       "      )\n",
       "      (ln2): Dummay_Layer_normalization()\n",
       "      (ff): Dummy_FeedForward(\n",
       "        (fc1): Linear(in_features=768, out_features=3072, bias=False)\n",
       "        (gelu): GELU()\n",
       "        (fc2): Linear(in_features=3072, out_features=768, bias=False)\n",
       "        (dropout): Dropout(p=0.1, inplace=False)\n",
       "      )\n",
       "    )\n",
       "    (11): Dummy_Transformer_Block(\n",
       "      (ln1): Dummay_Layer_normalization()\n",
       "      (attn): Dummy_SelfAttention(\n",
       "        (mha): MultiHeadAttention(\n",
       "          (W_query): Linear(in_features=768, out_features=768, bias=False)\n",
       "          (W_key): Linear(in_features=768, out_features=768, bias=False)\n",
       "          (W_value): Linear(in_features=768, out_features=768, bias=False)\n",
       "          (drop_out): Dropout(p=0.1, inplace=False)\n",
       "          (out_proj): Linear(in_features=768, out_features=768, bias=False)\n",
       "        )\n",
       "      )\n",
       "      (ln2): Dummay_Layer_normalization()\n",
       "      (ff): Dummy_FeedForward(\n",
       "        (fc1): Linear(in_features=768, out_features=3072, bias=False)\n",
       "        (gelu): GELU()\n",
       "        (fc2): Linear(in_features=3072, out_features=768, bias=False)\n",
       "        (dropout): Dropout(p=0.1, inplace=False)\n",
       "      )\n",
       "    )\n",
       "  )\n",
       "  (final_norm): Dummay_Layer_normalization()\n",
       "  (out_head): Linear(in_features=768, out_features=50257, bias=False)\n",
       ")"
      ]
     },
     "execution_count": 71,
     "metadata": {},
     "output_type": "execute_result"
    }
   ],
   "source": [
    "model.to(\"cpu\")\n",
    "model.eval()"
   ]
  },
  {
   "cell_type": "code",
   "execution_count": 72,
   "id": "42b42faf",
   "metadata": {},
   "outputs": [
    {
     "name": "stdout",
     "output_type": "stream",
     "text": [
      "Output text:\n",
      " Very effort moves you?\"\n",
      "\n",
      "\"Yes--quite insensible to the fact with equanimity. Poor Jack Gisburn! The women\n"
     ]
    }
   ],
   "source": [
    "token_ids = inference_time_prediction(\n",
    "    model=model,\n",
    "    input_sequence=text_to_token(\"Very effort moves you\", tokenizer),\n",
    "    max_token_window=25,\n",
    "    \n",
    "    context_size=GPT_CONFIG_124M[\"context_length\"]\n",
    ")\n",
    "print(\"Output text:\\n\", token_to_text(token_ids, tokenizer))\n"
   ]
  },
  {
   "cell_type": "code",
   "execution_count": 73,
   "id": "073cc169",
   "metadata": {},
   "outputs": [],
   "source": [
    "vocab = {\n",
    "    \"closer\": 0,\n",
    "    \"every\": 1,\n",
    "    \"effort\": 2,\n",
    "    \"forward\": 3,\n",
    "    \"inches\": 4,\n",
    "    \"moves\": 5,\n",
    "    \"pizza\": 6,\n",
    "    \"toward\": 7,\n",
    "    \"you\": 8,\n",
    "}\n",
    "inverse_vocab = {v: k for k, v in vocab.items()}\n"
   ]
  },
  {
   "cell_type": "code",
   "execution_count": 74,
   "id": "14455b08",
   "metadata": {},
   "outputs": [],
   "source": [
    "def inference_time_prediction_returned_logits(model,input_sequence,max_token_window,context_size):\n",
    "    \n",
    "    all_logits=[]\n",
    "    for _ in range(max_token_window):\n",
    "        input_sequence_to_model=input_sequence[:,-context_size:]\n",
    "        with torch.no_grad():\n",
    "            logits=model(input_sequence_to_model)\n",
    "        logits=logits[:,-1,:]\n",
    "        # probs=logits\n",
    "        all_logits.append(logits)\n",
    "        \n",
    "        \n",
    "        \n",
    "    return all_logits\n",
    "        \n",
    "            "
   ]
  },
  {
   "cell_type": "code",
   "execution_count": 75,
   "id": "7babab23",
   "metadata": {},
   "outputs": [],
   "source": [
    "predicted_text=inference_time_prediction_returned_logits(model,torch.tensor(tokenizer.encode(\"every effort moves you\")).unsqueeze(0),4,gpt_configuration[\"context_length\"])"
   ]
  },
  {
   "cell_type": "code",
   "execution_count": 76,
   "id": "cf661bfb",
   "metadata": {},
   "outputs": [
    {
     "data": {
      "text/plain": [
       "torch.Size([1, 50257])"
      ]
     },
     "execution_count": 76,
     "metadata": {},
     "output_type": "execute_result"
    }
   ],
   "source": [
    "predicted_text[0].shape"
   ]
  },
  {
   "cell_type": "code",
   "execution_count": 77,
   "id": "2cc3dc11",
   "metadata": {},
   "outputs": [],
   "source": [
    "def softmax_with_temperature(logits, temperature):\n",
    "    scaled_logits = logits / temperature\n",
    "    return torch.softmax(scaled_logits, dim=0)\n"
   ]
  },
  {
   "cell_type": "code",
   "execution_count": 78,
   "id": "32a20d08",
   "metadata": {},
   "outputs": [
    {
     "data": {
      "image/png": "[encoded data removed]",
      "text/plain": [
       "<Figure size 600x300 with 1 Axes>"
      ]
     },
     "metadata": {},
     "output_type": "display_data"
    }
   ],
   "source": [
    "temperatures = [0.7, 1.0, 1.3,10]\n",
    "top_k = 10\n",
    "vocab_logits = probs[0, -1].detach()\n",
    "idx = torch.topk(vocab_logits, top_k).indices\n",
    "labels = [tokenizer.decode([i.item()]) for i in idx]\n",
    "scaled_probas = [softmax_with_temperature(vocab_logits, T)[idx].detach().cpu().numpy() for T in temperatures]\n",
    "\n",
    "x = np.arange(top_k)\n",
    "bar_width = 0.25\n",
    "fig, ax = plt.subplots(figsize=(6, 3))\n",
    "for i, T in enumerate(temperatures):\n",
    "    ax.bar(x + i * bar_width, scaled_probas[i], bar_width, label=f'T={T}')\n",
    "ax.set_xticks(x + (len(temperatures)-1)*bar_width/2)\n",
    "ax.set_xticklabels(labels, rotation=45, ha='right')\n",
    "ax.set_ylabel('Probability')\n",
    "ax.legend()\n",
    "plt.tight_layout()\n",
    "plt.show()"
   ]
  },
  {
   "cell_type": "code",
   "execution_count": 79,
   "id": "d9898ea9",
   "metadata": {},
   "outputs": [],
   "source": [
    "def generate(model, input_text, max_new, context_size, temperature=1.0, top_k=None, eos_id=None):\n",
    "    \n",
    "    model.eval()\n",
    "    for i in range(max_new):\n",
    "        if input_text.shape[1] > context_size:\n",
    "            text = input_text[:, -context_size:]\n",
    "        else:\n",
    "            text = input_text\n",
    "        with torch.no_grad():\n",
    "            \n",
    "            logits = model(text)\n",
    "        logits = logits[:, -1, :]\n",
    "        \n",
    "        if top_k is not None:\n",
    "            top_logits = torch.topk(logits, top_k)\n",
    "            min_val = top_logits.values[:, -1:]  # ✅ Fixed: access .values first\n",
    "            logits = torch.where(logits < min_val, torch.tensor(float('-inf')).to(logits.device), logits)  # Also fixed float('inf') to float('-inf')\n",
    "        \n",
    "        if temperature > 0.0:\n",
    "            logits = logits / temperature\n",
    "            probs = torch.softmax(logits, dim=-1)\n",
    "            next_input = torch.multinomial(probs, num_samples=1)\n",
    "        else: \n",
    "            next_input = torch.argmax(logits, dim=-1, keepdim=True)\n",
    "        \n",
    "        if eos_id is not None and next_input.item() == eos_id:  # ✅ Fixed: proper eos_id check\n",
    "            break\n",
    "        \n",
    "        input_text = torch.cat((input_text, next_input), dim=1)\n",
    "                \n",
    "    \n",
    "    return input_text"
   ]
  },
  {
   "cell_type": "code",
   "execution_count": 80,
   "id": "c2070030",
   "metadata": {},
   "outputs": [
    {
     "data": {
      "text/plain": [
       "Dummy_Scratch_gpt_model(\n",
       "  (token_embedding): Embedding(50257, 768)\n",
       "  (pos_emb): Embedding(256, 768)\n",
       "  (drop_emb): Dropout(p=0.1, inplace=False)\n",
       "  (transformer_blocks): Sequential(\n",
       "    (0): Dummy_Transformer_Block(\n",
       "      (ln1): Dummay_Layer_normalization()\n",
       "      (attn): Dummy_SelfAttention(\n",
       "        (mha): MultiHeadAttention(\n",
       "          (W_query): Linear(in_features=768, out_features=768, bias=False)\n",
       "          (W_key): Linear(in_features=768, out_features=768, bias=False)\n",
       "          (W_value): Linear(in_features=768, out_features=768, bias=False)\n",
       "          (drop_out): Dropout(p=0.1, inplace=False)\n",
       "          (out_proj): Linear(in_features=768, out_features=768, bias=False)\n",
       "        )\n",
       "      )\n",
       "      (ln2): Dummay_Layer_normalization()\n",
       "      (ff): Dummy_FeedForward(\n",
       "        (fc1): Linear(in_features=768, out_features=3072, bias=False)\n",
       "        (gelu): GELU()\n",
       "        (fc2): Linear(in_features=3072, out_features=768, bias=False)\n",
       "        (dropout): Dropout(p=0.1, inplace=False)\n",
       "      )\n",
       "    )\n",
       "    (1): Dummy_Transformer_Block(\n",
       "      (ln1): Dummay_Layer_normalization()\n",
       "      (attn): Dummy_SelfAttention(\n",
       "        (mha): MultiHeadAttention(\n",
       "          (W_query): Linear(in_features=768, out_features=768, bias=False)\n",
       "          (W_key): Linear(in_features=768, out_features=768, bias=False)\n",
       "          (W_value): Linear(in_features=768, out_features=768, bias=False)\n",
       "          (drop_out): Dropout(p=0.1, inplace=False)\n",
       "          (out_proj): Linear(in_features=768, out_features=768, bias=False)\n",
       "        )\n",
       "      )\n",
       "      (ln2): Dummay_Layer_normalization()\n",
       "      (ff): Dummy_FeedForward(\n",
       "        (fc1): Linear(in_features=768, out_features=3072, bias=False)\n",
       "        (gelu): GELU()\n",
       "        (fc2): Linear(in_features=3072, out_features=768, bias=False)\n",
       "        (dropout): Dropout(p=0.1, inplace=False)\n",
       "      )\n",
       "    )\n",
       "    (2): Dummy_Transformer_Block(\n",
       "      (ln1): Dummay_Layer_normalization()\n",
       "      (attn): Dummy_SelfAttention(\n",
       "        (mha): MultiHeadAttention(\n",
       "          (W_query): Linear(in_features=768, out_features=768, bias=False)\n",
       "          (W_key): Linear(in_features=768, out_features=768, bias=False)\n",
       "          (W_value): Linear(in_features=768, out_features=768, bias=False)\n",
       "          (drop_out): Dropout(p=0.1, inplace=False)\n",
       "          (out_proj): Linear(in_features=768, out_features=768, bias=False)\n",
       "        )\n",
       "      )\n",
       "      (ln2): Dummay_Layer_normalization()\n",
       "      (ff): Dummy_FeedForward(\n",
       "        (fc1): Linear(in_features=768, out_features=3072, bias=False)\n",
       "        (gelu): GELU()\n",
       "        (fc2): Linear(in_features=3072, out_features=768, bias=False)\n",
       "        (dropout): Dropout(p=0.1, inplace=False)\n",
       "      )\n",
       "    )\n",
       "    (3): Dummy_Transformer_Block(\n",
       "      (ln1): Dummay_Layer_normalization()\n",
       "      (attn): Dummy_SelfAttention(\n",
       "        (mha): MultiHeadAttention(\n",
       "          (W_query): Linear(in_features=768, out_features=768, bias=False)\n",
       "          (W_key): Linear(in_features=768, out_features=768, bias=False)\n",
       "          (W_value): Linear(in_features=768, out_features=768, bias=False)\n",
       "          (drop_out): Dropout(p=0.1, inplace=False)\n",
       "          (out_proj): Linear(in_features=768, out_features=768, bias=False)\n",
       "        )\n",
       "      )\n",
       "      (ln2): Dummay_Layer_normalization()\n",
       "      (ff): Dummy_FeedForward(\n",
       "        (fc1): Linear(in_features=768, out_features=3072, bias=False)\n",
       "        (gelu): GELU()\n",
       "        (fc2): Linear(in_features=3072, out_features=768, bias=False)\n",
       "        (dropout): Dropout(p=0.1, inplace=False)\n",
       "      )\n",
       "    )\n",
       "    (4): Dummy_Transformer_Block(\n",
       "      (ln1): Dummay_Layer_normalization()\n",
       "      (attn): Dummy_SelfAttention(\n",
       "        (mha): MultiHeadAttention(\n",
       "          (W_query): Linear(in_features=768, out_features=768, bias=False)\n",
       "          (W_key): Linear(in_features=768, out_features=768, bias=False)\n",
       "          (W_value): Linear(in_features=768, out_features=768, bias=False)\n",
       "          (drop_out): Dropout(p=0.1, inplace=False)\n",
       "          (out_proj): Linear(in_features=768, out_features=768, bias=False)\n",
       "        )\n",
       "      )\n",
       "      (ln2): Dummay_Layer_normalization()\n",
       "      (ff): Dummy_FeedForward(\n",
       "        (fc1): Linear(in_features=768, out_features=3072, bias=False)\n",
       "        (gelu): GELU()\n",
       "        (fc2): Linear(in_features=3072, out_features=768, bias=False)\n",
       "        (dropout): Dropout(p=0.1, inplace=False)\n",
       "      )\n",
       "    )\n",
       "    (5): Dummy_Transformer_Block(\n",
       "      (ln1): Dummay_Layer_normalization()\n",
       "      (attn): Dummy_SelfAttention(\n",
       "        (mha): MultiHeadAttention(\n",
       "          (W_query): Linear(in_features=768, out_features=768, bias=False)\n",
       "          (W_key): Linear(in_features=768, out_features=768, bias=False)\n",
       "          (W_value): Linear(in_features=768, out_features=768, bias=False)\n",
       "          (drop_out): Dropout(p=0.1, inplace=False)\n",
       "          (out_proj): Linear(in_features=768, out_features=768, bias=False)\n",
       "        )\n",
       "      )\n",
       "      (ln2): Dummay_Layer_normalization()\n",
       "      (ff): Dummy_FeedForward(\n",
       "        (fc1): Linear(in_features=768, out_features=3072, bias=False)\n",
       "        (gelu): GELU()\n",
       "        (fc2): Linear(in_features=3072, out_features=768, bias=False)\n",
       "        (dropout): Dropout(p=0.1, inplace=False)\n",
       "      )\n",
       "    )\n",
       "    (6): Dummy_Transformer_Block(\n",
       "      (ln1): Dummay_Layer_normalization()\n",
       "      (attn): Dummy_SelfAttention(\n",
       "        (mha): MultiHeadAttention(\n",
       "          (W_query): Linear(in_features=768, out_features=768, bias=False)\n",
       "          (W_key): Linear(in_features=768, out_features=768, bias=False)\n",
       "          (W_value): Linear(in_features=768, out_features=768, bias=False)\n",
       "          (drop_out): Dropout(p=0.1, inplace=False)\n",
       "          (out_proj): Linear(in_features=768, out_features=768, bias=False)\n",
       "        )\n",
       "      )\n",
       "      (ln2): Dummay_Layer_normalization()\n",
       "      (ff): Dummy_FeedForward(\n",
       "        (fc1): Linear(in_features=768, out_features=3072, bias=False)\n",
       "        (gelu): GELU()\n",
       "        (fc2): Linear(in_features=3072, out_features=768, bias=False)\n",
       "        (dropout): Dropout(p=0.1, inplace=False)\n",
       "      )\n",
       "    )\n",
       "    (7): Dummy_Transformer_Block(\n",
       "      (ln1): Dummay_Layer_normalization()\n",
       "      (attn): Dummy_SelfAttention(\n",
       "        (mha): MultiHeadAttention(\n",
       "          (W_query): Linear(in_features=768, out_features=768, bias=False)\n",
       "          (W_key): Linear(in_features=768, out_features=768, bias=False)\n",
       "          (W_value): Linear(in_features=768, out_features=768, bias=False)\n",
       "          (drop_out): Dropout(p=0.1, inplace=False)\n",
       "          (out_proj): Linear(in_features=768, out_features=768, bias=False)\n",
       "        )\n",
       "      )\n",
       "      (ln2): Dummay_Layer_normalization()\n",
       "      (ff): Dummy_FeedForward(\n",
       "        (fc1): Linear(in_features=768, out_features=3072, bias=False)\n",
       "        (gelu): GELU()\n",
       "        (fc2): Linear(in_features=3072, out_features=768, bias=False)\n",
       "        (dropout): Dropout(p=0.1, inplace=False)\n",
       "      )\n",
       "    )\n",
       "    (8): Dummy_Transformer_Block(\n",
       "      (ln1): Dummay_Layer_normalization()\n",
       "      (attn): Dummy_SelfAttention(\n",
       "        (mha): MultiHeadAttention(\n",
       "          (W_query): Linear(in_features=768, out_features=768, bias=False)\n",
       "          (W_key): Linear(in_features=768, out_features=768, bias=False)\n",
       "          (W_value): Linear(in_features=768, out_features=768, bias=False)\n",
       "          (drop_out): Dropout(p=0.1, inplace=False)\n",
       "          (out_proj): Linear(in_features=768, out_features=768, bias=False)\n",
       "        )\n",
       "      )\n",
       "      (ln2): Dummay_Layer_normalization()\n",
       "      (ff): Dummy_FeedForward(\n",
       "        (fc1): Linear(in_features=768, out_features=3072, bias=False)\n",
       "        (gelu): GELU()\n",
       "        (fc2): Linear(in_features=3072, out_features=768, bias=False)\n",
       "        (dropout): Dropout(p=0.1, inplace=False)\n",
       "      )\n",
       "    )\n",
       "    (9): Dummy_Transformer_Block(\n",
       "      (ln1): Dummay_Layer_normalization()\n",
       "      (attn): Dummy_SelfAttention(\n",
       "        (mha): MultiHeadAttention(\n",
       "          (W_query): Linear(in_features=768, out_features=768, bias=False)\n",
       "          (W_key): Linear(in_features=768, out_features=768, bias=False)\n",
       "          (W_value): Linear(in_features=768, out_features=768, bias=False)\n",
       "          (drop_out): Dropout(p=0.1, inplace=False)\n",
       "          (out_proj): Linear(in_features=768, out_features=768, bias=False)\n",
       "        )\n",
       "      )\n",
       "      (ln2): Dummay_Layer_normalization()\n",
       "      (ff): Dummy_FeedForward(\n",
       "        (fc1): Linear(in_features=768, out_features=3072, bias=False)\n",
       "        (gelu): GELU()\n",
       "        (fc2): Linear(in_features=3072, out_features=768, bias=False)\n",
       "        (dropout): Dropout(p=0.1, inplace=False)\n",
       "      )\n",
       "    )\n",
       "    (10): Dummy_Transformer_Block(\n",
       "      (ln1): Dummay_Layer_normalization()\n",
       "      (attn): Dummy_SelfAttention(\n",
       "        (mha): MultiHeadAttention(\n",
       "          (W_query): Linear(in_features=768, out_features=768, bias=False)\n",
       "          (W_key): Linear(in_features=768, out_features=768, bias=False)\n",
       "          (W_value): Linear(in_features=768, out_features=768, bias=False)\n",
       "          (drop_out): Dropout(p=0.1, inplace=False)\n",
       "          (out_proj): Linear(in_features=768, out_features=768, bias=False)\n",
       "        )\n",
       "      )\n",
       "      (ln2): Dummay_Layer_normalization()\n",
       "      (ff): Dummy_FeedForward(\n",
       "        (fc1): Linear(in_features=768, out_features=3072, bias=False)\n",
       "        (gelu): GELU()\n",
       "        (fc2): Linear(in_features=3072, out_features=768, bias=False)\n",
       "        (dropout): Dropout(p=0.1, inplace=False)\n",
       "      )\n",
       "    )\n",
       "    (11): Dummy_Transformer_Block(\n",
       "      (ln1): Dummay_Layer_normalization()\n",
       "      (attn): Dummy_SelfAttention(\n",
       "        (mha): MultiHeadAttention(\n",
       "          (W_query): Linear(in_features=768, out_features=768, bias=False)\n",
       "          (W_key): Linear(in_features=768, out_features=768, bias=False)\n",
       "          (W_value): Linear(in_features=768, out_features=768, bias=False)\n",
       "          (drop_out): Dropout(p=0.1, inplace=False)\n",
       "          (out_proj): Linear(in_features=768, out_features=768, bias=False)\n",
       "        )\n",
       "      )\n",
       "      (ln2): Dummay_Layer_normalization()\n",
       "      (ff): Dummy_FeedForward(\n",
       "        (fc1): Linear(in_features=768, out_features=3072, bias=False)\n",
       "        (gelu): GELU()\n",
       "        (fc2): Linear(in_features=3072, out_features=768, bias=False)\n",
       "        (dropout): Dropout(p=0.1, inplace=False)\n",
       "      )\n",
       "    )\n",
       "  )\n",
       "  (final_norm): Dummay_Layer_normalization()\n",
       "  (out_head): Linear(in_features=768, out_features=50257, bias=False)\n",
       ")"
      ]
     },
     "execution_count": 80,
     "metadata": {},
     "output_type": "execute_result"
    }
   ],
   "source": [
    "# When saving (cell 84), this is already correct:\n",
    "torch.save(model.state_dict(), \"model.pth\")\n",
    "\n",
    "# When loading, use weights_only=True (default):\n",
    "model2 = Dummy_Scratch_gpt_model(GPT_CONFIG_124M)\n",
    "model2.load_state_dict(torch.load(\"model.pth\", map_location=device))\n",
    "model2.eval()"
   ]
  },
  {
   "cell_type": "code",
   "execution_count": 81,
   "id": "4dae8298",
   "metadata": {},
   "outputs": [],
   "source": [
    "torch.save({\n",
    "    \"model\": model.state_dict(),\n",
    "    \"opt\": optimizer.state_dict(),\n",
    "}, \"model_and_optimizer.pth\")\n"
   ]
  },
  {
   "cell_type": "code",
   "execution_count": 82,
   "id": "14195f5c",
   "metadata": {},
   "outputs": [],
   "source": [
    "!pip install tensorflow>=2.15.0 tqdm>=4.66\n",
    "\n"
   ]
  },
  {
   "cell_type": "code",
   "execution_count": 83,
   "id": "53d46fea",
   "metadata": {},
   "outputs": [
    {
     "data": {
      "text/plain": [
       "('gpt_download.py', <http.client.HTTPMessage at 0x1e1c6115390>)"
      ]
     },
     "execution_count": 83,
     "metadata": {},
     "output_type": "execute_result"
    }
   ],
   "source": [
    "import urllib.request\n",
    "url = (\n",
    "    \"https://raw.githubusercontent.com/rasbt/\"\n",
    "    \"LLMs-from-scratch/main/ch05/\"\n",
    "    \"01_main-chapter-code/gpt_download.py\"\n",
    ")\n",
    "filename = url.split('/')[-1]\n",
    "urllib.request.urlretrieve(url, filename)\n"
   ]
  },
  {
   "cell_type": "code",
   "execution_count": 84,
   "id": "acc33e0a",
   "metadata": {},
   "outputs": [
    {
     "name": "stdout",
     "output_type": "stream",
     "text": [
      "File already exists and is up-to-date: gpt2\\124M\\checkpoint\n",
      "File already exists and is up-to-date: gpt2\\124M\\encoder.json\n",
      "File already exists and is up-to-date: gpt2\\124M\\hparams.json\n",
      "File already exists and is up-to-date: gpt2\\124M\\model.ckpt.data-00000-of-00001\n",
      "File already exists and is up-to-date: gpt2\\124M\\model.ckpt.index\n",
      "File already exists and is up-to-date: gpt2\\124M\\model.ckpt.meta\n",
      "File already exists and is up-to-date: gpt2\\124M\\vocab.bpe\n"
     ]
    }
   ],
   "source": [
    "from gpt_download import download_and_load_gpt2\n",
    "\n",
    "settings,params=download_and_load_gpt2(model_size=\"124M\",models_dir=\"gpt2\")"
   ]
  },
  {
   "cell_type": "code",
   "execution_count": 85,
   "id": "24bb5656",
   "metadata": {},
   "outputs": [
    {
     "name": "stdout",
     "output_type": "stream",
     "text": [
      "{'n_vocab': 50257, 'n_ctx': 1024, 'n_embd': 768, 'n_head': 12, 'n_layer': 12} dict_keys(['blocks', 'b', 'g', 'wpe', 'wte'])\n"
     ]
    }
   ],
   "source": [
    "print(settings,params.keys())"
   ]
  },
  {
   "cell_type": "code",
   "execution_count": 86,
   "id": "b6d3444c",
   "metadata": {},
   "outputs": [
    {
     "name": "stdout",
     "output_type": "stream",
     "text": [
      "[[-0.11010301 -0.03926672  0.03310751 ... -0.1363697   0.01506208\n",
      "   0.04531523]\n",
      " [ 0.04034033 -0.04861503  0.04624869 ...  0.08605453  0.00253983\n",
      "   0.04318958]\n",
      " [-0.12746179  0.04793796  0.18410145 ...  0.08991534 -0.12972379\n",
      "  -0.08785918]\n",
      " ...\n",
      " [-0.04453601 -0.05483596  0.01225674 ...  0.10435229  0.09783269\n",
      "  -0.06952604]\n",
      " [ 0.1860082   0.01665728  0.04611587 ... -0.09625227  0.07847701\n",
      "  -0.02245961]\n",
      " [ 0.05135201 -0.02768905  0.0499369  ...  0.00704835  0.15519823\n",
      "   0.12067825]]\n"
     ]
    }
   ],
   "source": [
    "print(params['wte'])"
   ]
  },
  {
   "cell_type": "code",
   "execution_count": 87,
   "id": "d5a36cde",
   "metadata": {},
   "outputs": [],
   "source": [
    "model_configs = {\n",
    "    \"gpt2-small (124M)\": {\"emb_dim\": 768, \"n_layers\": 12, \"n_heads\": 12},\n",
    "    \"gpt2-medium (355M)\": {\"emb_dim\": 1024, \"n_layers\": 24, \"n_heads\": 16},\n",
    "    \"gpt2-large (774M)\": {\"emb_dim\": 1280, \"n_layers\": 36, \"n_heads\": 20},\n",
    "    \"gpt2-xl (1558M)\": {\"emb_dim\": 1600, \"n_layers\": 48, \"n_heads\": 25},\n",
    "}\n"
   ]
  },
  {
   "cell_type": "code",
   "execution_count": 88,
   "id": "e7a9e606",
   "metadata": {},
   "outputs": [],
   "source": [
    "NEW_CONFIG=gpt_configuration.copy()"
   ]
  },
  {
   "cell_type": "code",
   "execution_count": 89,
   "id": "078c6fb7",
   "metadata": {},
   "outputs": [
    {
     "data": {
      "text/plain": [
       "{'vocab_size': 50257,\n",
       " 'context_length': 256,\n",
       " 'emb_dim': 768,\n",
       " 'n_heads': 12,\n",
       " 'n_layers': 12,\n",
       " 'drop_rate': 0.1,\n",
       " 'qkv_bias': False}"
      ]
     },
     "execution_count": 89,
     "metadata": {},
     "output_type": "execute_result"
    }
   ],
   "source": [
    "NEW_CONFIG"
   ]
  },
  {
   "cell_type": "code",
   "execution_count": 90,
   "id": "238b515a",
   "metadata": {},
   "outputs": [],
   "source": [
    "NEW_CONFIG.update({'context_length': 1024, 'qkv_bias': True})"
   ]
  },
  {
   "cell_type": "code",
   "execution_count": 91,
   "id": "8a34573e",
   "metadata": {},
   "outputs": [
    {
     "data": {
      "text/plain": [
       "{'vocab_size': 50257,\n",
       " 'context_length': 1024,\n",
       " 'emb_dim': 768,\n",
       " 'n_heads': 12,\n",
       " 'n_layers': 12,\n",
       " 'drop_rate': 0.1,\n",
       " 'qkv_bias': True}"
      ]
     },
     "execution_count": 91,
     "metadata": {},
     "output_type": "execute_result"
    }
   ],
   "source": [
    "NEW_CONFIG.update({'drop_rate': 0.1})\n",
    "NEW_CONFIG"
   ]
  },
  {
   "cell_type": "code",
   "execution_count": 92,
   "id": "56690105",
   "metadata": {},
   "outputs": [],
   "source": [
    "def assign(left,right):\n",
    "    if left.shape!=right.shape:\n",
    "        raise ValueError(\"shape is mismatched left:{left.shape} and right is {right.shape}\")\n",
    "    return torch.nn.Parameter(torch.tensor(right))"
   ]
  },
  {
   "cell_type": "code",
   "execution_count": 93,
   "id": "f6b7f68c",
   "metadata": {},
   "outputs": [],
   "source": [
    "scratch_gpt=Dummy_Scratch_gpt_model(NEW_CONFIG)"
   ]
  },
  {
   "cell_type": "code",
   "execution_count": 94,
   "id": "bf4db707",
   "metadata": {},
   "outputs": [],
   "source": [
    "import numpy as np\n",
    "\n",
    "def load_weights_into_gpt(gpt, params):\n",
    "    # Token and position embeddings\n",
    "    gpt.pos_emb.weight.data = torch.tensor(params['wpe'], device=gpt.pos_emb.weight.device)\n",
    "    gpt.token_embedding.weight.data = torch.tensor(params['wte'], device=gpt.token_embedding.weight.device)\n",
    "\n",
    "    for b in range(len(params[\"blocks\"])):\n",
    "        # Split the combined QKV weights\n",
    "        q_W, k_W, v_W = np.split(params[\"blocks\"][b][\"attn\"][\"c_attn\"][\"w\"], 3, axis=-1)\n",
    "        \n",
    "        # Attention weights\n",
    "        gpt.transformer_blocks[b].attn.mha.W_query.weight.data = torch.tensor(\n",
    "            q_W.T, device=gpt.transformer_blocks[b].attn.mha.W_query.weight.device)\n",
    "        gpt.transformer_blocks[b].attn.mha.W_key.weight.data = torch.tensor(\n",
    "            k_W.T, device=gpt.transformer_blocks[b].attn.mha.W_key.weight.device)\n",
    "        gpt.transformer_blocks[b].attn.mha.W_value.weight.data = torch.tensor(\n",
    "            v_W.T, device=gpt.transformer_blocks[b].attn.mha.W_value.weight.device)\n",
    "\n",
    "        # Attention biases (only if they exist)\n",
    "        if \"b\" in params[\"blocks\"][b][\"attn\"][\"c_attn\"]:\n",
    "            q_b, k_b, v_b = np.split(params[\"blocks\"][b][\"attn\"][\"c_attn\"][\"b\"], 3, axis=-1)\n",
    "            if gpt.transformer_blocks[b].attn.mha.W_query.bias is not None:\n",
    "                gpt.transformer_blocks[b].attn.mha.W_query.bias.data = torch.tensor(\n",
    "                    q_b.squeeze(), device=gpt.transformer_blocks[b].attn.mha.W_query.bias.device)\n",
    "            if gpt.transformer_blocks[b].attn.mha.W_key.bias is not None:\n",
    "                gpt.transformer_blocks[b].attn.mha.W_key.bias.data = torch.tensor(\n",
    "                    k_b.squeeze(), device=gpt.transformer_blocks[b].attn.mha.W_key.bias.device)\n",
    "            if gpt.transformer_blocks[b].attn.mha.W_value.bias is not None:\n",
    "                gpt.transformer_blocks[b].attn.mha.W_value.bias.data = torch.tensor(\n",
    "                    v_b.squeeze(), device=gpt.transformer_blocks[b].attn.mha.W_value.bias.device)\n",
    "\n",
    "        # Output projection\n",
    "        gpt.transformer_blocks[b].attn.mha.out_proj.weight.data = torch.tensor(\n",
    "            params[\"blocks\"][b][\"attn\"][\"c_proj\"][\"w\"].T, \n",
    "            device=gpt.transformer_blocks[b].attn.mha.out_proj.weight.device)\n",
    "        \n",
    "        if \"b\" in params[\"blocks\"][b][\"attn\"][\"c_proj\"] and gpt.transformer_blocks[b].attn.mha.out_proj.bias is not None:\n",
    "            gpt.transformer_blocks[b].attn.mha.out_proj.bias.data = torch.tensor(\n",
    "                params[\"blocks\"][b][\"attn\"][\"c_proj\"][\"b\"],\n",
    "                device=gpt.transformer_blocks[b].attn.mha.out_proj.bias.device)\n",
    "\n",
    "        # Feedforward layers - ADD BIAS CHECKS\n",
    "        gpt.transformer_blocks[b].ff.fc1.weight.data = torch.tensor(\n",
    "            params[\"blocks\"][b][\"mlp\"][\"c_fc\"][\"w\"].T,\n",
    "            device=gpt.transformer_blocks[b].ff.fc1.weight.device)\n",
    "        \n",
    "        # ✅ Add bias check for fc1\n",
    "        if gpt.transformer_blocks[b].ff.fc1.bias is not None:\n",
    "            gpt.transformer_blocks[b].ff.fc1.bias.data = torch.tensor(\n",
    "                params[\"blocks\"][b][\"mlp\"][\"c_fc\"][\"b\"],\n",
    "                device=gpt.transformer_blocks[b].ff.fc1.bias.device)\n",
    "        \n",
    "        gpt.transformer_blocks[b].ff.fc2.weight.data = torch.tensor(\n",
    "            params[\"blocks\"][b][\"mlp\"][\"c_proj\"][\"w\"].T,\n",
    "            device=gpt.transformer_blocks[b].ff.fc2.weight.device)\n",
    "        \n",
    "        # ✅ Add bias check for fc2\n",
    "        if gpt.transformer_blocks[b].ff.fc2.bias is not None:\n",
    "            gpt.transformer_blocks[b].ff.fc2.bias.data = torch.tensor(\n",
    "                params[\"blocks\"][b][\"mlp\"][\"c_proj\"][\"b\"],\n",
    "                device=gpt.transformer_blocks[b].ff.fc2.bias.device)\n",
    "\n",
    "        # Layer normalization\n",
    "        gpt.transformer_blocks[b].ln1.scale.data = torch.tensor(\n",
    "            params[\"blocks\"][b][\"ln_1\"][\"g\"],\n",
    "            device=gpt.transformer_blocks[b].ln1.scale.device)\n",
    "        gpt.transformer_blocks[b].ln1.shift.data = torch.tensor(\n",
    "            params[\"blocks\"][b][\"ln_1\"][\"b\"],\n",
    "            device=gpt.transformer_blocks[b].ln1.shift.device)\n",
    "        \n",
    "        gpt.transformer_blocks[b].ln2.scale.data = torch.tensor(\n",
    "            params[\"blocks\"][b][\"ln_2\"][\"g\"],\n",
    "            device=gpt.transformer_blocks[b].ln2.scale.device)\n",
    "        gpt.transformer_blocks[b].ln2.shift.data = torch.tensor(\n",
    "            params[\"blocks\"][b][\"ln_2\"][\"b\"],\n",
    "            device=gpt.transformer_blocks[b].ln2.shift.device)\n",
    "\n",
    "    # Final layer norm\n",
    "    gpt.final_norm.scale.data = torch.tensor(params[\"g\"], device=gpt.final_norm.scale.device)\n",
    "    gpt.final_norm.shift.data = torch.tensor(params[\"b\"], device=gpt.final_norm.shift.device)\n",
    "    \n",
    "    # Output head - proper weight tying with clone\n",
    "    gpt.out_head.weight = nn.Parameter(gpt.token_embedding.weight.data.clone())"
   ]
  },
  {
   "cell_type": "code",
   "execution_count": 95,
   "id": "d4bb4059",
   "metadata": {},
   "outputs": [],
   "source": [
    "load_weights_into_gpt(scratch_gpt,params)"
   ]
  },
  {
   "cell_type": "code",
   "execution_count": 96,
   "id": "39c6b615",
   "metadata": {},
   "outputs": [
    {
     "name": "stdout",
     "output_type": "stream",
     "text": [
      "Output text:\n",
      " Every effort moves you toward finding an ideal new way to practice something!\n",
      "\n",
      "What makes us want to be on top of that?\n",
      "\n",
      "\n"
     ]
    }
   ],
   "source": [
    "torch.manual_seed(123)\n",
    "\n",
    "\n",
    "token_ids = generate(\n",
    "    model=scratch_gpt,\n",
    "    input_text=text_to_token(\"Every effort moves you\",tokenizer),\n",
    "    max_new=25,\n",
    "    context_size=NEW_CONFIG[\"context_length\"],\n",
    "    top_k=50,\n",
    "    temperature=1.5\n",
    ")\n",
    "scratch_gpt.train()\n",
    "\n",
    "print(\"Output text:\\n\", token_to_text(token_ids, tokenizer))\n"
   ]
  },
  {
   "cell_type": "code",
   "execution_count": 97,
   "id": "5a167f16",
   "metadata": {},
   "outputs": [
    {
     "name": "stdout",
     "output_type": "stream",
     "text": [
      "sms_spam_collection\\SMSSpamCollection.tsv: already exists. Skipping download and extraction.\n"
     ]
    }
   ],
   "source": [
    "import urllib.request\n",
    "import zipfile\n",
    "import os\n",
    "from pathlib import Path\n",
    "\n",
    "url = \"https://archive.ics.uci.edu/static/public/228/sms+spam+collection.zip\"\n",
    "zip_path = \"sms_spam_collection.zip\"\n",
    "extracted_path = \"sms_spam_collection\"\n",
    "data_file_path = Path(extracted_path) / \"SMSSpamCollection.tsv\"\n",
    "\n",
    "def download_and_unzip_spam_data(url, zip_path, extracted_path, data_file_path):\n",
    "    if data_file_path.exists():\n",
    "        print(f\"{data_file_path}: already exists. Skipping download and extraction.\")\n",
    "        return\n",
    "\n",
    "    with urllib.request.urlopen(url) as response:\n",
    "        with open(zip_path, \"wb\") as out_file:\n",
    "            out_file.write(response.read())\n",
    "\n",
    "    with zipfile.ZipFile(zip_path, \"r\") as zip_ref:\n",
    "        zip_ref.extractall(extracted_path)\n",
    "\n",
    "    original_file_path = Path(extracted_path) / \"SMSSpamCollection\"\n",
    "    os.rename(original_file_path, data_file_path)\n",
    "    print(f\"File downloaded and saved as {data_file_path}\")\n",
    "\n",
    "download_and_unzip_spam_data(url, zip_path, extracted_path, data_file_path)\n"
   ]
  },
  {
   "cell_type": "code",
   "execution_count": 98,
   "id": "5d3789e1",
   "metadata": {},
   "outputs": [],
   "source": [
    "import pandas as pd\n",
    "df = pd.read_csv(\n",
    "    data_file_path, sep=\"\\t\", header=None, names=[\"Label\", \"Text\"]\n",
    ")"
   ]
  },
  {
   "cell_type": "code",
   "execution_count": 99,
   "id": "f8f79420",
   "metadata": {},
   "outputs": [
    {
     "data": {
      "text/html": [
       "<div>\n",
       "<style scoped>\n",
       "    .dataframe tbody tr th:only-of-type {\n",
       "        vertical-align: middle;\n",
       "    }\n",
       "\n",
       "    .dataframe tbody tr th {\n",
       "        vertical-align: top;\n",
       "    }\n",
       "\n",
       "    .dataframe thead th {\n",
       "        text-align: right;\n",
       "    }\n",
       "</style>\n",
       "<table border=\"1\" class=\"dataframe\">\n",
       "  <thead>\n",
       "    <tr style=\"text-align: right;\">\n",
       "      <th></th>\n",
       "      <th>Label</th>\n",
       "      <th>Text</th>\n",
       "    </tr>\n",
       "  </thead>\n",
       "  <tbody>\n",
       "    <tr>\n",
       "      <th>0</th>\n",
       "      <td>ham</td>\n",
       "      <td>Go until jurong point, crazy.. Available only ...</td>\n",
       "    </tr>\n",
       "    <tr>\n",
       "      <th>1</th>\n",
       "      <td>ham</td>\n",
       "      <td>Ok lar... Joking wif u oni...</td>\n",
       "    </tr>\n",
       "    <tr>\n",
       "      <th>2</th>\n",
       "      <td>spam</td>\n",
       "      <td>Free entry in 2 a wkly comp to win FA Cup fina...</td>\n",
       "    </tr>\n",
       "    <tr>\n",
       "      <th>3</th>\n",
       "      <td>ham</td>\n",
       "      <td>U dun say so early hor... U c already then say...</td>\n",
       "    </tr>\n",
       "    <tr>\n",
       "      <th>4</th>\n",
       "      <td>ham</td>\n",
       "      <td>Nah I don't think he goes to usf, he lives aro...</td>\n",
       "    </tr>\n",
       "    <tr>\n",
       "      <th>...</th>\n",
       "      <td>...</td>\n",
       "      <td>...</td>\n",
       "    </tr>\n",
       "    <tr>\n",
       "      <th>5567</th>\n",
       "      <td>spam</td>\n",
       "      <td>This is the 2nd time we have tried 2 contact u...</td>\n",
       "    </tr>\n",
       "    <tr>\n",
       "      <th>5568</th>\n",
       "      <td>ham</td>\n",
       "      <td>Will ü b going to esplanade fr home?</td>\n",
       "    </tr>\n",
       "    <tr>\n",
       "      <th>5569</th>\n",
       "      <td>ham</td>\n",
       "      <td>Pity, * was in mood for that. So...any other s...</td>\n",
       "    </tr>\n",
       "    <tr>\n",
       "      <th>5570</th>\n",
       "      <td>ham</td>\n",
       "      <td>The guy did some bitching but I acted like i'd...</td>\n",
       "    </tr>\n",
       "    <tr>\n",
       "      <th>5571</th>\n",
       "      <td>ham</td>\n",
       "      <td>Rofl. Its true to its name</td>\n",
       "    </tr>\n",
       "  </tbody>\n",
       "</table>\n",
       "<p>5572 rows × 2 columns</p>\n",
       "</div>"
      ],
      "text/plain": [
       "     Label                                               Text\n",
       "0      ham  Go until jurong point, crazy.. Available only ...\n",
       "1      ham                      Ok lar... Joking wif u oni...\n",
       "2     spam  Free entry in 2 a wkly comp to win FA Cup fina...\n",
       "3      ham  U dun say so early hor... U c already then say...\n",
       "4      ham  Nah I don't think he goes to usf, he lives aro...\n",
       "...    ...                                                ...\n",
       "5567  spam  This is the 2nd time we have tried 2 contact u...\n",
       "5568   ham               Will ü b going to esplanade fr home?\n",
       "5569   ham  Pity, * was in mood for that. So...any other s...\n",
       "5570   ham  The guy did some bitching but I acted like i'd...\n",
       "5571   ham                         Rofl. Its true to its name\n",
       "\n",
       "[5572 rows x 2 columns]"
      ]
     },
     "execution_count": 99,
     "metadata": {},
     "output_type": "execute_result"
    }
   ],
   "source": [
    "df"
   ]
  },
  {
   "cell_type": "code",
   "execution_count": 122,
   "id": "e3edf445",
   "metadata": {},
   "outputs": [
    {
     "data": {
      "text/plain": [
       "Label\n",
       "ham     4825\n",
       "spam     747\n",
       "Name: count, dtype: int64"
      ]
     },
     "execution_count": 122,
     "metadata": {},
     "output_type": "execute_result"
    }
   ],
   "source": [
    "df[\"Label\"].value_counts()\n"
   ]
  },
  {
   "cell_type": "code",
   "execution_count": 123,
   "id": "ea04f371",
   "metadata": {},
   "outputs": [
    {
     "name": "stdout",
     "output_type": "stream",
     "text": [
      "Label\n",
      "ham     747\n",
      "spam    747\n",
      "Name: count, dtype: int64\n"
     ]
    }
   ],
   "source": [
    "def create_balanced_dataset(df):\n",
    "    num_spam = df[df[\"Label\"] == \"spam\"].shape[0]\n",
    "    ham_subset = df[df[\"Label\"] == \"ham\"].sample(num_spam, random_state=123)\n",
    "    balanced_df = pd.concat([ham_subset, df[df[\"Label\"] == \"spam\"]])\n",
    "    return balanced_df\n",
    "\n",
    "balanced_df = create_balanced_dataset(df)\n",
    "print(balanced_df[\"Label\"].value_counts())\n"
   ]
  },
  {
   "cell_type": "code",
   "execution_count": 124,
   "id": "9c809424",
   "metadata": {},
   "outputs": [],
   "source": [
    "balanced_df[\"Label\"] = balanced_df[\"Label\"].map({\"ham\": 0, \"spam\": 1})\n"
   ]
  },
  {
   "cell_type": "code",
   "execution_count": 125,
   "id": "9866bca3",
   "metadata": {},
   "outputs": [
    {
     "data": {
      "text/html": [
       "<div>\n",
       "<style scoped>\n",
       "    .dataframe tbody tr th:only-of-type {\n",
       "        vertical-align: middle;\n",
       "    }\n",
       "\n",
       "    .dataframe tbody tr th {\n",
       "        vertical-align: top;\n",
       "    }\n",
       "\n",
       "    .dataframe thead th {\n",
       "        text-align: right;\n",
       "    }\n",
       "</style>\n",
       "<table border=\"1\" class=\"dataframe\">\n",
       "  <thead>\n",
       "    <tr style=\"text-align: right;\">\n",
       "      <th></th>\n",
       "      <th>Label</th>\n",
       "      <th>Text</th>\n",
       "    </tr>\n",
       "  </thead>\n",
       "  <tbody>\n",
       "    <tr>\n",
       "      <th>4307</th>\n",
       "      <td>0</td>\n",
       "      <td>Awww dat is sweet! We can think of something t...</td>\n",
       "    </tr>\n",
       "    <tr>\n",
       "      <th>4138</th>\n",
       "      <td>0</td>\n",
       "      <td>Just got to  &amp;lt;#&amp;gt;</td>\n",
       "    </tr>\n",
       "    <tr>\n",
       "      <th>4831</th>\n",
       "      <td>0</td>\n",
       "      <td>The word \"Checkmate\" in chess comes from the P...</td>\n",
       "    </tr>\n",
       "    <tr>\n",
       "      <th>4461</th>\n",
       "      <td>0</td>\n",
       "      <td>This is wishing you a great day. Moji told me ...</td>\n",
       "    </tr>\n",
       "    <tr>\n",
       "      <th>5440</th>\n",
       "      <td>0</td>\n",
       "      <td>Thank you. do you generally date the brothas?</td>\n",
       "    </tr>\n",
       "    <tr>\n",
       "      <th>...</th>\n",
       "      <td>...</td>\n",
       "      <td>...</td>\n",
       "    </tr>\n",
       "    <tr>\n",
       "      <th>5537</th>\n",
       "      <td>1</td>\n",
       "      <td>Want explicit SEX in 30 secs? Ring 02073162414...</td>\n",
       "    </tr>\n",
       "    <tr>\n",
       "      <th>5540</th>\n",
       "      <td>1</td>\n",
       "      <td>ASKED 3MOBILE IF 0870 CHATLINES INCLU IN FREE ...</td>\n",
       "    </tr>\n",
       "    <tr>\n",
       "      <th>5547</th>\n",
       "      <td>1</td>\n",
       "      <td>Had your contract mobile 11 Mnths? Latest Moto...</td>\n",
       "    </tr>\n",
       "    <tr>\n",
       "      <th>5566</th>\n",
       "      <td>1</td>\n",
       "      <td>REMINDER FROM O2: To get 2.50 pounds free call...</td>\n",
       "    </tr>\n",
       "    <tr>\n",
       "      <th>5567</th>\n",
       "      <td>1</td>\n",
       "      <td>This is the 2nd time we have tried 2 contact u...</td>\n",
       "    </tr>\n",
       "  </tbody>\n",
       "</table>\n",
       "<p>1494 rows × 2 columns</p>\n",
       "</div>"
      ],
      "text/plain": [
       "      Label                                               Text\n",
       "4307      0  Awww dat is sweet! We can think of something t...\n",
       "4138      0                             Just got to  &lt;#&gt;\n",
       "4831      0  The word \"Checkmate\" in chess comes from the P...\n",
       "4461      0  This is wishing you a great day. Moji told me ...\n",
       "5440      0      Thank you. do you generally date the brothas?\n",
       "...     ...                                                ...\n",
       "5537      1  Want explicit SEX in 30 secs? Ring 02073162414...\n",
       "5540      1  ASKED 3MOBILE IF 0870 CHATLINES INCLU IN FREE ...\n",
       "5547      1  Had your contract mobile 11 Mnths? Latest Moto...\n",
       "5566      1  REMINDER FROM O2: To get 2.50 pounds free call...\n",
       "5567      1  This is the 2nd time we have tried 2 contact u...\n",
       "\n",
       "[1494 rows x 2 columns]"
      ]
     },
     "execution_count": 125,
     "metadata": {},
     "output_type": "execute_result"
    }
   ],
   "source": [
    "balanced_df"
   ]
  },
  {
   "cell_type": "code",
   "execution_count": 126,
   "id": "df5f232f",
   "metadata": {},
   "outputs": [],
   "source": [
    "def random_split(df, train_frac, validation_frac):\n",
    "    df = df.sample(frac=1, random_state=123).reset_index(drop=True)\n",
    "    train_end = int(len(df) * train_frac)\n",
    "    validation_end = train_end + int(len(df) * validation_frac)\n",
    "    train_df = df[:train_end]\n",
    "    validation_df = df[train_end:validation_end]\n",
    "    test_df = df[validation_end:]\n",
    "    return train_df, validation_df, test_df\n",
    "\n",
    "train_df, validation_df, test_df = random_split(balanced_df, 0.7, 0.1)\n"
   ]
  },
  {
   "cell_type": "code",
   "execution_count": 127,
   "id": "400b8ed8",
   "metadata": {},
   "outputs": [
    {
     "name": "stdout",
     "output_type": "stream",
     "text": [
      "[50256]\n"
     ]
    }
   ],
   "source": [
    "import tiktoken\n",
    "tokenizer = tiktoken.get_encoding(\"gpt2\")\n",
    "print(tokenizer.encode(\"<|endoftext|>\", allowed_special={\"<|endoftext|>\"}))\n"
   ]
  },
  {
   "cell_type": "code",
   "execution_count": 128,
   "id": "e8fefb02",
   "metadata": {},
   "outputs": [],
   "source": [
    "train_df.to_csv(\"train.csv\", index=None)\n",
    "validation_df.to_csv(\"validation.csv\", index=None)\n",
    "test_df.to_csv(\"test.csv\", index=None)\n"
   ]
  },
  {
   "cell_type": "code",
   "execution_count": 138,
   "id": "ebd52f06",
   "metadata": {},
   "outputs": [],
   "source": [
    "import torch\n",
    "from torch.utils.data import Dataset\n",
    "\n",
    "class dataset_to_batches(Dataset):\n",
    "    def __init__(self,csv_file,tokenizer,max_length=None,pad_token_id=50256):\n",
    "        self.data=pd.read_csv(csv_file)\n",
    "        self.encoded_texts=[tokenizer.encode(text) for text in self.data[\"Text\"]]\n",
    "        if max_length is None:\n",
    "            self.max_length=self._longest_encoded_length()\n",
    "        else:\n",
    "            self.max_length=max_length\n",
    "            \n",
    "            self.encoded_texts=[ each[:self.max_length]for each in self.encoded_texts]\n",
    "            \n",
    "        self.encoded_texts=[encoded_text+[pad_token_id]*(self.max_length-len(encoded_text)) for encoded_text in self.encoded_texts]\n",
    "        \n",
    "        \n",
    "    def __getitem__(self,index):\n",
    "        encoded=self.encoded_texts[index]\n",
    "        label=self.data.iloc[index][\"Label\"]\n",
    "        return(\n",
    "            torch.tensor(encoded,dtype=torch.long),\n",
    "            torch.tensor(label,dtype=torch.long)\n",
    "        )\n",
    "    \n",
    "    def __len__(self):\n",
    "        return len(self.data)\n",
    "    \n",
    "        \n",
    "        \n",
    "\n",
    "\n",
    "\n",
    "    def _longest_encoded_length(self):\n",
    "        max_length=0\n",
    "        for encoded_text in self.encoded_texts:\n",
    "            encoded_length=len(encoded_text)\n",
    "            if encoded_length>max_length:\n",
    "                max_length=encoded_length\n",
    "        return max_length\n",
    "    \n"
   ]
  },
  {
   "cell_type": "code",
   "execution_count": 139,
   "id": "41b71b14",
   "metadata": {},
   "outputs": [],
   "source": [
    "train_dataset_for_fine_tuning = dataset_to_batches(csv_file=\"train.csv\", max_length=None, tokenizer=tokenizer)\n",
    "val_dataset_for_fine_tuning = dataset_to_batches(csv_file=\"validation.csv\", max_length=None, tokenizer=tokenizer)\n",
    "test_dataset_for_fine_tuning = dataset_to_batches(csv_file=\"test.csv\", max_length=None, tokenizer=tokenizer)\n"
   ]
  },
  {
   "cell_type": "code",
   "execution_count": 140,
   "id": "b5786357",
   "metadata": {},
   "outputs": [],
   "source": [
    "from torch.utils.data import DataLoader\n",
    "\n",
    "num_workers = 0\n",
    "batch_size = 8\n",
    "torch.manual_seed(123)\n",
    "\n",
    "train_loader = DataLoader(\n",
    "    dataset=train_dataset_for_fine_tuning,\n",
    "    batch_size=batch_size,\n",
    "    shuffle=True,\n",
    "    num_workers=num_workers,\n",
    "    drop_last=True\n",
    ")\n",
    "\n",
    "val_loader = DataLoader(\n",
    "    dataset=val_dataset_for_fine_tuning,\n",
    "    batch_size=batch_size,\n",
    "    num_workers=num_workers,\n",
    "    drop_last=False\n",
    ")\n",
    "\n",
    "test_loader = DataLoader(\n",
    "    dataset=test_dataset_for_fine_tuning,\n",
    "    batch_size=batch_size,\n",
    "    num_workers=num_workers,\n",
    "    drop_last=False\n",
    ")"
   ]
  },
  {
   "cell_type": "code",
   "execution_count": 143,
   "id": "37f580b4",
   "metadata": {},
   "outputs": [
    {
     "name": "stdout",
     "output_type": "stream",
     "text": [
      "Input batch dimensions: torch.Size([8, 120])\n",
      "Target batch dimensions: torch.Size([8])\n"
     ]
    }
   ],
   "source": [
    "for input_batch, target_batch in train_loader:\n",
    "    pass\n",
    "print(\"Input batch dimensions:\", input_batch.shape)\n",
    "print(\"Target batch dimensions:\", target_batch.shape)"
   ]
  },
  {
   "cell_type": "code",
   "execution_count": 146,
   "id": "28e8e829",
   "metadata": {},
   "outputs": [
    {
     "name": "stdout",
     "output_type": "stream",
     "text": [
      "Is the following text 'spam'? Answer with 'yes' or 'no': You are a winner you have been specially selected to receive $1000 cash or a $2000 award. We hope you found the Instructor book. Please check education,merciless and role of trainee.\n",
      "\n",
      "\n"
     ]
    }
   ],
   "source": [
    "text_2 = (\n",
    "    \"Is the following text 'spam'? Answer with 'yes' or 'no': \"\n",
    "    \"You are a winner you have been specially \"\n",
    "    \"selected to receive $1000 cash or a $2000 award.\"\n",
    ")\n",
    "token_ids = generate(\n",
    "    model=scratch_gpt,\n",
    "    input_text=text_to_token(text_2, tokenizer),\n",
    "    max_new=23,\n",
    "    context_size=NEW_CONFIG[\"context_length\"]\n",
    ")\n",
    "print(token_to_text(token_ids, tokenizer))\n"
   ]
  },
  {
   "cell_type": "code",
   "execution_count": 147,
   "id": "52e7df6d",
   "metadata": {},
   "outputs": [
    {
     "name": "stdout",
     "output_type": "stream",
     "text": [
      "Dummy_Scratch_gpt_model(\n",
      "  (token_embedding): Embedding(50257, 768)\n",
      "  (pos_emb): Embedding(1024, 768)\n",
      "  (drop_emb): Dropout(p=0.1, inplace=False)\n",
      "  (transformer_blocks): Sequential(\n",
      "    (0): Dummy_Transformer_Block(\n",
      "      (ln1): Dummay_Layer_normalization()\n",
      "      (attn): Dummy_SelfAttention(\n",
      "        (mha): MultiHeadAttention(\n",
      "          (W_query): Linear(in_features=768, out_features=768, bias=True)\n",
      "          (W_key): Linear(in_features=768, out_features=768, bias=True)\n",
      "          (W_value): Linear(in_features=768, out_features=768, bias=True)\n",
      "          (drop_out): Dropout(p=0.1, inplace=False)\n",
      "          (out_proj): Linear(in_features=768, out_features=768, bias=True)\n",
      "        )\n",
      "      )\n",
      "      (ln2): Dummay_Layer_normalization()\n",
      "      (ff): Dummy_FeedForward(\n",
      "        (fc1): Linear(in_features=768, out_features=3072, bias=True)\n",
      "        (gelu): GELU()\n",
      "        (fc2): Linear(in_features=3072, out_features=768, bias=True)\n",
      "        (dropout): Dropout(p=0.1, inplace=False)\n",
      "      )\n",
      "    )\n",
      "    (1): Dummy_Transformer_Block(\n",
      "      (ln1): Dummay_Layer_normalization()\n",
      "      (attn): Dummy_SelfAttention(\n",
      "        (mha): MultiHeadAttention(\n",
      "          (W_query): Linear(in_features=768, out_features=768, bias=True)\n",
      "          (W_key): Linear(in_features=768, out_features=768, bias=True)\n",
      "          (W_value): Linear(in_features=768, out_features=768, bias=True)\n",
      "          (drop_out): Dropout(p=0.1, inplace=False)\n",
      "          (out_proj): Linear(in_features=768, out_features=768, bias=True)\n",
      "        )\n",
      "      )\n",
      "      (ln2): Dummay_Layer_normalization()\n",
      "      (ff): Dummy_FeedForward(\n",
      "        (fc1): Linear(in_features=768, out_features=3072, bias=True)\n",
      "        (gelu): GELU()\n",
      "        (fc2): Linear(in_features=3072, out_features=768, bias=True)\n",
      "        (dropout): Dropout(p=0.1, inplace=False)\n",
      "      )\n",
      "    )\n",
      "    (2): Dummy_Transformer_Block(\n",
      "      (ln1): Dummay_Layer_normalization()\n",
      "      (attn): Dummy_SelfAttention(\n",
      "        (mha): MultiHeadAttention(\n",
      "          (W_query): Linear(in_features=768, out_features=768, bias=True)\n",
      "          (W_key): Linear(in_features=768, out_features=768, bias=True)\n",
      "          (W_value): Linear(in_features=768, out_features=768, bias=True)\n",
      "          (drop_out): Dropout(p=0.1, inplace=False)\n",
      "          (out_proj): Linear(in_features=768, out_features=768, bias=True)\n",
      "        )\n",
      "      )\n",
      "      (ln2): Dummay_Layer_normalization()\n",
      "      (ff): Dummy_FeedForward(\n",
      "        (fc1): Linear(in_features=768, out_features=3072, bias=True)\n",
      "        (gelu): GELU()\n",
      "        (fc2): Linear(in_features=3072, out_features=768, bias=True)\n",
      "        (dropout): Dropout(p=0.1, inplace=False)\n",
      "      )\n",
      "    )\n",
      "    (3): Dummy_Transformer_Block(\n",
      "      (ln1): Dummay_Layer_normalization()\n",
      "      (attn): Dummy_SelfAttention(\n",
      "        (mha): MultiHeadAttention(\n",
      "          (W_query): Linear(in_features=768, out_features=768, bias=True)\n",
      "          (W_key): Linear(in_features=768, out_features=768, bias=True)\n",
      "          (W_value): Linear(in_features=768, out_features=768, bias=True)\n",
      "          (drop_out): Dropout(p=0.1, inplace=False)\n",
      "          (out_proj): Linear(in_features=768, out_features=768, bias=True)\n",
      "        )\n",
      "      )\n",
      "      (ln2): Dummay_Layer_normalization()\n",
      "      (ff): Dummy_FeedForward(\n",
      "        (fc1): Linear(in_features=768, out_features=3072, bias=True)\n",
      "        (gelu): GELU()\n",
      "        (fc2): Linear(in_features=3072, out_features=768, bias=True)\n",
      "        (dropout): Dropout(p=0.1, inplace=False)\n",
      "      )\n",
      "    )\n",
      "    (4): Dummy_Transformer_Block(\n",
      "      (ln1): Dummay_Layer_normalization()\n",
      "      (attn): Dummy_SelfAttention(\n",
      "        (mha): MultiHeadAttention(\n",
      "          (W_query): Linear(in_features=768, out_features=768, bias=True)\n",
      "          (W_key): Linear(in_features=768, out_features=768, bias=True)\n",
      "          (W_value): Linear(in_features=768, out_features=768, bias=True)\n",
      "          (drop_out): Dropout(p=0.1, inplace=False)\n",
      "          (out_proj): Linear(in_features=768, out_features=768, bias=True)\n",
      "        )\n",
      "      )\n",
      "      (ln2): Dummay_Layer_normalization()\n",
      "      (ff): Dummy_FeedForward(\n",
      "        (fc1): Linear(in_features=768, out_features=3072, bias=True)\n",
      "        (gelu): GELU()\n",
      "        (fc2): Linear(in_features=3072, out_features=768, bias=True)\n",
      "        (dropout): Dropout(p=0.1, inplace=False)\n",
      "      )\n",
      "    )\n",
      "    (5): Dummy_Transformer_Block(\n",
      "      (ln1): Dummay_Layer_normalization()\n",
      "      (attn): Dummy_SelfAttention(\n",
      "        (mha): MultiHeadAttention(\n",
      "          (W_query): Linear(in_features=768, out_features=768, bias=True)\n",
      "          (W_key): Linear(in_features=768, out_features=768, bias=True)\n",
      "          (W_value): Linear(in_features=768, out_features=768, bias=True)\n",
      "          (drop_out): Dropout(p=0.1, inplace=False)\n",
      "          (out_proj): Linear(in_features=768, out_features=768, bias=True)\n",
      "        )\n",
      "      )\n",
      "      (ln2): Dummay_Layer_normalization()\n",
      "      (ff): Dummy_FeedForward(\n",
      "        (fc1): Linear(in_features=768, out_features=3072, bias=True)\n",
      "        (gelu): GELU()\n",
      "        (fc2): Linear(in_features=3072, out_features=768, bias=True)\n",
      "        (dropout): Dropout(p=0.1, inplace=False)\n",
      "      )\n",
      "    )\n",
      "    (6): Dummy_Transformer_Block(\n",
      "      (ln1): Dummay_Layer_normalization()\n",
      "      (attn): Dummy_SelfAttention(\n",
      "        (mha): MultiHeadAttention(\n",
      "          (W_query): Linear(in_features=768, out_features=768, bias=True)\n",
      "          (W_key): Linear(in_features=768, out_features=768, bias=True)\n",
      "          (W_value): Linear(in_features=768, out_features=768, bias=True)\n",
      "          (drop_out): Dropout(p=0.1, inplace=False)\n",
      "          (out_proj): Linear(in_features=768, out_features=768, bias=True)\n",
      "        )\n",
      "      )\n",
      "      (ln2): Dummay_Layer_normalization()\n",
      "      (ff): Dummy_FeedForward(\n",
      "        (fc1): Linear(in_features=768, out_features=3072, bias=True)\n",
      "        (gelu): GELU()\n",
      "        (fc2): Linear(in_features=3072, out_features=768, bias=True)\n",
      "        (dropout): Dropout(p=0.1, inplace=False)\n",
      "      )\n",
      "    )\n",
      "    (7): Dummy_Transformer_Block(\n",
      "      (ln1): Dummay_Layer_normalization()\n",
      "      (attn): Dummy_SelfAttention(\n",
      "        (mha): MultiHeadAttention(\n",
      "          (W_query): Linear(in_features=768, out_features=768, bias=True)\n",
      "          (W_key): Linear(in_features=768, out_features=768, bias=True)\n",
      "          (W_value): Linear(in_features=768, out_features=768, bias=True)\n",
      "          (drop_out): Dropout(p=0.1, inplace=False)\n",
      "          (out_proj): Linear(in_features=768, out_features=768, bias=True)\n",
      "        )\n",
      "      )\n",
      "      (ln2): Dummay_Layer_normalization()\n",
      "      (ff): Dummy_FeedForward(\n",
      "        (fc1): Linear(in_features=768, out_features=3072, bias=True)\n",
      "        (gelu): GELU()\n",
      "        (fc2): Linear(in_features=3072, out_features=768, bias=True)\n",
      "        (dropout): Dropout(p=0.1, inplace=False)\n",
      "      )\n",
      "    )\n",
      "    (8): Dummy_Transformer_Block(\n",
      "      (ln1): Dummay_Layer_normalization()\n",
      "      (attn): Dummy_SelfAttention(\n",
      "        (mha): MultiHeadAttention(\n",
      "          (W_query): Linear(in_features=768, out_features=768, bias=True)\n",
      "          (W_key): Linear(in_features=768, out_features=768, bias=True)\n",
      "          (W_value): Linear(in_features=768, out_features=768, bias=True)\n",
      "          (drop_out): Dropout(p=0.1, inplace=False)\n",
      "          (out_proj): Linear(in_features=768, out_features=768, bias=True)\n",
      "        )\n",
      "      )\n",
      "      (ln2): Dummay_Layer_normalization()\n",
      "      (ff): Dummy_FeedForward(\n",
      "        (fc1): Linear(in_features=768, out_features=3072, bias=True)\n",
      "        (gelu): GELU()\n",
      "        (fc2): Linear(in_features=3072, out_features=768, bias=True)\n",
      "        (dropout): Dropout(p=0.1, inplace=False)\n",
      "      )\n",
      "    )\n",
      "    (9): Dummy_Transformer_Block(\n",
      "      (ln1): Dummay_Layer_normalization()\n",
      "      (attn): Dummy_SelfAttention(\n",
      "        (mha): MultiHeadAttention(\n",
      "          (W_query): Linear(in_features=768, out_features=768, bias=True)\n",
      "          (W_key): Linear(in_features=768, out_features=768, bias=True)\n",
      "          (W_value): Linear(in_features=768, out_features=768, bias=True)\n",
      "          (drop_out): Dropout(p=0.1, inplace=False)\n",
      "          (out_proj): Linear(in_features=768, out_features=768, bias=True)\n",
      "        )\n",
      "      )\n",
      "      (ln2): Dummay_Layer_normalization()\n",
      "      (ff): Dummy_FeedForward(\n",
      "        (fc1): Linear(in_features=768, out_features=3072, bias=True)\n",
      "        (gelu): GELU()\n",
      "        (fc2): Linear(in_features=3072, out_features=768, bias=True)\n",
      "        (dropout): Dropout(p=0.1, inplace=False)\n",
      "      )\n",
      "    )\n",
      "    (10): Dummy_Transformer_Block(\n",
      "      (ln1): Dummay_Layer_normalization()\n",
      "      (attn): Dummy_SelfAttention(\n",
      "        (mha): MultiHeadAttention(\n",
      "          (W_query): Linear(in_features=768, out_features=768, bias=True)\n",
      "          (W_key): Linear(in_features=768, out_features=768, bias=True)\n",
      "          (W_value): Linear(in_features=768, out_features=768, bias=True)\n",
      "          (drop_out): Dropout(p=0.1, inplace=False)\n",
      "          (out_proj): Linear(in_features=768, out_features=768, bias=True)\n",
      "        )\n",
      "      )\n",
      "      (ln2): Dummay_Layer_normalization()\n",
      "      (ff): Dummy_FeedForward(\n",
      "        (fc1): Linear(in_features=768, out_features=3072, bias=True)\n",
      "        (gelu): GELU()\n",
      "        (fc2): Linear(in_features=3072, out_features=768, bias=True)\n",
      "        (dropout): Dropout(p=0.1, inplace=False)\n",
      "      )\n",
      "    )\n",
      "    (11): Dummy_Transformer_Block(\n",
      "      (ln1): Dummay_Layer_normalization()\n",
      "      (attn): Dummy_SelfAttention(\n",
      "        (mha): MultiHeadAttention(\n",
      "          (W_query): Linear(in_features=768, out_features=768, bias=True)\n",
      "          (W_key): Linear(in_features=768, out_features=768, bias=True)\n",
      "          (W_value): Linear(in_features=768, out_features=768, bias=True)\n",
      "          (drop_out): Dropout(p=0.1, inplace=False)\n",
      "          (out_proj): Linear(in_features=768, out_features=768, bias=True)\n",
      "        )\n",
      "      )\n",
      "      (ln2): Dummay_Layer_normalization()\n",
      "      (ff): Dummy_FeedForward(\n",
      "        (fc1): Linear(in_features=768, out_features=3072, bias=True)\n",
      "        (gelu): GELU()\n",
      "        (fc2): Linear(in_features=3072, out_features=768, bias=True)\n",
      "        (dropout): Dropout(p=0.1, inplace=False)\n",
      "      )\n",
      "    )\n",
      "  )\n",
      "  (final_norm): Dummay_Layer_normalization()\n",
      "  (out_head): Linear(in_features=768, out_features=50257, bias=False)\n",
      ")\n"
     ]
    }
   ],
   "source": [
    "print(scratch_gpt)"
   ]
  },
  {
   "cell_type": "code",
   "execution_count": null,
   "id": "b84d347b",
   "metadata": {},
   "outputs": [],
   "source": [
    "scratch_gpt.out_head=nn.Linear()"
   ]
  },
  {
   "cell_type": "code",
   "execution_count": 148,
   "id": "9fe06746",
   "metadata": {},
   "outputs": [],
   "source": [
    "# Replace the output head with a new one\n",
    "scratch_gpt.out_head = nn.Linear(\n",
    "    in_features=768,  \n",
    "    out_features=2,   \n",
    "    bias=False\n",
    ")"
   ]
  },
  {
   "cell_type": "code",
   "execution_count": 149,
   "id": "53cd5730",
   "metadata": {},
   "outputs": [],
   "source": [
    "# Freeze transformer blocks - don't update them\n",
    "for param in scratch_gpt.transformer_blocks.parameters():\n",
    "    param.requires_grad = False\n",
    "\n",
    "# Only train the new output head\n",
    "scratch_gpt.out_head.requires_grad = True"
   ]
  },
  {
   "cell_type": "code",
   "execution_count": 150,
   "id": "43656c82",
   "metadata": {},
   "outputs": [],
   "source": [
    "for param in scratch_gpt.transformer_blocks[-1].parameters():\n",
    "    param.requires_grad = True\n",
    "for param in scratch_gpt.final_norm.parameters():\n",
    "    param.requires_grad = True\n"
   ]
  },
  {
   "cell_type": "code",
   "execution_count": 151,
   "id": "083ec374",
   "metadata": {},
   "outputs": [
    {
     "name": "stdout",
     "output_type": "stream",
     "text": [
      "Inputs: tensor([[5211,  345,  423,  640]])\n",
      "Inputs dimensions: torch.Size([1, 4])\n"
     ]
    }
   ],
   "source": [
    "inputs = tokenizer.encode(\"Do you have time\")\n",
    "inputs = torch.tensor(inputs).unsqueeze(0)\n",
    "print(\"Inputs:\", inputs)\n",
    "print(\"Inputs dimensions:\", inputs.shape)\n"
   ]
  },
  {
   "cell_type": "code",
   "execution_count": 153,
   "id": "6583af59",
   "metadata": {},
   "outputs": [
    {
     "name": "stdout",
     "output_type": "stream",
     "text": [
      "torch.Size([1, 4, 2])\n"
     ]
    }
   ],
   "source": [
    "with torch.no_grad():\n",
    "    outputs=scratch_gpt(inputs)\n",
    "print(outputs.shape)"
   ]
  },
  {
   "cell_type": "code",
   "execution_count": 154,
   "id": "0e1e265c",
   "metadata": {},
   "outputs": [
    {
     "data": {
      "text/plain": [
       "tensor([[[ -3.5382,   2.0809],\n",
       "         [-12.9528,   9.4950],\n",
       "         [-10.7002,   8.6864],\n",
       "         [ -8.9292,   4.9248]]])"
      ]
     },
     "execution_count": 154,
     "metadata": {},
     "output_type": "execute_result"
    }
   ],
   "source": [
    "outputs"
   ]
  },
  {
   "cell_type": "code",
   "execution_count": 160,
   "id": "78e7bbfb",
   "metadata": {},
   "outputs": [],
   "source": [
    "def calc_accuracy_loader(data_loader,model,device,num_batches=None):\n",
    "    model.eval()\n",
    "    correct_prediction,num_examples=0,0\n",
    "    if num_batches is None:\n",
    "        num_batches=len(data_loader)\n",
    "        \n",
    "    else:\n",
    "        num_batches=min(num_batches,len(data_loader))\n",
    "    for i,(input_batch,target_batch) in enumerate(data_loader):\n",
    "        if i<num_batches   :\n",
    "            input_batch=input_batch.to(device)\n",
    "            target_batch=target_batch.to(device)\n",
    "            \n",
    "            with torch.no_grad():\n",
    "                logits=model(input_batch)[:,-1,:]\n",
    "            predicted_labels=torch.argmax(logits,dim=-1)\n",
    "            \n",
    "            num_examples+=predicted_labels.shape[0]\n",
    "            \n",
    "            correct_prediction+=((predicted_labels==target_batch).sum().item())\n",
    "            \n",
    "        else:\n",
    "            break\n",
    "        \n",
    "    return correct_prediction/num_examples"
   ]
  },
  {
   "cell_type": "code",
   "execution_count": 162,
   "id": "1be647e2",
   "metadata": {},
   "outputs": [
    {
     "name": "stdout",
     "output_type": "stream",
     "text": [
      "Training accuracy: 46.25%\n",
      "Validation accuracy: 45.00%\n",
      "Test accuracy: 48.75%\n"
     ]
    }
   ],
   "source": [
    "device = torch.device(\"cuda\" if torch.cuda.is_available() else \"cpu\")\n",
    "scratch_gpt.to(device)\n",
    "\n",
    "torch.manual_seed(123)\n",
    "train_accuracy = calc_accuracy_loader(\n",
    "    train_loader, scratch_gpt, device, num_batches=10\n",
    ")\n",
    "val_accuracy = calc_accuracy_loader(\n",
    "    val_loader, scratch_gpt, device, num_batches=10\n",
    ")\n",
    "test_accuracy = calc_accuracy_loader(\n",
    "    test_loader, scratch_gpt, device, num_batches=10\n",
    ")\n",
    "\n",
    "print(f\"Training accuracy: {train_accuracy*100:.2f}%\")\n",
    "print(f\"Validation accuracy: {val_accuracy*100:.2f}%\")\n",
    "print(f\"Test accuracy: {test_accuracy*100:.2f}%\")\n"
   ]
  },
  {
   "cell_type": "code",
   "execution_count": 163,
   "id": "661f7df4",
   "metadata": {},
   "outputs": [],
   "source": [
    "def cal_loss_batch(input_batch,target_batch,model,device):\n",
    "    input_batch=input_batch.to(device)\n",
    "    target_batch=target_batch.to(device)\n",
    "    logits=model(input_batch)[:,-1,:]\n",
    "    loss=torch.nn.functional.cross_entropy(logits,target_batch)\n",
    "    return loss\n",
    "    "
   ]
  },
  {
   "cell_type": "code",
   "execution_count": 164,
   "id": "5e1d666b",
   "metadata": {},
   "outputs": [],
   "source": [
    "def cal_loss_loader(data_loader, model, device, num_batches=None):\n",
    "    total_loss = 0.0\n",
    "    if len(data_loader) == 0:\n",
    "        return float(\"nan\")\n",
    "    if num_batches is None:\n",
    "        num_batches = len(data_loader)\n",
    "    else:\n",
    "        num_batches = min(num_batches, len(data_loader))\n",
    "    for i, (input_batch, target_batch) in enumerate(data_loader):\n",
    "        if i < num_batches:\n",
    "            loss = cal_loss_batch(input_batch, target_batch, model, device)\n",
    "            total_loss += loss.item()\n",
    "        else:\n",
    "            break\n",
    "    return total_loss / num_batches\n"
   ]
  },
  {
   "cell_type": "code",
   "execution_count": 167,
   "id": "d82126b4",
   "metadata": {},
   "outputs": [
    {
     "name": "stdout",
     "output_type": "stream",
     "text": [
      "Training loss: 8.207\n",
      "Validation loss: 9.544\n",
      "Test loss: 8.654\n"
     ]
    }
   ],
   "source": [
    "with torch.no_grad():\n",
    "    train_loss = cal_loss_loader(train_loader, scratch_gpt, device, num_batches=5)\n",
    "    val_loss = cal_loss_loader(val_loader, scratch_gpt, device, num_batches=5)\n",
    "    test_loss = cal_loss_loader(test_loader, scratch_gpt, device, num_batches=5)\n",
    "print(f\"Training loss: {train_loss:.3f}\")\n",
    "print(f\"Validation loss: {val_loss:.3f}\")\n",
    "print(f\"Test loss: {test_loss:.3f}\")\n"
   ]
  },
  {
   "cell_type": "code",
   "execution_count": 184,
   "id": "d3816564",
   "metadata": {},
   "outputs": [],
   "source": [
    "def train_classifier_simple(model, train_loader, val_loader, optimizer, device, num_epochs, eval_freq, eval_iter):\n",
    "    train_losses, val_losses, train_accs, val_accs = [], [], [], []\n",
    "    examples_seen = 0\n",
    "    global_step = 0\n",
    "    for epoch in range(num_epochs):\n",
    "        model.train()\n",
    "        for input_batch, target_batch in train_loader:\n",
    "            optimizer.zero_grad()\n",
    "            loss = cal_loss_batch(input_batch, target_batch, model, device)\n",
    "            loss.backward()\n",
    "            optimizer.step()\n",
    "            global_step += 1\n",
    "            examples_seen += input_batch.shape[0]\n",
    "            if global_step % eval_freq == 0:\n",
    "                model.eval()\n",
    "                with torch.no_grad():\n",
    "                    train_loss = cal_loss_loader(train_loader, model, device, num_batches=eval_iter)\n",
    "                    val_loss = cal_loss_loader(val_loader, model, device, num_batches=eval_iter)\n",
    "                train_losses.append(train_loss)\n",
    "                val_losses.append(val_loss)\n",
    "                print(f\"[{global_step:06d}] Step\")\n",
    "                print(f\"Train loss {train_loss:.3f}\")\n",
    "                print(f\"Val loss {val_loss:.3f}\")\n",
    "        train_accuracy = calc_accuracy_loader(train_loader, model, device, num_batches=eval_iter)\n",
    "        val_accuracy = calc_accuracy_loader(val_loader, model, device, num_batches=eval_iter)\n",
    "        print(f\"Training accuracy: {train_accuracy*100:.2f}%\", end=\"\")\n",
    "        print(f\"Validation accuracy: {val_accuracy*100:.2f}%\")\n",
    "        train_accs.append(train_accuracy)\n",
    "        val_accs.append(val_accuracy)\n",
    "    \n",
    "    return train_losses, val_losses, train_accs, val_accs, examples_seen"
   ]
  },
  {
   "cell_type": "code",
   "execution_count": 185,
   "id": "a2e3a764",
   "metadata": {},
   "outputs": [],
   "source": [
    "def evaluate_model(model, train_loader, val_loader, device, eval_iter):\n",
    "    model.eval()\n",
    "    with torch.no_grad():\n",
    "        train_loss = cal_loss_loader(train_loader, model, device, num_batches=eval_iter)\n",
    "        val_loss = cal_loss_loader(val_loader, model, device, num_batches=eval_iter)\n",
    "    model.train()\n",
    "    return train_loss, val_loss\n"
   ]
  },
  {
   "cell_type": "code",
   "execution_count": 186,
   "id": "071563f5",
   "metadata": {},
   "outputs": [
    {
     "data": {
      "text/plain": [
       "130"
      ]
     },
     "execution_count": 186,
     "metadata": {},
     "output_type": "execute_result"
    }
   ],
   "source": [
    "len(train_loader)"
   ]
  },
  {
   "cell_type": "code",
   "execution_count": 187,
   "id": "c16fb91e",
   "metadata": {},
   "outputs": [
    {
     "name": "stdout",
     "output_type": "stream",
     "text": [
      "[000050] Step\n",
      "Train loss 0.220\n",
      "Val loss 1.220\n",
      "[000100] Step\n",
      "Train loss 0.127\n",
      "Val loss 0.743\n",
      "Training accuracy: 95.00%Validation accuracy: 75.00%\n",
      "[000150] Step\n",
      "Train loss 0.198\n",
      "Val loss 1.279\n",
      "[000200] Step\n",
      "Train loss 0.214\n",
      "Val loss 0.457\n",
      "[000250] Step\n",
      "Train loss 0.027\n",
      "Val loss 0.629\n",
      "Training accuracy: 95.00%Validation accuracy: 77.50%\n",
      "[000300] Step\n",
      "Train loss 0.055\n",
      "Val loss 0.843\n",
      "[000350] Step\n",
      "Train loss 0.082\n",
      "Val loss 0.400\n",
      "Training accuracy: 97.50%Validation accuracy: 80.00%\n",
      "[000400] Step\n",
      "Train loss 0.011\n",
      "Val loss 0.419\n",
      "[000450] Step\n",
      "Train loss 0.011\n",
      "Val loss 0.363\n",
      "[000500] Step\n",
      "Train loss 0.114\n",
      "Val loss 0.518\n",
      "Training accuracy: 95.00%Validation accuracy: 87.50%\n",
      "[000550] Step\n",
      "Train loss 0.123\n",
      "Val loss 0.597\n",
      "[000600] Step\n",
      "Train loss 0.080\n",
      "Val loss 0.427\n",
      "[000650] Step\n",
      "Train loss 0.009\n",
      "Val loss 0.394\n",
      "Training accuracy: 100.00%Validation accuracy: 87.50%\n",
      "Training completed in 1.20 minutes.\n"
     ]
    }
   ],
   "source": [
    "import time\n",
    "\n",
    "start_time = time.time()\n",
    "torch.manual_seed(123)\n",
    "optimizer = torch.optim.AdamW(scratch_gpt.parameters(), lr=5e-5, weight_decay=0.1)\n",
    "num_epochs = 5\n",
    "\n",
    "train_losses, val_losses, train_accs, val_accs, examples_seen = train_classifier_simple(\n",
    "    scratch_gpt, train_loader, val_loader, optimizer, device,\n",
    "    num_epochs=num_epochs, eval_freq=50, eval_iter=5\n",
    ")\n",
    "\n",
    "end_time = time.time()\n",
    "execution_time_minutes = (end_time - start_time) / 60\n",
    "print(f\"Training completed in {execution_time_minutes:.2f} minutes.\")\n"
   ]
  },
  {
   "cell_type": "code",
   "execution_count": 188,
   "id": "666a0066",
   "metadata": {},
   "outputs": [
    {
     "data": {
      "image/png": "[encoded data removed]",
      "text/plain": [
       "<Figure size 500x300 with 2 Axes>"
      ]
     },
     "metadata": {},
     "output_type": "display_data"
    }
   ],
   "source": [
    "import matplotlib.pyplot as plt\n",
    "\n",
    "def plot_values(epochs_seen, examples_seen, train_values, val_values, label=\"loss\"):\n",
    "    fig, ax = plt.subplots(figsize=(5, 3))\n",
    "    ax.plot(epochs_seen, train_values, label=f\"Training {label}\")\n",
    "    ax.plot(epochs_seen, val_values, linestyle=\"--\", label=f\"Validation {label}\")\n",
    "    ax.set_xlabel(\"Epochs\")\n",
    "    ax.set_ylabel(label.capitalize())\n",
    "    ax.legend(loc=\"upper left\")\n",
    "    ax2 = ax.twiny()\n",
    "    ax2.set_xlim(ax.get_xlim())\n",
    "    xticks = ax.get_xticks()\n",
    "    ax2.set_xticks(xticks)\n",
    "    ex_seen_ticks = torch.linspace(examples_seen[0].item(), examples_seen[-1].item(), len(xticks))\n",
    "    ex_seen_labels = [f\"{int(e):,}\" for e in ex_seen_ticks]\n",
    "    ax2.set_xticklabels(ex_seen_labels)\n",
    "    ax2.set_xlabel(\"Examples seen (count)\")\n",
    "    fig.tight_layout()\n",
    "    plt.show()\n",
    "\n",
    "epochs_tensor = torch.linspace(0, num_epochs, len(train_losses))\n",
    "examples_seen_tensor = torch.linspace(0, examples_seen, len(train_losses))\n",
    "\n",
    "plot_values(epochs_tensor, examples_seen_tensor, train_losses, val_losses)\n"
   ]
  },
  {
   "cell_type": "code",
   "execution_count": 189,
   "id": "ba5ab2a5",
   "metadata": {},
   "outputs": [
    {
     "data": {
      "image/png": "[encoded data removed]",
      "text/plain": [
       "<Figure size 500x300 with 2 Axes>"
      ]
     },
     "metadata": {},
     "output_type": "display_data"
    }
   ],
   "source": [
    "epochs_tensor = torch.linspace(0, num_epochs, len(train_accs))\n",
    "examples_seen_tensor = torch.linspace(0, examples_seen if isinstance(examples_seen, (int, float)) else examples_seen[-1], len(train_accs))\n",
    "plot_values(epochs_tensor, examples_seen_tensor, train_accs, val_accs, label=\"accuracy\")\n"
   ]
  },
  {
   "cell_type": "code",
   "execution_count": 190,
   "id": "11df145a",
   "metadata": {},
   "outputs": [
    {
     "name": "stdout",
     "output_type": "stream",
     "text": [
      "Train accs: [0.95, 0.95, 0.975, 0.95, 1.0]\n",
      "Val accs: [0.75, 0.775, 0.8, 0.875, 0.875]\n",
      "Length of train_accs: 5\n",
      "Length of val_accs: 5\n"
     ]
    }
   ],
   "source": [
    "print(f\"Train accs: {train_accs}\")\n",
    "print(f\"Val accs: {val_accs}\")\n",
    "print(f\"Length of train_accs: {len(train_accs)}\")\n",
    "print(f\"Length of val_accs: {len(val_accs)}\")"
   ]
  },
  {
   "cell_type": "code",
   "execution_count": 191,
   "id": "5c573db2",
   "metadata": {},
   "outputs": [
    {
     "name": "stdout",
     "output_type": "stream",
     "text": [
      "Epochs tensor: tensor([0.0000, 1.2500, 2.5000, 3.7500, 5.0000])\n",
      "Examples tensor: tensor([   0., 1300., 2600., 3900., 5200.])\n",
      "Epochs tensor shape: torch.Size([5])\n",
      "Examples tensor shape: torch.Size([5])\n"
     ]
    }
   ],
   "source": [
    "print(f\"Epochs tensor: {epochs_tensor}\")\n",
    "print(f\"Examples tensor: {examples_seen_tensor}\")\n",
    "print(f\"Epochs tensor shape: {epochs_tensor.shape}\")\n",
    "print(f\"Examples tensor shape: {examples_seen_tensor.shape}\")"
   ]
  },
  {
   "cell_type": "code",
   "execution_count": 192,
   "id": "1a3fa9bd",
   "metadata": {},
   "outputs": [],
   "source": [
    "# Add debug prints to your plot function:\n",
    "def plot_values(epochs_seen, examples_seen, train_values, val_values, label=\"loss\"):\n",
    "    print(f\"Plotting with:\")\n",
    "    print(f\"  epochs_seen: {epochs_seen}\")\n",
    "    print(f\"  train_values: {train_values}\")\n",
    "    print(f\"  val_values: {val_values}\")\n",
    "    \n",
    "    fig, ax1 = plt.subplots(figsize=(5, 3))\n",
    "    ax1.plot(epochs_seen, train_values, label=f\"Training {label}\")\n",
    "    ax1.plot(epochs_seen, val_values, linestyle=\"--\", label=f\"Validation {label}\")\n",
    "    ax1.set_xlabel(\"Epochs\")\n",
    "    ax1.set_ylabel(label.capitalize())\n",
    "    ax1.legend(loc=\"upper right\")\n",
    "    \n",
    "    ax2 = ax1.twinx()\n",
    "    ax2.set_ylabel(\"Examples seen\")\n",
    "    \n",
    "    fig.tight_layout()\n",
    "    plt.show()"
   ]
  },
  {
   "cell_type": "code",
   "execution_count": 193,
   "id": "150d251b",
   "metadata": {},
   "outputs": [
    {
     "name": "stdout",
     "output_type": "stream",
     "text": [
      "Plotting with:\n",
      "  epochs_seen: tensor([0.0000, 1.2500, 2.5000, 3.7500, 5.0000])\n",
      "  train_values: [0.95, 0.95, 0.975, 0.95, 1.0]\n",
      "  val_values: [0.75, 0.775, 0.8, 0.875, 0.875]\n"
     ]
    },
    {
     "data": {
      "image/png": "[encoded data removed]",
      "text/plain": [
       "<Figure size 500x300 with 2 Axes>"
      ]
     },
     "metadata": {},
     "output_type": "display_data"
    }
   ],
   "source": [
    "plot_values(epochs_tensor, examples_seen_tensor, train_accs, val_accs, label=\"accuracy\")\n"
   ]
  },
  {
   "cell_type": "code",
   "execution_count": 195,
   "id": "f2217e41",
   "metadata": {},
   "outputs": [
    {
     "name": "stdout",
     "output_type": "stream",
     "text": [
      "Training accuracy: 99.33%\n",
      "Validation accuracy: 88.59%\n",
      "Test accuracy: 94.33%\n"
     ]
    }
   ],
   "source": [
    "train_accuracy = calc_accuracy_loader(train_loader, scratch_gpt, device)\n",
    "val_accuracy = calc_accuracy_loader(val_loader, scratch_gpt, device)\n",
    "test_accuracy = calc_accuracy_loader(test_loader, scratch_gpt, device)\n",
    "\n",
    "print(f\"Training accuracy: {train_accuracy*100:.2f}%\")\n",
    "print(f\"Validation accuracy: {val_accuracy*100:.2f}%\")\n",
    "print(f\"Test accuracy: {test_accuracy*100:.2f}%\")\n"
   ]
  },
  {
   "cell_type": "code",
   "execution_count": 196,
   "id": "bbb3d222",
   "metadata": {},
   "outputs": [],
   "source": [
    "def classify_review(\n",
    "    text, model, tokenizer, device, max_length=None, pad_token_id=50256\n",
    "):\n",
    "    model.eval()\n",
    "    input_ids = tokenizer.encode(text)\n",
    "    supported_context_length = model.pos_emb.weight.shape[0]\n",
    "    input_ids = input_ids[:min(\n",
    "        max_length if max_length is not None else supported_context_length,\n",
    "        supported_context_length\n",
    "    )]\n",
    "    if max_length is not None:\n",
    "        input_ids = [pad_token_id] * (max_length - len(input_ids)) + input_ids\n",
    "    input_tensor = torch.tensor([input_ids], dtype=torch.long, device=device)\n",
    "    with torch.no_grad():\n",
    "        logits = model(input_tensor)[:, -1, :]\n",
    "        predicted_label = torch.argmax(logits, dim=-1).item()\n",
    "    return \"spam\" if predicted_label == 1 else \"not spam\"\n"
   ]
  },
  {
   "cell_type": "code",
   "execution_count": 198,
   "id": "e7803c9f",
   "metadata": {},
   "outputs": [
    {
     "name": "stdout",
     "output_type": "stream",
     "text": [
      "spam\n"
     ]
    }
   ],
   "source": [
    "text_1 = (\n",
    "    \"You are a winner you have been specially \"\n",
    "    \"selected to receive $1000 cash or a $2000 award.\"\n",
    ")\n",
    "\n",
    "print(classify_review(\n",
    "    text_1, scratch_gpt, tokenizer, device, max_length=train_dataset_for_fine_tuning.max_length\n",
    "))\n"
   ]
  },
  {
   "cell_type": "code",
   "execution_count": 199,
   "id": "b0788b5b",
   "metadata": {},
   "outputs": [
    {
     "name": "stdout",
     "output_type": "stream",
     "text": [
      "not spam\n"
     ]
    }
   ],
   "source": [
    "text_2 = (\n",
    "    \"Hey, just wanted to check if we're still on \"\n",
    "    \"for dinner tonight? Let me know!\"\n",
    ")\n",
    "\n",
    "print(classify_review(\n",
    "    text_2, scratch_gpt, tokenizer, device, max_length=train_dataset_for_fine_tuning.max_length\n",
    "))\n"
   ]
  },
  {
   "cell_type": "code",
   "execution_count": 200,
   "id": "d7edf6a2",
   "metadata": {},
   "outputs": [],
   "source": [
    "torch.save(scratch_gpt.state_dict(), \"review_classifier.pth\")\n"
   ]
  },
  {
   "cell_type": "code",
   "execution_count": null,
   "id": "58d344d0",
   "metadata": {},
   "outputs": [],
   "source": []
  }
 ],
 "metadata": {
  "kernelspec": {
   "display_name": "Python 3.11 (torch-cu126 CUDA)",
   "language": "python",
   "name": "torch-cu126"
  },
  "language_info": {
   "codemirror_mode": {
    "name": "ipython",
    "version": 3
   },
   "file_extension": ".py",
   "mimetype": "text/x-python",
   "name": "python",
   "nbconvert_exporter": "python",
   "pygments_lexer": "ipython3",
   "version": "3.11.9"
  }
 },
 "nbformat": 4,
 "nbformat_minor": 5
}
